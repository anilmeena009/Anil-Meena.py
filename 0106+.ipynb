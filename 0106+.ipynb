{
 "cells": [
  {
   "cell_type": "code",
   "execution_count": 2,
   "id": "35df5cae-1420-4c0a-8719-b8d7ded6bc06",
   "metadata": {},
   "outputs": [
    {
     "name": "stdout",
     "output_type": "stream",
     "text": [
      "Name of employee is :sam and jobrole is :Frontend Developer\n",
      "Name of employee is :Rahul and jobrole is :MLOPS Engineer\n"
     ]
    },
    {
     "data": {
      "text/plain": [
       "'Jaipur'"
      ]
     },
     "execution_count": 2,
     "metadata": {},
     "output_type": "execute_result"
    }
   ],
   "source": [
    "class Employee:\n",
    "    location = 'Jaipur' \n",
    "    \n",
    "    def __init__(self,name , jobrole):\n",
    "        self.name = name\n",
    "        self.jobrole = jobrole \n",
    "    \n",
    "    def getInfo(self):\n",
    "        print(f\"Name of employee is :{self.name} and jobrole is :{self.jobrole}\")\n",
    "\n",
    "e = Employee('sam', 'Frontend Developer')  \n",
    "e.getInfo()\n",
    "a = Employee('Rahul', 'MLOPS Engineer')\n",
    "a.getInfo()\n",
    "Employee.location"
   ]
  },
  {
   "cell_type": "code",
   "execution_count": 3,
   "id": "8df1c228-e383-4022-a902-fb2897a7acdc",
   "metadata": {},
   "outputs": [
    {
     "name": "stdout",
     "output_type": "stream",
     "text": [
      "Buddy says Woof!\n",
      "Golden Retriever this is breed\n",
      "Max says Woof!\n",
      "Labrador this is breed\n"
     ]
    }
   ],
   "source": [
    "# Example with self\n",
    "class Dog:\n",
    "    def __init__(self, name, breed):  # Constructor with 'self'\n",
    "        self.name = name  # 'self.name' binds to the instance attribute\n",
    "        self.breed = breed\n",
    "\n",
    "    def bark(self):\n",
    "        print(f\"{self.name} says Woof!\")\n",
    "        print(f\"{self.breed} this is breed\")        \n",
    "    \n",
    "dog1 = Dog(\"Buddy\", \"Golden Retriever\")\n",
    "dog2 = Dog(\"Max\", \"Labrador\")\n",
    "\n",
    "# Access attributes and methods\n",
    "dog1.bark()  \n",
    "dog2.bark()  \n"
   ]
  },
  {
   "cell_type": "code",
   "execution_count": 5,
   "id": "6906685c-e874-4dd0-98a3-79ac15ccd162",
   "metadata": {},
   "outputs": [
    {
     "name": "stdout",
     "output_type": "stream",
     "text": [
      "My dog's name is Buddy and its breed is Golden Retriever.\n",
      "Buddy says Woof!\n"
     ]
    }
   ],
   "source": [
    "class Dog:\n",
    "    def __init__(self, name, breed):\n",
    "        self.name = name  # Attributes\n",
    "        self.breed = breed\n",
    "\n",
    "    def bark(self):  # Method\n",
    "        print(f\"{self.name} says Woof!\")\n",
    "\n",
    "# Creating an object of the class\n",
    "my_dog = Dog(\"Buddy\", \"Golden Retriever\")\n",
    "\n",
    "# Accessing attributes and methods\n",
    "print(f\"My dog's name is {my_dog.name} and its breed is {my_dog.breed}.\")\n",
    "my_dog.bark()\n"
   ]
  },
  {
   "cell_type": "code",
   "execution_count": 6,
   "id": "5bcb373c-26f2-4d59-8724-3df7c0c752a4",
   "metadata": {},
   "outputs": [
    {
     "name": "stdout",
     "output_type": "stream",
     "text": [
      "12\n",
      "8\n",
      "20\n",
      "5.0\n"
     ]
    }
   ],
   "source": [
    "class Calculator:\n",
    "    def __init__(self, num1, num2):\n",
    "        self.num1 = num1\n",
    "        self.num2 = num2\n",
    "\n",
    "    def add(self):\n",
    "        return self.num1 + self.num2\n",
    "\n",
    "    def subtract(self):\n",
    "        return self.num1 - self.num2\n",
    "\n",
    "    def multiply(self):\n",
    "        return self.num1 * self.num2\n",
    "\n",
    "    def divide(self):\n",
    "        if self.num2 != 0:\n",
    "            return self.num1 / self.num2\n",
    "        else:\n",
    "            return \"Division by zero is not allowed!\"\n",
    "\n",
    "calc = Calculator(10,2)\n",
    "print(calc.add())       \n",
    "print(calc.subtract())  \n",
    "print(calc.multiply())  \n",
    "print(calc.divide())    "
   ]
  },
  {
   "cell_type": "code",
   "execution_count": null,
   "id": "41975681-1cda-42d4-95a0-cf5f91e8ab4a",
   "metadata": {},
   "outputs": [],
   "source": []
  }
 ],
 "metadata": {
  "kernelspec": {
   "display_name": "Python [conda env:base] *",
   "language": "python",
   "name": "conda-base-py"
  },
  "language_info": {
   "codemirror_mode": {
    "name": "ipython",
    "version": 3
   },
   "file_extension": ".py",
   "mimetype": "text/x-python",
   "name": "python",
   "nbconvert_exporter": "python",
   "pygments_lexer": "ipython3",
   "version": "3.12.7"
  }
 },
 "nbformat": 4,
 "nbformat_minor": 5
}

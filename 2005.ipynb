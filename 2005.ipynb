{
 "cells": [
  {
   "cell_type": "code",
   "execution_count": 1,
   "id": "6f8b069b-41da-4bab-bc9e-251a22168171",
   "metadata": {},
   "outputs": [
    {
     "name": "stdout",
     "output_type": "stream",
     "text": [
      "<class 'list'>\n",
      "['anil', 'kumar', 'meena', 0, 1, 2, 3]\n"
     ]
    }
   ],
   "source": [
    "# questions in list\n",
    "\n",
    "list=[\"anil\",\"kumar\",\"meena\",0,1,2,3]\n",
    "print(type(list))\n",
    "print(list)"
   ]
  },
  {
   "cell_type": "code",
   "execution_count": 11,
   "id": "6d7e6c89-7a3d-4e01-85ec-86f7b7aa16d0",
   "metadata": {},
   "outputs": [
    {
     "name": "stdout",
     "output_type": "stream",
     "text": [
      "number of digits: [1, 2, 3, 4, 5]\n",
      "sum of digits: 15\n"
     ]
    }
   ],
   "source": [
    "# Sum of digits of a number using list\n",
    "number = 12345\n",
    "digits = [int(digit) for digit in str(number)]\n",
    "sum_of_digits = sum(digits)\n",
    "print(\"number of digits:\", digits)\n",
    "print(\"sum of digits:\", sum_of_digits)\n"
   ]
  },
  {
   "cell_type": "code",
   "execution_count": 35,
   "id": "452a4bc0-c209-491e-aed2-fb01aea37af9",
   "metadata": {},
   "outputs": [
    {
     "name": "stdout",
     "output_type": "stream",
     "text": [
      "Sum of even numbers: [2, 4, 6]\n"
     ]
    }
   ],
   "source": [
    "# find all even numbers in a list.\n",
    "numbers = [1, 2, 3, 4, 5, 6]\n",
    "even_sum=[num for num in numbers if num%2==0]\n",
    "print(\"Sum of even numbers:\", even_sum)"
   ]
  },
  {
   "cell_type": "code",
   "execution_count": 43,
   "id": "e4a30dc1-fadc-430c-b1f3-e039256e67b5",
   "metadata": {},
   "outputs": [
    {
     "name": "stdout",
     "output_type": "stream",
     "text": [
      "True\n"
     ]
    }
   ],
   "source": [
    "# check string is palindrome or not\n",
    "def is_palindrome(string):\n",
    "    revstr = \"\"\n",
    "    for i in string:\n",
    "        revstr = i + revstr\n",
    "    return string == revstr\n",
    "print(is_palindrome(\"level\"))\n",
    "\n"
   ]
  },
  {
   "cell_type": "code",
   "execution_count": null,
   "id": "c7f067cc-db3e-4517-81de-64fa870b7374",
   "metadata": {},
   "outputs": [],
   "source": [
    "# Find the sum of the digits\n",
    "num_str = input(\"Enter a number: \")\n",
    "digits = [int(digit) for digit in num_str if digit.isdigit()]\n",
    "sum_of_digits = sum(digits)\n",
    "print(f\"The sum of digits in {num_str} is {sum_of_digits}.\")\n"
   ]
  },
  {
   "cell_type": "code",
   "execution_count": 4,
   "id": "2e900a40-4a69-4bb5-a1d6-cfd478f73070",
   "metadata": {},
   "outputs": [
    {
     "name": "stdout",
     "output_type": "stream",
     "text": [
      "{'name': 'Rahul', 'age': 20, 'grade': 'A'}\n",
      "{'name': 'Rahul', 'grade': 'A'}\n"
     ]
    }
   ],
   "source": [
    "# question in dictionary\n",
    "\n",
    "student = {\"name\": \"Rahul\", \"age\": 20}\n",
    "student[\"grade\"] = \"A\"\n",
    "print(student)\n",
    "del student[\"age\"]\n",
    "print(student)"
   ]
  },
  {
   "cell_type": "code",
   "execution_count": 19,
   "id": "025aa48a-2e0e-4385-af4b-dc54d9e06b99",
   "metadata": {},
   "outputs": [
    {
     "name": "stdout",
     "output_type": "stream",
     "text": [
      "Dictionary: {'num1': 10, 'num2': 20, 'num3': 30}\n",
      "Sum of the three numbers is: 60\n"
     ]
    }
   ],
   "source": [
    "nums = [10, 20, 30]\n",
    "numbers = {f'num{i+1}': nums[i] for i in range(3)}\n",
    "total = sum(numbers.values())\n",
    "print(\"Dictionary:\", numbers)\n",
    "print(\"Sum of the three numbers is:\", total)\n"
   ]
  },
  {
   "cell_type": "code",
   "execution_count": null,
   "id": "7641f609-0685-409d-bd64-dbcdf406b05a",
   "metadata": {},
   "outputs": [],
   "source": []
  }
 ],
 "metadata": {
  "kernelspec": {
   "display_name": "Python [conda env:base] *",
   "language": "python",
   "name": "conda-base-py"
  },
  "language_info": {
   "codemirror_mode": {
    "name": "ipython",
    "version": 3
   },
   "file_extension": ".py",
   "mimetype": "text/x-python",
   "name": "python",
   "nbconvert_exporter": "python",
   "pygments_lexer": "ipython3",
   "version": "3.12.7"
  }
 },
 "nbformat": 4,
 "nbformat_minor": 5
}

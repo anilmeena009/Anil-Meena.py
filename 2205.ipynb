{
 "cells": [
  {
   "cell_type": "code",
   "execution_count": 1,
   "id": "67c5d9ee-13d8-45de-aea6-9b4b09a1df95",
   "metadata": {},
   "outputs": [],
   "source": [
    "# inheritence in oops->inheritance is a fundamentel concept in oops \n",
    "# that allows a class (child class)to inherit attributs and methods from another class(parent class)\n",
    "# and this reusablity and modularity\n",
    "# key benifits of inheritence \n",
    "# 1 code reusablity->the child clas can reuse the code in the parent class\n",
    "# 2.exteciblity->the child class can add and modify funclity in class\n",
    "# 3 herirical structure ->relationship betwwen classes are more orgnize\n",
    "# types->\n",
    "# 1. single->\n",
    "# 2. multiple inheritence\n",
    "# 3. multi-level inheritence"
   ]
  },
  {
   "cell_type": "code",
   "execution_count": 4,
   "id": "588c42e3-19ed-4385-b490-7116c1094e0e",
   "metadata": {},
   "outputs": [
    {
     "name": "stdout",
     "output_type": "stream",
     "text": [
      "Name of location isjaipur\n",
      "project is schediled..\n",
      "Name of location isjaipur\n"
     ]
    }
   ],
   "source": [
    "# 1. single->\n",
    "class Employee:\n",
    "    def __init__ (self,location):\n",
    "        self.location=location\n",
    "    def get_location(self):\n",
    "        print(f\"Name of location is{self.location}\")\n",
    "class Manager (Employee):\n",
    "    def get_project(self):\n",
    "        print(\"project is schediled..\")\n",
    "sam= Employee('jaipur')\n",
    "sam.get_location()\n",
    "mohit=Manager('delhi')\n",
    "mohit.get_project()\n",
    "sam.get_location()"
   ]
  },
  {
   "cell_type": "code",
   "execution_count": 7,
   "id": "c69d5294-c234-4659-8eb1-e3f552e4684a",
   "metadata": {},
   "outputs": [
    {
     "name": "stdout",
     "output_type": "stream",
     "text": [
      "engine is started\n",
      "wheels are rotating\n",
      "car is driving\n"
     ]
    }
   ],
   "source": [
    "# 2. multiple inheritence->\n",
    "class Engine:\n",
    "    def start_engine(self):\n",
    "        print(\"engine is started\")\n",
    "class Wheels:\n",
    "    def rotate_wheels(self):\n",
    "        print(\"wheels are rotating\")\n",
    "class Car(Engine,Wheels):\n",
    "    def drive(self):\n",
    "        print(\"car is driving\")\n",
    "my_car=Car()\n",
    "my_car.start_engine()\n",
    "my_car.rotate_wheels()\n",
    "my_car.drive()"
   ]
  },
  {
   "cell_type": "code",
   "execution_count": 10,
   "id": "74031106-c404-4947-b6ff-566e679c1868",
   "metadata": {},
   "outputs": [
    {
     "name": "stdout",
     "output_type": "stream",
     "text": [
      "animal is eating\n",
      "animal is barking\n",
      "puppy is weeping\n"
     ]
    }
   ],
   "source": [
    "# 3. multi-level inheritence->\n",
    "class Animal:\n",
    "    def eat(self):\n",
    "        print(\"animal is eating\")\n",
    "class Dog(Animal):\n",
    "    def bark(self):\n",
    "        print(\"animal is barking\")\n",
    "class Puppy(Dog):\n",
    "    def weep(self):\n",
    "        print(\"puppy is weeping\")\n",
    "puppy=Puppy()\n",
    "puppy.eat()\n",
    "puppy.bark()\n",
    "puppy.weep()\n"
   ]
  },
  {
   "cell_type": "code",
   "execution_count": 3,
   "id": "38dd1956-86ce-45b3-8c8f-082b53957754",
   "metadata": {},
   "outputs": [
    {
     "name": "stdout",
     "output_type": "stream",
     "text": [
      "order summry\n",
      " customer nameanil,contect585442245\n",
      "product:keyword:,price₹599\n",
      "----------\n"
     ]
    }
   ],
   "source": [
    "# case study 1:E-commerce order management\n",
    "class Customer:\n",
    "    def __init__(self,name,contect):\n",
    "        self.name=name\n",
    "        self.contect=contect\n",
    "    def get_customer_details(self):\n",
    "        return f\" customer name{self.name},contect{self.contect}\"\n",
    "class Product:\n",
    "    def __init__(self,product_name,price):\n",
    "        self.product_name=product_name\n",
    "        self.price=price\n",
    "    def get_product_details(self):\n",
    "        return f\"product:{self.product_name},price₹{self.price}\"\n",
    "class Order(Customer,Product):\n",
    "    def __init__ (self,name,contect,product_name,price):\n",
    "        Customer.__init__(self,name,contect)\n",
    "        Product.__init__(self,product_name,price)\n",
    "    def genrate_order_summry(self):\n",
    "        print(\"order summry\")\n",
    "        print(self.get_customer_details())\n",
    "        print(self.get_product_details())\n",
    "        print(\"----------\")\n",
    "order1=Order(\"anil\",\"585442245\",\"keyword:\",\"599\") \n",
    "order1. genrate_order_summry()"
   ]
  },
  {
   "cell_type": "code",
   "execution_count": 25,
   "id": "7e284a64-9eb3-4bd8-a0d7-1e9eaa84f46c",
   "metadata": {},
   "outputs": [],
   "source": [
    "# CLASS method-> A class method is a method that operates on the class itself reather then \n",
    "# an instece of the class it is define using the \"@\" classmethod decorater and take \"cls\"\n",
    "# as its first parameter\n",
    "# features of class method-its oprate the class rather then instance specific dat we can modify the class str using cls\n",
    "# it can be called on both the class end it objects"
   ]
  },
  {
   "cell_type": "code",
   "execution_count": null,
   "id": "9d3b93ce-5579-46fd-90ad-6c625e746261",
   "metadata": {},
   "outputs": [],
   "source": []
  }
 ],
 "metadata": {
  "kernelspec": {
   "display_name": "Python [conda env:base] *",
   "language": "python",
   "name": "conda-base-py"
  },
  "language_info": {
   "codemirror_mode": {
    "name": "ipython",
    "version": 3
   },
   "file_extension": ".py",
   "mimetype": "text/x-python",
   "name": "python",
   "nbconvert_exporter": "python",
   "pygments_lexer": "ipython3",
   "version": "3.12.7"
  }
 },
 "nbformat": 4,
 "nbformat_minor": 5
}

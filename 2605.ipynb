{
 "cells": [
  {
   "cell_type": "code",
   "execution_count": 1,
   "id": "dd484d06-1d0d-4b7e-9ffa-9431e9d024c4",
   "metadata": {},
   "outputs": [],
   "source": [
    "# features  of static method->\n",
    "# 1->.does not requre self or cls as a parameter.\n",
    "# 2->can't modify class and enstent attributes."
   ]
  },
  {
   "cell_type": "code",
   "execution_count": 3,
   "id": "ebfacbe0-363c-41ea-a833-2b36221eb5d1",
   "metadata": {},
   "outputs": [
    {
     "name": "stdout",
     "output_type": "stream",
     "text": [
      "Name of employee issam and role isfrontenddeveloper\n",
      "This is great job\n",
      "Total is 12\n"
     ]
    }
   ],
   "source": [
    "class Employee:\n",
    "    location='jaipu'\n",
    "    def __init__(self,name ,role):\n",
    "        self.name=name\n",
    "        self.role=role\n",
    "    def getInfo(self):\n",
    "        print(f\"Name of employee is{self.name} and role is{self.role}\")\n",
    "    @staticmethod\n",
    "    def NewInfo():\n",
    "        print(f\"This is great job\")\n",
    "        a=5\n",
    "        b=7\n",
    "        c=a+b\n",
    "        print(\"Total is\",c)\n",
    "a=Employee('sam','frontenddeveloper')\n",
    "a.getInfo()\n",
    "a.NewInfo()"
   ]
  },
  {
   "cell_type": "code",
   "execution_count": 7,
   "id": "3540df5a-b2ae-49c8-85b5-7fe12abfd3d2",
   "metadata": {},
   "outputs": [
    {
     "name": "stdout",
     "output_type": "stream",
     "text": [
      "Hello ,I am sam from the parent class.\n",
      "I am 10From the child class.\n"
     ]
    }
   ],
   "source": [
    "# 3.->super method->the super method is use to call a method onthe parent class in the context of inheritence\n",
    "# it allows us to avoid explicity refrie to parent class and  the makes the code more maintainable\n",
    "\n",
    "# features ->accesses parent class method or attribute useful in multilevel or multiple inheritence\n",
    "# help in avoiding code ----\n",
    "class Parent:\n",
    "    def __init__(self,name):\n",
    "        self.name=name\n",
    "    def greet(self):\n",
    "        print(f\"Hello ,I am {self.name} from the parent class.\")\n",
    "class Child(Parent):\n",
    "    def __init__(self,name ,age):\n",
    "        super().__init__(name)\n",
    "        self.age=age\n",
    "    def greet(self):\n",
    "        super().greet()\n",
    "        print(f\"I am {self.age}From the child class.\")\n",
    "child=Child('sam',10)\n",
    "child.greet()"
   ]
  },
  {
   "cell_type": "code",
   "execution_count": 31,
   "id": "ae7952f6-fc1e-4c50-ab2c-4b6717f8e68f",
   "metadata": {},
   "outputs": [
    {
     "name": "stdout",
     "output_type": "stream",
     "text": [
      "vehicle is moving\n"
     ]
    },
    {
     "data": {
      "text/plain": [
       "<bound method Bike.move of <__main__.Bike object at 0x000002182BEFC2F0>>"
      ]
     },
     "execution_count": 31,
     "metadata": {},
     "output_type": "execute_result"
    }
   ],
   "source": [
    "# polymorephysm allow object of diffrent clsses to be trited as object as super class\n",
    "# it unable a single inter face to represent diff unter line form\n",
    "# this makes the code more flixible reusable and easyer to extend.\n",
    "class Vehicle:\n",
    "    def move(self):\n",
    "        print(\"vehicle is moving\")\n",
    "class Car(Vehicle):\n",
    "    def move(self):\n",
    "        print(\"car is moving on four wheel\")\n",
    "class Bike(Vehicle):\n",
    "    def move(self):\n",
    "        print(\"bike is moving on two wheel\")\n",
    "vehicle=Vehicle()\n",
    "car=Car()\n",
    "bike=Bike()\n",
    "vehicle.move()\n",
    "car.move\n",
    "bike.move"
   ]
  },
  {
   "cell_type": "code",
   "execution_count": 14,
   "id": "89989fef-5c6e-436e-ac49-bf82b8911526",
   "metadata": {},
   "outputs": [
    {
     "ename": "SyntaxError",
     "evalue": "invalid syntax (3687931930.py, line 4)",
     "output_type": "error",
     "traceback": [
      "\u001b[1;36m  Cell \u001b[1;32mIn[14], line 4\u001b[1;36m\u001b[0m\n\u001b[1;33m    def wrapper(*args.**kwargs):\u001b[0m\n\u001b[1;37m                     ^\u001b[0m\n\u001b[1;31mSyntaxError\u001b[0m\u001b[1;31m:\u001b[0m invalid syntax\n"
     ]
    }
   ],
   "source": [
    "# # employee decoreters are a way to modifie or inhence the behiover or function or ----\n",
    "# # without directly\n",
    "# (it's not commplete)\n",
    "# def logo_decorator(func):\n",
    "#     def wrapper(*args.**kwargs):\n",
    "#         print(f\"function'{func.__name__}'is called\")\n",
    "#         result=func(*args.**kwargs)\n",
    "#         print(f\"function'{func.__name__}'finished execution\")\n",
    "#         return result\n",
    "#     return wrapper\n",
    "# @logo_decorator\n",
    "# def greet(name):\n",
    "#     print(f\"hello{name})\n",
    "# greet(\"anil\")"
   ]
  },
  {
   "cell_type": "code",
   "execution_count": 16,
   "id": "7ab870f8-885f-4d1e-a446-2a98929c47c1",
   "metadata": {},
   "outputs": [
    {
     "name": "stdout",
     "output_type": "stream",
     "text": [
      "1\n",
      "2\n",
      "3\n",
      "4\n",
      "5\n"
     ]
    }
   ],
   "source": [
    "#** the both are in python are in way to create a iterators in a simple memory effincenct way and **\n",
    "# instied of creating entire stand in amemoyr at\n",
    "# one at a time when only when need it this is specily usefiull when dealing with large data set of infinite sequence\n",
    "# a genrator function is like a simple function but uses the yield user instrid of priter\n",
    "# when the genrator is called it does not execute the function completly in stilled return a genrator object that can be itereted over\n",
    "\n",
    "\n",
    "# key points->\n",
    "# 1.memory efficence=>genrator do not store the entire frequnce in a memory\n",
    "# 2=>lasy =>value are produse only when requred.\n",
    "# 3.state retuncen=>the function stke is saved between yield follms\n",
    "\n",
    "# ex.1.==>\n",
    "def number_generator():\n",
    "    for i in range(1,6):\n",
    "        yield i\n",
    "gen=number_generator()\n",
    "for num in gen:\n",
    "    print(num)"
   ]
  },
  {
   "cell_type": "code",
   "execution_count": 20,
   "id": "f600fc08-5d42-46aa-94c9-652aefe6160e",
   "metadata": {},
   "outputs": [
    {
     "name": "stdout",
     "output_type": "stream",
     "text": [
      "1\n",
      "4\n",
      "9\n",
      "16\n",
      "25\n"
     ]
    }
   ],
   "source": [
    "# ex.2.=>square\n",
    "def square_generator(n):\n",
    "    for i in range(1,n+1):\n",
    "        yield i*i\n",
    "squares=square_generator(5)\n",
    "for square in squares:\n",
    "    print(square)"
   ]
  },
  {
   "cell_type": "code",
   "execution_count": null,
   "id": "8ff61e47-7850-49d3-a45b-8c25b431efde",
   "metadata": {},
   "outputs": [],
   "source": []
  }
 ],
 "metadata": {
  "kernelspec": {
   "display_name": "Python [conda env:base] *",
   "language": "python",
   "name": "conda-base-py"
  },
  "language_info": {
   "codemirror_mode": {
    "name": "ipython",
    "version": 3
   },
   "file_extension": ".py",
   "mimetype": "text/x-python",
   "name": "python",
   "nbconvert_exporter": "python",
   "pygments_lexer": "ipython3",
   "version": "3.12.7"
  }
 },
 "nbformat": 4,
 "nbformat_minor": 5
}

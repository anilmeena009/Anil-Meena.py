{
 "cells": [
  {
   "cell_type": "code",
   "execution_count": 1,
   "id": "da447792-1097-4e68-b6b6-3601367ca320",
   "metadata": {},
   "outputs": [],
   "source": [
    "# recursion=>recursion in python refer to a infosis we are in self function recursion \n",
    "# to solve smaller instance of the same problem in oops recursion can be \n",
    "# used with in calss methods  to perform repeteative task.\n",
    "# key features of recursion=>\n",
    "# 1.base case=>a condition that stope the recursion to  prevent that stop infinit conse.\n",
    "# 2.recursive case=>   ware the function coll insen witha  modifyie argument .\n"
   ]
  },
  {
   "cell_type": "code",
   "execution_count": 7,
   "id": "c5edcf04-1644-4e97-8032-63a7513b66e1",
   "metadata": {},
   "outputs": [
    {
     "name": "stdout",
     "output_type": "stream",
     "text": [
      "The factoral of: 5 is 120\n"
     ]
    }
   ],
   "source": [
    "class FactorialCalculator:\n",
    "    def calculate_factorial(self,n):\n",
    "        # base case:factorial of 0 or 1 is 1\n",
    "        if n==0 or n==1:\n",
    "            return 1\n",
    "        else:\n",
    "            return n*self.calculate_factorial(n-1)\n",
    "calculator=FactorialCalculator()\n",
    "number=5\n",
    "result=calculator.calculate_factorial(number)\n",
    "print(f\"The factoral of: {number} is {result}\")"
   ]
  },
  {
   "cell_type": "code",
   "execution_count": 40,
   "id": "04296c10-d023-4a6f-955e-2fb81b509707",
   "metadata": {},
   "outputs": [
    {
     "name": "stdout",
     "output_type": "stream",
     "text": [
      "medical record asd for rohit'\n",
      "medical record asd for rohit'\n",
      "medical record asd for rohit'\n",
      "medical history for rohit: ['fever', 'Headache', 'covid']\n"
     ]
    }
   ],
   "source": [
    "# case study1:healtcare system\n",
    "# problem:devlop a system for managing patient record in a hospital where\n",
    "# patient details(name,age and medical heistory) should be private.\n",
    "# only authorize method can retrieve or update medical history\n",
    "# provide a method to add new medical record while keeping previous data secure.\n",
    "class Patient:\n",
    "    def __init__(self,name,age):\n",
    "        self.__name=name\n",
    "        self.__age=age\n",
    "        self.__medical_history=[]\n",
    "    def add_medical_record(self,record):\n",
    "        self.__medical_history.append(record)\n",
    "        return f\"medical record asd for {self.__name}'\"\n",
    "    def get_medical_history(self):\n",
    "        return f\"medical history for {self.__name}: {self.__medical_history}\"\n",
    "# usage\n",
    "patient=Patient('rohit',30)\n",
    "print(patient.add_medical_record(\"fever\"))\n",
    "print(patient.add_medical_record(\"Headache\"))\n",
    "print(patient.add_medical_record(\"covid\"))\n",
    "\n",
    "print(patient.get_medical_history())#retrieve medical history"
   ]
  },
  {
   "cell_type": "code",
   "execution_count": 39,
   "id": "66f952e7-821b-446a-90ca-062bae896a21",
   "metadata": {},
   "outputs": [
    {
     "name": "stdout",
     "output_type": "stream",
     "text": [
      "Balance: 500\n",
      "Deposited: 5000\n",
      "Balance: 5500\n",
      "Withdrew: 3000\n",
      "Balance: 2500\n"
     ]
    }
   ],
   "source": [
    "# solve a  problem \n",
    "class BankAccount:\n",
    "    def __init__(self,name, balance=0):\n",
    "        self.name = name\n",
    "        self.balance = balance\n",
    "\n",
    "    def deposit(self, amount):\n",
    "        self.balance += amount\n",
    "        print(\"Deposited:\", amount)\n",
    "\n",
    "    def withdraw(self, amount):\n",
    "        if amount > self.balance:\n",
    "            print(\"Not enough money.\")\n",
    "        else:\n",
    "            self.balance -= amount\n",
    "            print(\"Withdrew:\", amount)\n",
    "\n",
    "    def show_balance(self):\n",
    "        print(\"Balance:\", self.balance)\n",
    "account = BankAccount('anil',500)\n",
    "account.show_balance()    \n",
    "account.deposit(5000) \n",
    "account.show_balance() \n",
    "account.withdraw(3000)   \n",
    "account.show_balance()    \n"
   ]
  }
 ],
 "metadata": {
  "kernelspec": {
   "display_name": "Python [conda env:base] *",
   "language": "python",
   "name": "conda-base-py"
  },
  "language_info": {
   "codemirror_mode": {
    "name": "ipython",
    "version": 3
   },
   "file_extension": ".py",
   "mimetype": "text/x-python",
   "name": "python",
   "nbconvert_exporter": "python",
   "pygments_lexer": "ipython3",
   "version": "3.12.7"
  }
 },
 "nbformat": 4,
 "nbformat_minor": 5
}

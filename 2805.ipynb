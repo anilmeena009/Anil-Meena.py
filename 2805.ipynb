{
 "cells": [
  {
   "cell_type": "code",
   "execution_count": 2,
   "id": "3d6105e6-4b97-48bb-9e2f-663262dc1a8a",
   "metadata": {},
   "outputs": [
    {
     "name": "stdout",
     "output_type": "stream",
     "text": [
      "Scores: [80, 90]\n",
      "Average: 85.0\n"
     ]
    }
   ],
   "source": [
    "# csae study:online examination system\n",
    "# problem: create a system for online examination where:\n",
    "# student score are private and cant be access directly'\n",
    "# score can be added or retrived using specific method.\n",
    "# impement a feature to calculate the average of the student \n",
    "\n",
    "class Student:\n",
    "    def __init__(self, name):\n",
    "        self.name = name\n",
    "        self.__scores = []\n",
    "\n",
    "    def add_score(self, score):\n",
    "        if 0 <= score <= 100:\n",
    "            self.__scores.append(score)\n",
    "\n",
    "    def get_scores(self):\n",
    "        return self.__scores[:]\n",
    "\n",
    "    def get_average(self):\n",
    "        if self.__scores:\n",
    "            return sum(self.__scores) / len(self.__scores)\n",
    "        return 0\n",
    "s = Student(\"John\")\n",
    "s.add_score(80)\n",
    "s.add_score(90)\n",
    "\n",
    "print(\"Scores:\", s.get_scores())          \n",
    "print(\"Average:\", s.get_average())    \n"
   ]
  },
  {
   "cell_type": "code",
   "execution_count": 8,
   "id": "1fe5ad6e-ba9c-43b1-9eac-ae0ce00ccc97",
   "metadata": {},
   "outputs": [
    {
     "name": "stdout",
     "output_type": "stream",
     "text": [
      "Railway Vehicles: ['Train 101']\n",
      "Total Trains: 1\n",
      "Bus Vehicles: ['Bus 10', 'Bus 20']\n",
      "Total Buses: 2\n"
     ]
    }
   ],
   "source": [
    "# Case Study: Station Problem in OOP\n",
    "# Problem Statement: Design a system to represent a Station where:\n",
    "# The station has a name and a list of trains or buses arriving or departing.\n",
    "# The vehicle list should be private, not directly accessible.\n",
    "# You can add or view vehicles through methods only.\n",
    "# You should be able to count the total number of vehicles scheduled.\n",
    "# Create a base class Station and allow for extension (e.g., RailwayStation, BusStation).\n",
    "class Station:\n",
    "    def __init__(self, name):\n",
    "        self.name = name\n",
    "        self.__vehicles = []  # private list\n",
    "\n",
    "    def add_vehicle(self, vehicle):\n",
    "        self.__vehicles.append(vehicle)\n",
    "\n",
    "    def get_vehicles(self):\n",
    "        return self.__vehicles[:]\n",
    "\n",
    "    def total_vehicles(self):\n",
    "        return len(self.__vehicles)\n",
    "class RailwayStation(Station):\n",
    "    pass\n",
    "\n",
    "class BusStation(Station):\n",
    "    pass\n",
    "rail = RailwayStation(\"Main Rail Station\")\n",
    "rail.add_vehicle(\"Train 101\")\n",
    "# rail.add_vehicle(\"Train 202\")\n",
    "# rail.add_vehicle(\"Train 203\")\n",
    "# rail.add_vehicle(\"Train 204\")\n",
    "\n",
    "bus = BusStation(\"City Bus Stand\")\n",
    "bus.add_vehicle(\"Bus 10\")\n",
    "bus.add_vehicle(\"Bus 20\")\n",
    "# bus.add_vehicle(\"Bus 30\")\n",
    "# bus.add_vehicle(\"Bus 40\")\n",
    "\n",
    "print(\"Railway Vehicles:\", rail.get_vehicles())\n",
    "print(\"Total Trains:\", rail.total_vehicles())\n",
    "\n",
    "print(\"Bus Vehicles:\", bus.get_vehicles())\n",
    "print(\"Total Buses:\", bus.total_vehicles())\n"
   ]
  },
  {
   "cell_type": "code",
   "execution_count": 17,
   "id": "400e41f1-4286-4141-9679-4c01d9b8fcf0",
   "metadata": {},
   "outputs": [
    {
     "name": "stdout",
     "output_type": "stream",
     "text": [
      "{'Name': 'Alice', 'Age': 30, 'Ticket Number': 'T123'}\n",
      "{'Name': 'Bob', 'Age': 45, 'Ticket Number': 'V456', 'Lounge Access': True}\n",
      "{'Name': 'Alice', 'Age': 31, 'Ticket Number': 'T123'}\n",
      "{'Name': 'Ticket_Number=T234', 'Age': 45, 'Ticket Number': 'V456', 'Lounge Access': True}\n"
     ]
    }
   ],
   "source": [
    "# Case Study: Passenger Problem in OOP\n",
    "# Problem Statement:Design a system to manage passenger data for travel systems (e.g., trains, buses, flights). The system should:\n",
    "# Store each passenger's name, age, and ticket number.\n",
    "# Keep data private — no direct access to passenger info.\n",
    "# Provide methods to:(1)Set or update passenger details,(2)Get passenger details\n",
    "# Allow for different types of passengers (e.g., RegularPassenger, VIPPassenger) using inheritance.\n",
    "class Passenger:\n",
    "    def __init__(self, name, age, ticket_number):\n",
    "        self.__name = name\n",
    "        self.__age = age\n",
    "        self.__ticket_number = ticket_number\n",
    "    def get_details(self):\n",
    "        return {\n",
    "            \"Name\": self.__name,\n",
    "            \"Age\": self.__age,\n",
    "            \"Ticket Number\": self.__ticket_number\n",
    "        }\n",
    "    def update_details(self, name=None, age=None, ticket_number=None):\n",
    "        if name:\n",
    "            self.__name = name\n",
    "        if age:\n",
    "            self.__age = age\n",
    "        if ticket_number:\n",
    "            self.__ticket_number = ticket_number\n",
    "class RegularPassenger(Passenger):\n",
    "    pass\n",
    "class VIPPassenger(Passenger):\n",
    "    def get_details(self):\n",
    "        details = super().get_details()\n",
    "        details[\"Lounge Access\"] = True\n",
    "        return details\n",
    "p1 = RegularPassenger(\"Alice\", 30, \"T123\")\n",
    "p2 = VIPPassenger(\"Bob\", 45, \"V456\")\n",
    "print(p1.get_details())\n",
    "print(p2.get_details())\n",
    "# Update passenger info\n",
    "p1.update_details(age=31)\n",
    "print(p1.get_details())\n",
    "p2.update_details(\"Ticket_Number=T234\")\n",
    "print(p2.get_details())"
   ]
  }
 ],
 "metadata": {
  "kernelspec": {
   "display_name": "Python [conda env:base] *",
   "language": "python",
   "name": "conda-base-py"
  },
  "language_info": {
   "codemirror_mode": {
    "name": "ipython",
    "version": 3
   },
   "file_extension": ".py",
   "mimetype": "text/x-python",
   "name": "python",
   "nbconvert_exporter": "python",
   "pygments_lexer": "ipython3",
   "version": "3.12.7"
  }
 },
 "nbformat": 4,
 "nbformat_minor": 5
}

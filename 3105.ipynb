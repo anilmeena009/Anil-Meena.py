{
 "cells": [
  {
   "cell_type": "code",
   "execution_count": 1,
   "id": "650a9b4a-da21-49f2-ab6e-430ce24dc013",
   "metadata": {},
   "outputs": [
    {
     "name": "stdout",
     "output_type": "stream",
     "text": [
      " my name is Anil and roll number is:10\n"
     ]
    }
   ],
   "source": [
    "# class and object\n",
    "class Student:\n",
    "    def __init__(self,name,number):\n",
    "        self.student_name=name\n",
    "        self.number=number\n",
    "    def details(self):\n",
    "        return f\" my name is {self.student_name} and roll number is:{self.number}\"\n",
    "s1=Student(\"Anil\",10)\n",
    "print(s1.details())"
   ]
  },
  {
   "cell_type": "code",
   "execution_count": 7,
   "id": "0bc13722-4d49-4b58-9591-fcf4f9ba9c7b",
   "metadata": {},
   "outputs": [
    {
     "name": "stdout",
     "output_type": "stream",
     "text": [
      "tommy barks\n"
     ]
    }
   ],
   "source": [
    "# single inheritence\n",
    "class Animal:\n",
    "    def __init__(self,name):\n",
    "        self.name=name\n",
    "    def speak(self):\n",
    "        return f\"{self.name} make a sound\"\n",
    "class Dog(Animal):\n",
    "    def speak(self):\n",
    "        return f\"{self.name} barks\"\n",
    "dog=Dog(\"tommy\")\n",
    "print(dog.speak())"
   ]
  },
  {
   "cell_type": "code",
   "execution_count": 9,
   "id": "61876aa2-9c62-404b-b9f5-071d3def49b4",
   "metadata": {},
   "outputs": [
    {
     "name": "stdout",
     "output_type": "stream",
     "text": [
      "Student Name: Aarav | Student Score: 95\n"
     ]
    }
   ],
   "source": [
    "# multiple inheritence\n",
    "class StudentName:\n",
    "    def __init__(self, name):\n",
    "        self.name = name\n",
    "    def display_name(self):\n",
    "        return f\"Student Name: {self.name}\"\n",
    "class StudentScore:\n",
    "    def __init__(self, score):\n",
    "        self.score = score\n",
    "    def display_score(self):\n",
    "        return f\"Student Score: {self.score}\"\n",
    "class Student(StudentName, StudentScore):\n",
    "    def __init__(self, name, score):\n",
    "        StudentName.__init__(self, name)\n",
    "        StudentScore.__init__(self, score)\n",
    "    def display_details(self):\n",
    "        return f\"{self.display_name()} | {self.display_score()}\"\n",
    "student = Student(\"Aarav\", 95)\n",
    "print(student.display_details())"
   ]
  },
  {
   "cell_type": "code",
   "execution_count": 3,
   "id": "bafbf490-db15-4734-bb3b-5aacff62c0c5",
   "metadata": {},
   "outputs": [
    {
     "name": "stdout",
     "output_type": "stream",
     "text": [
      "The Name is : Lokesh Singh\n",
      "The Age is : 25\n",
      "The role is : Software Trainer\n",
      "The Roll is : 10\n"
     ]
    }
   ],
   "source": [
    "# multi level inheritence\n",
    "class Employee:\n",
    "    def __init__(self, name, roll, role):\n",
    "        self.name = name\n",
    "        self.roll = roll\n",
    "        self.role = role\n",
    "class Data(Employee):\n",
    "    def __init__(self, age, name, roll, role):\n",
    "        super().__init__(name, roll, role)\n",
    "        self.age = age\n",
    "class Derived(Data):\n",
    "    def __init__(self,name, roll, role,age):\n",
    "        super().__init__(age,name, roll, role)\n",
    "    def Print_value(self):\n",
    "        print(f\"The Name is : {self.name}\")\n",
    "        print(f\"The Age is : {self.age}\")\n",
    "        print(f\"The role is : {self.role}\")\n",
    "        print(f\"The Roll is : {self.roll}\")\n",
    "obj = Derived(\"Anil kumar meena\", 10, \"Data engineere\",25)\n",
    "obj.Print_value()"
   ]
  },
  {
   "cell_type": "code",
   "execution_count": null,
   "id": "f92fe6a4-45f6-44a2-b9f6-b0c452e3c3d1",
   "metadata": {},
   "outputs": [],
   "source": []
  }
 ],
 "metadata": {
  "kernelspec": {
   "display_name": "Python [conda env:base] *",
   "language": "python",
   "name": "conda-base-py"
  },
  "language_info": {
   "codemirror_mode": {
    "name": "ipython",
    "version": 3
   },
   "file_extension": ".py",
   "mimetype": "text/x-python",
   "name": "python",
   "nbconvert_exporter": "python",
   "pygments_lexer": "ipython3",
   "version": "3.12.7"
  }
 },
 "nbformat": 4,
 "nbformat_minor": 5
}

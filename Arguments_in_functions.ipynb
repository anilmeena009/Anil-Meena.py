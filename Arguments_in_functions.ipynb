{
  "cells": [
    {
      "cell_type": "markdown",
      "metadata": {
        "id": "view-in-github",
        "colab_type": "text"
      },
      "source": [
        "<a href=\"https://colab.research.google.com/github/anilmeena009/Anil-Meena.py/blob/main/Arguments_in_functions.ipynb\" target=\"_parent\"><img src=\"https://colab.research.google.com/assets/colab-badge.svg\" alt=\"Open In Colab\"/></a>"
      ]
    },
    {
      "cell_type": "markdown",
      "id": "b4dff6b8",
      "metadata": {
        "id": "b4dff6b8"
      },
      "source": [
        "# 1. *args (Non-Keyword Arguments)\n",
        "`\n",
        "*args allows you to pass multiple positional arguments to a function.\n",
        "It collects them into a tuple."
      ]
    },
    {
      "cell_type": "code",
      "execution_count": null,
      "id": "87b1acaf",
      "metadata": {
        "id": "87b1acaf",
        "outputId": "ac247b9d-dbb4-445e-c625-bc18f4836a1c"
      },
      "outputs": [
        {
          "name": "stdout",
          "output_type": "stream",
          "text": [
            "Sum: 30\n"
          ]
        }
      ],
      "source": [
        "def add_numbers(*args):\n",
        "    total = sum(args)\n",
        "    print(f\"Sum: {total}\")\n",
        "\n",
        "add_numbers(5, 10, 15)\n"
      ]
    },
    {
      "cell_type": "markdown",
      "id": "87377a62",
      "metadata": {
        "id": "87377a62"
      },
      "source": [
        "# 2. **kwargs (Keyword Arguments)\n",
        "\n",
        "**kwargs allows you to pass multiple keyword arguments (name-value pairs).\n",
        "It collects them into a dictionary."
      ]
    },
    {
      "cell_type": "code",
      "execution_count": null,
      "id": "8d3a2a5b",
      "metadata": {
        "id": "8d3a2a5b",
        "outputId": "0c8c020d-acca-4e6f-b983-e803303cef6c"
      },
      "outputs": [
        {
          "name": "stdout",
          "output_type": "stream",
          "text": [
            "name: Saurabh\n",
            "age: 25\n",
            "city: Mumbai\n"
          ]
        }
      ],
      "source": [
        "def print_details(**kwargs):\n",
        "    for key, value in kwargs.items():\n",
        "        print(f\"{key}: {value}\")\n",
        "\n",
        "print_details(name=\"Saurabh\", age=25, city=\"Mumbai\")\n"
      ]
    },
    {
      "cell_type": "markdown",
      "id": "b2ee6c53",
      "metadata": {
        "id": "b2ee6c53"
      },
      "source": [
        "# 3. Using *args and **kwargs Together\n",
        "\n",
        "You can use both in the same function, but *args must come before **kwargs."
      ]
    },
    {
      "cell_type": "code",
      "execution_count": null,
      "id": "2fcbd7dc",
      "metadata": {
        "id": "2fcbd7dc",
        "outputId": "759d008f-cea3-4e49-da04-2c999c6eb3d9"
      },
      "outputs": [
        {
          "name": "stdout",
          "output_type": "stream",
          "text": [
            "Positional arguments: (1, 2, 3)\n",
            "Keyword arguments: {'name': 'Saurabh', 'age': 25}\n"
          ]
        }
      ],
      "source": [
        "def display_info(*args, **kwargs):\n",
        "    print(\"Positional arguments:\", args)\n",
        "    print(\"Keyword arguments:\", kwargs)\n",
        "\n",
        "display_info(1, 2, 3, name=\"Saurabh\", age=25)\n"
      ]
    },
    {
      "cell_type": "markdown",
      "id": "1b421cbf",
      "metadata": {
        "id": "1b421cbf"
      },
      "source": [
        "# 4. Required Arguments (Mandatory Inputs)\n",
        "These are arguments that must be passed to a function; otherwise, Python throws an error.\n",
        "There is no default value for these arguments."
      ]
    },
    {
      "cell_type": "code",
      "execution_count": null,
      "id": "43f10b7e",
      "metadata": {
        "id": "43f10b7e",
        "outputId": "1e9f068a-c90a-4e74-8bf1-6a9307e9c692"
      },
      "outputs": [
        {
          "name": "stdout",
          "output_type": "stream",
          "text": [
            "Hello, Saurabh!\n"
          ]
        }
      ],
      "source": [
        "def greet(name):\n",
        "    print(f\"Hello, {name}!\")\n",
        "\n",
        "greet(\"Saurabh\")\n",
        "# greet()"
      ]
    },
    {
      "cell_type": "markdown",
      "id": "9ebfc365",
      "metadata": {
        "id": "9ebfc365"
      },
      "source": [
        "# 5. Default Arguments (Optional Inputs)\n",
        "These arguments have a default value assigned.\n",
        "If no value is provided, Python uses the default."
      ]
    },
    {
      "cell_type": "code",
      "execution_count": null,
      "id": "09f51fc8",
      "metadata": {
        "id": "09f51fc8",
        "outputId": "07fb66f4-828e-4d6c-d29a-56a164aa47a0"
      },
      "outputs": [
        {
          "name": "stdout",
          "output_type": "stream",
          "text": [
            "Hello, Guest!\n"
          ]
        }
      ],
      "source": [
        "def greet(name=\"Guest\"):\n",
        "    print(f\"Hello, {name}!\")\n",
        "\n",
        "# greet(\"Saurabh\")\n",
        "greet()"
      ]
    },
    {
      "cell_type": "markdown",
      "id": "33e3689c",
      "metadata": {
        "id": "33e3689c"
      },
      "source": [
        "# 3. return Keyword (Output of a Function)\n",
        "The return statement sends a value back from a function.\n",
        "If return is not used, the function returns None."
      ]
    },
    {
      "cell_type": "code",
      "execution_count": null,
      "id": "f30a6455",
      "metadata": {
        "id": "f30a6455",
        "outputId": "1e9c665c-8b8b-4aa0-9945-106cd6848b44"
      },
      "outputs": [
        {
          "name": "stdout",
          "output_type": "stream",
          "text": [
            "8\n"
          ]
        }
      ],
      "source": [
        "def add(a, b):\n",
        "    return a + b\n",
        "\n",
        "result = add(5, 3)\n",
        "print(result)\n"
      ]
    },
    {
      "cell_type": "markdown",
      "id": "21fd74b1",
      "metadata": {
        "id": "21fd74b1"
      },
      "source": [
        "# Questions"
      ]
    },
    {
      "cell_type": "markdown",
      "id": "7343aeec",
      "metadata": {
        "id": "7343aeec"
      },
      "source": [
        "# 1. Find the Maximum Number Using *args\n",
        "\n",
        "🔹 Question: Write a function that takes multiple numbers as arguments using *args and returns the maximum number."
      ]
    },
    {
      "cell_type": "code",
      "execution_count": null,
      "id": "f0a2490a",
      "metadata": {
        "id": "f0a2490a",
        "outputId": "715296c4-da0b-4f5e-a5c4-aef2e66ad3b6"
      },
      "outputs": [
        {
          "name": "stdout",
          "output_type": "stream",
          "text": [
            "100\n",
            "0\n"
          ]
        }
      ],
      "source": [
        "def find_max(*args):\n",
        "    return max(args)\n",
        "\n",
        "print(find_max(10, 5, 25, 8, 100))\n",
        "print(find_max(-1, -10, -5, 0))"
      ]
    },
    {
      "cell_type": "markdown",
      "id": "3a61880e",
      "metadata": {
        "id": "3a61880e"
      },
      "source": [
        "# 2. Calculate the Product of Numbers Using *args\n",
        "🔹 Question: Write a function that takes multiple numbers using *args and returns their product."
      ]
    },
    {
      "cell_type": "code",
      "execution_count": null,
      "id": "5cada589",
      "metadata": {
        "id": "5cada589",
        "outputId": "be029f52-4295-49a2-87c4-3f7e1ce73ac2"
      },
      "outputs": [
        {
          "name": "stdout",
          "output_type": "stream",
          "text": [
            "24\n",
            "25\n"
          ]
        }
      ],
      "source": [
        "def product(*args):\n",
        "    result = 1\n",
        "    for num in args:\n",
        "        result *= num\n",
        "    return result\n",
        "\n",
        "print(product(2, 3, 4))\n",
        "print(product(5, 5))\n"
      ]
    },
    {
      "cell_type": "markdown",
      "id": "832ceca3",
      "metadata": {
        "id": "832ceca3"
      },
      "source": [
        "# 3. Generate a Full Name Using **kwargs\n",
        "🔹 Question: Write a function that takes a first name and last name as keyword arguments and returns the full name."
      ]
    },
    {
      "cell_type": "code",
      "execution_count": null,
      "id": "b57b74a6",
      "metadata": {
        "id": "b57b74a6",
        "outputId": "20c172ac-1d2f-483e-83d6-40cd60a05aa4"
      },
      "outputs": [
        {
          "name": "stdout",
          "output_type": "stream",
          "text": [
            "Saurabh Sharma\n",
            "Rahul Mehta\n"
          ]
        }
      ],
      "source": [
        "def full_name(**kwargs):\n",
        "    return f\"{kwargs.get('first_name', 'Unknown')} {kwargs.get('last_name', 'Mehta')}\"\n",
        "\n",
        "print(full_name(first_name=\"Saurabh\", last_name=\"Sharma\"))\n",
        "print(full_name(first_name=\"Rahul\"))"
      ]
    },
    {
      "cell_type": "markdown",
      "id": "fb9231d3",
      "metadata": {
        "id": "fb9231d3"
      },
      "source": [
        "# 4. Count Vowels in a Given String Using return\n",
        "🔹 Question: Write a function that counts the number of vowels in a string and returns the count."
      ]
    },
    {
      "cell_type": "code",
      "execution_count": null,
      "id": "c46e2eee",
      "metadata": {
        "id": "c46e2eee",
        "outputId": "355c2e10-9c1b-4341-d08a-4eedec2b7a21"
      },
      "outputs": [
        {
          "name": "stdout",
          "output_type": "stream",
          "text": [
            "3\n",
            "1\n"
          ]
        }
      ],
      "source": [
        "def count_vowels(string):\n",
        "    vowels = \"aeiouAEIOU\"\n",
        "    return sum(1 for char in string if char in vowels)\n",
        "\n",
        "print(count_vowels(\"Hello World\"))\n",
        "print(count_vowels(\"Python\"))"
      ]
    },
    {
      "cell_type": "markdown",
      "id": "9c9bdc85",
      "metadata": {
        "id": "9c9bdc85"
      },
      "source": [
        "# 5. Create a Shopping Cart Using *args and **kwargs\n",
        "🔹 Question: Write a function where *args represents the items bought, and **kwargs contains prices. Return the total bill."
      ]
    },
    {
      "cell_type": "code",
      "execution_count": null,
      "id": "409a30e0",
      "metadata": {
        "id": "409a30e0",
        "outputId": "53b5b686-c3cc-415b-8381-0a743bb89a08"
      },
      "outputs": [
        {
          "name": "stdout",
          "output_type": "stream",
          "text": [
            "100\n",
            "90\n"
          ]
        }
      ],
      "source": [
        "def shopping_cart(*items, **prices):\n",
        "    total = sum(prices[item] for item in items if item in prices)\n",
        "    return total\n",
        "\n",
        "print(shopping_cart(\"graphs\", \"banana\",\"mango\", graphs=50, banana=20, mango=30))\n",
        "print(shopping_cart(\"pizza\", \"grapes\", pizza = 50 , grapes=40))\n"
      ]
    },
    {
      "cell_type": "markdown",
      "id": "0e957e90",
      "metadata": {
        "id": "0e957e90"
      },
      "source": [
        "# 6. Function with Required and Default Arguments\n",
        "🔹 Question: Write a function that requires a name and has an optional age argument (default is 18). It should return a greeting."
      ]
    },
    {
      "cell_type": "code",
      "execution_count": null,
      "id": "916c0bd0",
      "metadata": {
        "id": "916c0bd0",
        "outputId": "3433beeb-ccfe-4416-b258-2b2fed6c2e20"
      },
      "outputs": [
        {
          "name": "stdout",
          "output_type": "stream",
          "text": [
            "Hello Saurabh, you are 18 years old.\n",
            "Hello Rahul, you are 25 years old.\n"
          ]
        }
      ],
      "source": [
        "def greet(name, age=18):\n",
        "    return f\"Hello {name}, you are {age} years old.\"\n",
        "\n",
        "print(greet(\"Saurabh\"))\n",
        "print(greet(\"Rahul\", 25))\n"
      ]
    },
    {
      "cell_type": "markdown",
      "id": "e5a9e952",
      "metadata": {
        "id": "e5a9e952"
      },
      "source": [
        "# 7. Calculate Discounted Price Using **kwargs\n",
        "🔹 Question: Write a function that takes a price and a discount percentage as keyword arguments and returns the discounted price."
      ]
    },
    {
      "cell_type": "code",
      "execution_count": null,
      "id": "dfb77f32",
      "metadata": {
        "id": "dfb77f32",
        "outputId": "e93e5a34-ec26-435a-ce33-6948f2cc33ef"
      },
      "outputs": [
        {
          "name": "stdout",
          "output_type": "stream",
          "text": [
            "900.0\n",
            "400.0\n"
          ]
        }
      ],
      "source": [
        "def discount_price(**kwargs):\n",
        "    price = kwargs.get(\"price\", 0)\n",
        "    discount = kwargs.get(\"discount\", 0)\n",
        "    return price - (price * discount / 100)\n",
        "\n",
        "print(discount_price(price=1000, discount=10))\n",
        "print(discount_price(price=500, discount=20))"
      ]
    },
    {
      "cell_type": "markdown",
      "id": "950597d4",
      "metadata": {
        "id": "950597d4"
      },
      "source": [
        "# 8. Merge Two Lists Using *args\n",
        "🔹 Question: Write a function that accepts two lists as *args and merges them."
      ]
    },
    {
      "cell_type": "code",
      "execution_count": null,
      "id": "d00f82e6",
      "metadata": {
        "id": "d00f82e6",
        "outputId": "4527e9cc-0eae-419b-d10c-025726f046b4"
      },
      "outputs": [
        {
          "name": "stdout",
          "output_type": "stream",
          "text": [
            "[1, 2, 3, 4, 5, 6]\n",
            "['a', 'b', 'c', 'd', 'e']\n"
          ]
        }
      ],
      "source": [
        "def merge_lists(*args):\n",
        "    return [item for lst in args for item in lst]\n",
        "\n",
        "print(merge_lists([1, 2, 3], [4, 5, 6]))\n",
        "print(merge_lists([\"a\", \"b\"], [\"c\", \"d\"], [\"e\"]))"
      ]
    },
    {
      "cell_type": "code",
      "execution_count": null,
      "id": "2d67b9f1",
      "metadata": {
        "id": "2d67b9f1",
        "outputId": "779b0da6-5007-48ad-a95c-f5ab4a5582db"
      },
      "outputs": [
        {
          "data": {
            "text/plain": [
              "(1, 2, 3, 4, 5, 6)"
            ]
          },
          "execution_count": 11,
          "metadata": {},
          "output_type": "execute_result"
        }
      ],
      "source": [
        "(1,2,3) + (4,5,6)"
      ]
    },
    {
      "cell_type": "markdown",
      "id": "e7a33ec9",
      "metadata": {
        "id": "e7a33ec9"
      },
      "source": [
        "# 9. Extract Even and Odd Numbers Using return\n",
        "🔹 Question: Write a function that takes a list of numbers and returns two lists: one with even numbers and one with odd numbers."
      ]
    },
    {
      "cell_type": "code",
      "execution_count": null,
      "id": "b4b96f38",
      "metadata": {
        "id": "b4b96f38",
        "outputId": "897e21f4-3d36-4384-a584-88059e9acc10"
      },
      "outputs": [
        {
          "name": "stdout",
          "output_type": "stream",
          "text": [
            "Evens: [2, 4, 6]\n",
            "Odds: [1, 3, 5]\n"
          ]
        }
      ],
      "source": [
        "def separate_even_odd(numbers):\n",
        "    even = [num for num in numbers if num % 2 == 0]\n",
        "    odd = [num for num in numbers if num % 2 != 0]\n",
        "    return even, odd\n",
        "\n",
        "evens, odds = separate_even_odd([1, 2, 3, 4, 5, 6])\n",
        "print(\"Evens:\", evens)\n",
        "print(\"Odds:\", odds)\n"
      ]
    },
    {
      "cell_type": "code",
      "execution_count": null,
      "id": "e00c8e01",
      "metadata": {
        "id": "e00c8e01",
        "outputId": "d4f2f265-23bb-4a1c-dea4-b79b753c2971"
      },
      "outputs": [
        {
          "name": "stdout",
          "output_type": "stream",
          "text": [
            "[2, 4]\n",
            "[1, 3, 5]\n"
          ]
        }
      ],
      "source": [
        "a = [1,2,3,4,5]\n",
        "b = []\n",
        "c = []\n",
        "for i in range(len(a)):\n",
        "    if(a[i]%2==0):\n",
        "        b.append(a[i])\n",
        "    else:\n",
        "        c.append(a[i])\n",
        "print(b)\n",
        "print(c)"
      ]
    },
    {
      "cell_type": "code",
      "execution_count": null,
      "id": "bec6211f",
      "metadata": {
        "id": "bec6211f"
      },
      "outputs": [],
      "source": []
    }
  ],
  "metadata": {
    "kernelspec": {
      "display_name": "Python 3 (ipykernel)",
      "language": "python",
      "name": "python3"
    },
    "language_info": {
      "codemirror_mode": {
        "name": "ipython",
        "version": 3
      },
      "file_extension": ".py",
      "mimetype": "text/x-python",
      "name": "python",
      "nbconvert_exporter": "python",
      "pygments_lexer": "ipython3",
      "version": "3.9.12"
    },
    "colab": {
      "provenance": [],
      "include_colab_link": true
    }
  },
  "nbformat": 4,
  "nbformat_minor": 5
}
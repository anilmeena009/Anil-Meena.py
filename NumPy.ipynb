{
 "cells": [
  {
   "cell_type": "code",
   "execution_count": 1,
   "id": "6c9824e9-778f-4ac4-97ee-d5def2514d85",
   "metadata": {},
   "outputs": [],
   "source": [
    "# Introduction to numpy=>\n",
    "# numpy is an open-source library that is used for scintific calculations."
   ]
  },
  {
   "cell_type": "code",
   "execution_count": 2,
   "id": "66efbe1e-f456-4b3d-a79f-ee078f4163f5",
   "metadata": {},
   "outputs": [],
   "source": [
    "# How numpy is better than list?\n",
    "# 1.numpy is homogeneous data type while list hetrogenous data type.\n",
    "# 2.numpy takes less memory while list take more memory.\n",
    "# 3.numpy take less execution time while list take more execution."
   ]
  },
  {
   "cell_type": "code",
   "execution_count": 34,
   "id": "60ed889f-ff96-438a-9a9d-31ff0d88fb2e",
   "metadata": {},
   "outputs": [],
   "source": [
    "import numpy as np"
   ]
  },
  {
   "cell_type": "code",
   "execution_count": 11,
   "id": "4a75037f-29e9-4260-83b4-37b7b70a2faa",
   "metadata": {},
   "outputs": [
    {
     "data": {
      "text/plain": [
       "array([ 1, 24, 34, 45, 90])"
      ]
     },
     "execution_count": 11,
     "metadata": {},
     "output_type": "execute_result"
    }
   ],
   "source": [
    "a=[1,24,34,45,90]\n",
    "type(a)\n",
    "b=np.array(a)\n",
    "b"
   ]
  },
  {
   "cell_type": "code",
   "execution_count": 12,
   "id": "5260ec93-d1e6-4e75-9f42-4f3161df8ec9",
   "metadata": {},
   "outputs": [
    {
     "name": "stdin",
     "output_type": "stream",
     "text": [
      "enter the size 2\n",
      "enter the element 10\n",
      "enter the element 20\n"
     ]
    },
    {
     "name": "stdout",
     "output_type": "stream",
     "text": [
      "[10, 20]\n"
     ]
    },
    {
     "data": {
      "text/plain": [
       "array([10, 20])"
      ]
     },
     "execution_count": 12,
     "metadata": {},
     "output_type": "execute_result"
    }
   ],
   "source": [
    "a=[]\n",
    "size=int(input(\"enter the size\"))\n",
    "for i in range(size):\n",
    "    val=int(input(\"enter the element\"))\n",
    "    a.append(val)\n",
    "print(a)\n",
    "b=np.array(a)\n",
    "b"
   ]
  },
  {
   "cell_type": "code",
   "execution_count": 35,
   "id": "530dd2b2-0676-41a9-9203-93eb7c671765",
   "metadata": {},
   "outputs": [
    {
     "data": {
      "text/plain": [
       "numpy.ndarray"
      ]
     },
     "execution_count": 35,
     "metadata": {},
     "output_type": "execute_result"
    }
   ],
   "source": [
    "type(b)"
   ]
  },
  {
   "cell_type": "code",
   "execution_count": 39,
   "id": "55c63f53-fc29-41f9-983c-564f95e5bd48",
   "metadata": {},
   "outputs": [
    {
     "data": {
      "text/plain": [
       "[[1, 2, 3, 4], [4, 5, 6, 7], [7, 8, 9, 5]]"
      ]
     },
     "execution_count": 39,
     "metadata": {},
     "output_type": "execute_result"
    }
   ],
   "source": [
    "a=[[1,2,3,4],[4,5,6,7],[7,8,9,5]]\n",
    "a"
   ]
  },
  {
   "cell_type": "code",
   "execution_count": 36,
   "id": "0007dea2-9845-4e15-9447-1c61a5a8e17a",
   "metadata": {},
   "outputs": [
    {
     "data": {
      "text/plain": [
       "array([[1., 0., 0., 0.],\n",
       "       [0., 1., 0., 0.],\n",
       "       [0., 0., 1., 0.]])"
      ]
     },
     "execution_count": 36,
     "metadata": {},
     "output_type": "execute_result"
    }
   ],
   "source": [
    "b=np.array(a)\n",
    "b"
   ]
  },
  {
   "cell_type": "code",
   "execution_count": 17,
   "id": "99645ff8-7b1f-46af-a179-740f4a417a7b",
   "metadata": {},
   "outputs": [
    {
     "name": "stdout",
     "output_type": "stream",
     "text": [
      "Total rows and columns: (3, 4)\n",
      "total element: 12\n",
      "total dimension: 2\n"
     ]
    }
   ],
   "source": [
    "print(\"Total rows and columns:\",b.shape)  #shape for n(rows),n(column)\n",
    "print(\"total element:\",b.size)  #size=total element=n(rows) * n(column)\n",
    "print(\"total dimension:\",b.ndim) #ndim stand for n_dimensional."
   ]
  },
  {
   "cell_type": "code",
   "execution_count": 22,
   "id": "79d050f7-19bf-45fc-a1b9-4863f88989c2",
   "metadata": {},
   "outputs": [
    {
     "data": {
      "text/plain": [
       "array([0., 0., 0.])"
      ]
     },
     "execution_count": 22,
     "metadata": {},
     "output_type": "execute_result"
    }
   ],
   "source": [
    "# Function in Numpy=>\n",
    "# 1.zeros()--->it will be create an array in which all\n",
    "# the values either one dimensional or multi-dimensional will be 0.\n",
    "a=np.zeros(3)\n",
    "a"
   ]
  },
  {
   "cell_type": "code",
   "execution_count": 23,
   "id": "a2375dec-af07-4e24-82d6-840c47d1a4ed",
   "metadata": {},
   "outputs": [
    {
     "data": {
      "text/plain": [
       "array([[0., 0., 0., 0.],\n",
       "       [0., 0., 0., 0.],\n",
       "       [0., 0., 0., 0.]])"
      ]
     },
     "execution_count": 23,
     "metadata": {},
     "output_type": "execute_result"
    }
   ],
   "source": [
    "a=np.zeros((3,4))\n",
    "a"
   ]
  },
  {
   "cell_type": "code",
   "execution_count": 25,
   "id": "734a5a86-4285-4d2d-9ebd-e3fa0b8de36d",
   "metadata": {},
   "outputs": [
    {
     "data": {
      "text/plain": [
       "array([1., 1., 1.])"
      ]
     },
     "execution_count": 25,
     "metadata": {},
     "output_type": "execute_result"
    }
   ],
   "source": [
    "# 2.ones-->it will bw create an array in which all the values will be 1 in either one dimensional\n",
    "# or multi-dimensional.\n",
    "a=np.ones(3)\n",
    "a"
   ]
  },
  {
   "cell_type": "code",
   "execution_count": 27,
   "id": "0d7b045a-56f0-43d9-a356-0b9dfb363ed7",
   "metadata": {},
   "outputs": [
    {
     "data": {
      "text/plain": [
       "array([[1., 1., 1., 1.],\n",
       "       [1., 1., 1., 1.],\n",
       "       [1., 1., 1., 1.]])"
      ]
     },
     "execution_count": 27,
     "metadata": {},
     "output_type": "execute_result"
    }
   ],
   "source": [
    "a=np.ones((3,4))\n",
    "a"
   ]
  },
  {
   "cell_type": "code",
   "execution_count": 28,
   "id": "c7e31ee2-8975-4cb5-b013-ed161ff70ae0",
   "metadata": {},
   "outputs": [],
   "source": [
    "# 3. eyes()--->\n",
    "# matrix-->digonal position--->1\n",
    "# It will be create an array in which digonal positional element will be 1 and rest all are 0."
   ]
  },
  {
   "cell_type": "code",
   "execution_count": 30,
   "id": "42400e0b-aba0-4690-b03d-7264a5d2d1be",
   "metadata": {},
   "outputs": [
    {
     "data": {
      "text/plain": [
       "array([[1., 0., 0.],\n",
       "       [0., 1., 0.],\n",
       "       [0., 0., 1.]])"
      ]
     },
     "execution_count": 30,
     "metadata": {},
     "output_type": "execute_result"
    }
   ],
   "source": [
    "a=np.eye(3)\n",
    "a"
   ]
  },
  {
   "cell_type": "code",
   "execution_count": 32,
   "id": "42c83f8d-a005-4bfb-8df0-1454abaa8abe",
   "metadata": {},
   "outputs": [
    {
     "data": {
      "text/plain": [
       "array([[1., 0., 0., 0.],\n",
       "       [0., 1., 0., 0.],\n",
       "       [0., 0., 1., 0.]])"
      ]
     },
     "execution_count": 32,
     "metadata": {},
     "output_type": "execute_result"
    }
   ],
   "source": [
    "a=np.eye(3,4)\n",
    "a"
   ]
  },
  {
   "cell_type": "code",
   "execution_count": 40,
   "id": "75b1d6c5-db5f-48c7-bf46-9bcc7467e880",
   "metadata": {},
   "outputs": [],
   "source": [
    "# 4.diag()-->It will be create an array in which you can set custom values at digonal position ."
   ]
  },
  {
   "cell_type": "code",
   "execution_count": 42,
   "id": "ca792aed-0098-48dd-948f-0b1517cab38b",
   "metadata": {},
   "outputs": [
    {
     "data": {
      "text/plain": [
       "array([[ 1,  0,  0,  0],\n",
       "       [ 0, 45,  0,  0],\n",
       "       [ 0,  0, 78,  0],\n",
       "       [ 0,  0,  0, 90]])"
      ]
     },
     "execution_count": 42,
     "metadata": {},
     "output_type": "execute_result"
    }
   ],
   "source": [
    "a=np.diag([1,45,78,90])\n",
    "a"
   ]
  },
  {
   "cell_type": "code",
   "execution_count": 43,
   "id": "90b1a4ef-c443-4d03-bf57-9b25dc529b2e",
   "metadata": {},
   "outputs": [],
   "source": [
    "# 5. Random()---->It will return random numbers.\n"
   ]
  },
  {
   "cell_type": "code",
   "execution_count": 44,
   "id": "4d313c7c-47ae-40b5-b9dc-e0af85b56092",
   "metadata": {},
   "outputs": [],
   "source": [
    "# (a).Randint()--->It will return random number in a given.\n",
    "# syntax-->\n",
    "# np.random.randint(min_number,max_number,tital_numbers)"
   ]
  },
  {
   "cell_type": "code",
   "execution_count": 45,
   "id": "b5d2f647-40c5-4711-ac3f-87fc2b12935d",
   "metadata": {},
   "outputs": [
    {
     "data": {
      "text/plain": [
       "array([5, 9, 9])"
      ]
     },
     "execution_count": 45,
     "metadata": {},
     "output_type": "execute_result"
    }
   ],
   "source": [
    "a=np.random.randint(1,10,3)\n",
    "a"
   ]
  },
  {
   "cell_type": "code",
   "execution_count": 46,
   "id": "0c56250a-d0a1-4f55-909c-06f1aa1cc742",
   "metadata": {},
   "outputs": [],
   "source": [
    "# (b).rand()--->It will provide random number in range of 0 to 1."
   ]
  },
  {
   "cell_type": "code",
   "execution_count": 47,
   "id": "fec404ab-e7ee-4001-81c3-7ab6c9da5f09",
   "metadata": {},
   "outputs": [
    {
     "data": {
      "text/plain": [
       "array([0.90906645, 0.10476116, 0.94437022, 0.73345528])"
      ]
     },
     "execution_count": 47,
     "metadata": {},
     "output_type": "execute_result"
    }
   ],
   "source": [
    "a=np.random.rand(4)\n",
    "a"
   ]
  },
  {
   "cell_type": "code",
   "execution_count": 48,
   "id": "845f82be-1a93-438e-9e11-81fd91b123e7",
   "metadata": {},
   "outputs": [],
   "source": [
    "# Random Numbers---->data use --->output\n",
    "# if random number refresh update---->previous output change."
   ]
  },
  {
   "cell_type": "code",
   "execution_count": 50,
   "id": "9efc81f8-4186-4628-9633-fe53d8fcaedb",
   "metadata": {},
   "outputs": [
    {
     "data": {
      "text/plain": [
       "array([5, 1, 2])"
      ]
     },
     "execution_count": 50,
     "metadata": {},
     "output_type": "execute_result"
    }
   ],
   "source": [
    "# (c).seed()--->It will fix our randon genrated data.\n",
    "np.random.seed(10)\n",
    "a=np.random.randint(1,10,3)\n",
    "a"
   ]
  },
  {
   "cell_type": "code",
   "execution_count": 51,
   "id": "b621824d-ff5c-49fc-b684-f02e9684f1c0",
   "metadata": {},
   "outputs": [],
   "source": [
    "# View vs Copy==>\n",
    "# view means modification in original data and copy means modification data"
   ]
  },
  {
   "cell_type": "code",
   "execution_count": 52,
   "id": "b300442a-c98d-470f-8ca6-c1b886ee844e",
   "metadata": {},
   "outputs": [
    {
     "data": {
      "text/plain": [
       "array([10, 20, 30, 40, 50, 60, 70, 80, 90])"
      ]
     },
     "execution_count": 52,
     "metadata": {},
     "output_type": "execute_result"
    }
   ],
   "source": [
    "a=np.array([10,20,30,40,50,60,70,80,90])\n",
    "a"
   ]
  },
  {
   "cell_type": "code",
   "execution_count": 54,
   "id": "116b7743-97fe-47ac-9a6f-01beb2edf1ce",
   "metadata": {},
   "outputs": [
    {
     "data": {
      "text/plain": [
       "array([0, 0, 0])"
      ]
     },
     "execution_count": 54,
     "metadata": {},
     "output_type": "execute_result"
    }
   ],
   "source": [
    "b=a[3:6]\n",
    "b[:]=0\n",
    "b"
   ]
  },
  {
   "cell_type": "code",
   "execution_count": 55,
   "id": "d305d3bd-b33c-4fb7-a22e-78f638ee2acc",
   "metadata": {},
   "outputs": [
    {
     "data": {
      "text/plain": [
       "array([10, 20, 30,  0,  0,  0, 70, 80, 90])"
      ]
     },
     "execution_count": 55,
     "metadata": {},
     "output_type": "execute_result"
    }
   ],
   "source": [
    "a"
   ]
  },
  {
   "cell_type": "code",
   "execution_count": 59,
   "id": "0c98e49e-3ae1-4ef1-af1e-f1455d9887b2",
   "metadata": {},
   "outputs": [
    {
     "data": {
      "text/plain": [
       "array([0, 0, 0])"
      ]
     },
     "execution_count": 59,
     "metadata": {},
     "output_type": "execute_result"
    }
   ],
   "source": [
    "a=np.array([10,20,30,40,50,60,70,80,90])\n",
    "b=a[3:6].copy()\n",
    "b[:]=0\n",
    "b"
   ]
  },
  {
   "cell_type": "code",
   "execution_count": 60,
   "id": "7ad38766-47ab-4938-8e3c-f3317a447a8d",
   "metadata": {},
   "outputs": [
    {
     "data": {
      "text/plain": [
       "array([10, 20, 30, 40, 50, 60, 70, 80, 90])"
      ]
     },
     "execution_count": 60,
     "metadata": {},
     "output_type": "execute_result"
    }
   ],
   "source": [
    "a"
   ]
  },
  {
   "cell_type": "code",
   "execution_count": null,
   "id": "f61d761d-ae8a-46a5-8d93-4b01cbe83e9d",
   "metadata": {},
   "outputs": [],
   "source": []
  }
 ],
 "metadata": {
  "kernelspec": {
   "display_name": "Python [conda env:base] *",
   "language": "python",
   "name": "conda-base-py"
  },
  "language_info": {
   "codemirror_mode": {
    "name": "ipython",
    "version": 3
   },
   "file_extension": ".py",
   "mimetype": "text/x-python",
   "name": "python",
   "nbconvert_exporter": "python",
   "pygments_lexer": "ipython3",
   "version": "3.12.7"
  }
 },
 "nbformat": 4,
 "nbformat_minor": 5
}

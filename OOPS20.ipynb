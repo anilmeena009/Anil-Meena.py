{
 "cells": [
  {
   "cell_type": "code",
   "execution_count": 1,
   "id": "4d64f678-ff67-478c-8877-35d3f2961acd",
   "metadata": {},
   "outputs": [],
   "source": [
    "# OOPA=>Object orinted programing system\n",
    "# oops is programing baed on the concert of the object of these object an contain data (attributes) and functionlty\n",
    "# why we use oops?\n",
    "# 1-> reusablity->     code can be re use throught the inheritence and classes reduseing rereadentency.\n",
    "# 2-> modulerty->      programed are devided into objcts making that easyer to understand and maintain.\n",
    "# 3-> data proctation->encapsulation helps restrict access to certain part of an object .\n",
    "# 4-> flexblity->      polymorphysm allowes the same interface to intract with differant of obj.\n",
    "\n",
    "# key cocepts\n",
    "# 1.class->\n",
    "            # a  class is ablue print for creating a object a defines a structer to hold data and \n",
    "            # function and function method related to that object\n",
    "\n",
    "# 2-object->\n",
    "            # an object   it represent a specific entirty created uses the class blue print\n",
    "# 3.self->\n",
    "            # self is a referncese if keyword to the current intence to the class its allow us to acces the object atribute and method .\n",
    "            # it must be the first parameter in instance method when calling a method self is past automaticlly\n",
    "#==> what heppend if we do not use self->\n",
    "            # if we no use the the method will not have a way to refer to the obeject calling it\n",
    "            # python will rease an error when trying to acces instance attributes or methods inside the class as the are not \n",
    "            # esplisity connected to the instance\n",
    "# 4.attributes->\n",
    "            # attributs are varibles that hold data about an object they are define inside a class and represent the\n",
    "            # properties or stay of an object\n",
    "# 5.methods->\n",
    "            # methodes are function define inside a classs that operate on the objects attributes the define the beheviour of an object.\n"
   ]
  },
  {
   "cell_type": "code",
   "execution_count": 13,
   "id": "91c95080-0a19-46e4-a459-6d988c491a25",
   "metadata": {},
   "outputs": [
    {
     "name": "stdout",
     "output_type": "stream",
     "text": [
      "name of employee is:anil and jorole is frontend developer\n"
     ]
    },
    {
     "data": {
      "text/plain": [
       "'jaipur'"
      ]
     },
     "execution_count": 13,
     "metadata": {},
     "output_type": "execute_result"
    }
   ],
   "source": [
    "class Employee:\n",
    "    location='jaipur'\n",
    "    def __init__(self,name,jobrole):\n",
    "        self.name=name\n",
    "        self.jobrole=jobrole\n",
    "    def getInfo(self):\n",
    "        print(f\"name of employee is:{self.name} and jorole is {self.jobrole}\")\n",
    "\n",
    "e=Employee('anil','frontend developer')\n",
    "e.getInfo()\n",
    "Employee.location"
   ]
  },
  {
   "cell_type": "code",
   "execution_count": 12,
   "id": "cc359caf-b70a-4018-883c-c9f3f381e9ac",
   "metadata": {},
   "outputs": [
    {
     "name": "stdout",
     "output_type": "stream",
     "text": [
      "12\n",
      "8\n",
      "20\n",
      "5.0\n"
     ]
    }
   ],
   "source": [
    "class Calculator:\n",
    "    def __init__(self,num1,num2):\n",
    "        self.num1=num1\n",
    "        self.num2=num2\n",
    "    def add(self):\n",
    "        return self.num1+self.num2\n",
    "    def subtract(self):\n",
    "        return self.num1-self.num2\n",
    "    def multiply(self):\n",
    "        return self.num1*self.num2\n",
    "    def divide(self):\n",
    "        if self.num2!=0:\n",
    "            return self.num1/self.num2\n",
    "        else:\n",
    "            return \"not devide by zero\"\n",
    "\n",
    "calc = Calculator(10,2)\n",
    "print(calc.add())\n",
    "print(calc.subtract())\n",
    "print(calc.multiply())\n",
    "print(calc.divide())"
   ]
  },
  {
   "cell_type": "code",
   "execution_count": 1,
   "id": "15482d03-1844-4122-bc1e-2225999fc80e",
   "metadata": {},
   "outputs": [
    {
     "name": "stdout",
     "output_type": "stream",
     "text": [
      "500 deposit.New balance 1500\n",
      "300 withdraw. Remaining balance:1200\n",
      "account balance for saurabh:1200\n"
     ]
    }
   ],
   "source": [
    "class BankAccount:\n",
    "    def __init__(self,holder_name,balance=0):\n",
    "        self.holder_name=holder_name\n",
    "        self.balance=balance\n",
    "    def deposit(self,amount):\n",
    "        self.balance+=amount\n",
    "        print(f\"{amount} deposit.New balance {self.balance}\")\n",
    "    def withdraw(self,amount):\n",
    "        if amount<=self.balance:\n",
    "            self.balance-=amount\n",
    "            print(f\"{amount} withdraw. Remaining balance:{self.balance}\")\n",
    "        else:\n",
    "            print(\"Insufficient funds!\")\n",
    "\n",
    "    def check_balance(self):\n",
    "            return (f\"account balance for {self.holder_name}:{self.balance}\")\n",
    "\n",
    "account=BankAccount(\"saurabh\",1000)\n",
    "account.deposit(500)\n",
    "account.withdraw(300)\n",
    "print(account.check_balance())"
   ]
  },
  {
   "cell_type": "code",
   "execution_count": 1,
   "id": "8f7ecd2c-418c-423c-8791-ec0bfb0f43fc",
   "metadata": {},
   "outputs": [
    {
     "name": "stdout",
     "output_type": "stream",
     "text": [
      "name:riya,age:20,marks:85\n",
      "pass\n"
     ]
    }
   ],
   "source": [
    "class Student:\n",
    "    def __init__(self,name,age,marks):\n",
    "        self.name=name\n",
    "        self.age=age\n",
    "        self.marks=marks\n",
    "    def display_details(self):\n",
    "        print(f\"name:{self.name},age:{self.age},marks:{self.marks}\" )\n",
    "    def has_passed(self):\n",
    "        if self.marks>=40:\n",
    "            return \"pass\"\n",
    "        else:\n",
    "            return \"fail\"\n",
    "student = Student(\"riya\",20,85)\n",
    "student.display_details()\n",
    "print(student.has_passed())"
   ]
  },
  {
   "cell_type": "code",
   "execution_count": 2,
   "id": "bb5e28d5-ca17-4015-b56d-6adcbe200da5",
   "metadata": {},
   "outputs": [],
   "source": [
    "# abstraction is a concert in aoops that hides unnecesry details from the user and only showes the asentioal feture an obj it allows us to focus on\n",
    "# that an object does reather then how is does it \n",
    "# in abstraction their is a class that survers as a blue print for other classes we can not create obj directly fron an abstrect class\n",
    "# a decorater(@) abstrect method ->that defines method in the abstract class but does not provede.\n",
    "# their implimantation to use abstraction pythons abc modeule(abstract base class )is tipicaly used.\n",
    "# "
   ]
  },
  {
   "cell_type": "code",
   "execution_count": 5,
   "id": "00070266-7041-43fa-829d-6d6bcae7973a",
   "metadata": {},
   "outputs": [
    {
     "name": "stdout",
     "output_type": "stream",
     "text": [
      "circle area: None\n",
      "circle perimeter: None\n"
     ]
    }
   ],
   "source": [
    "from abc import ABC , abstractmethod\n",
    "class Shape(ABC):\n",
    "    def area(self):\n",
    "        pass\n",
    "    def perimeter(self):\n",
    "        pass\n",
    "\n",
    "class Circle (Shape):\n",
    "    def __init__(self,radious ):\n",
    "        self.radious=radious\n",
    "    def ares(self):\n",
    "        return 3.14 * self.radious * self.radious\n",
    "    def parimeter(self):\n",
    "        return  3.14 * self.radious\n",
    "\n",
    "circle =Circle(5)\n",
    "print(\"circle area:\",circle.area())\n",
    "print(\"circle perimeter:\",circle.perimeter())"
   ]
  },
  {
   "cell_type": "code",
   "execution_count": 17,
   "id": "cb3b4ab8-2dd8-4198-83f5-ea6c62a4de36",
   "metadata": {},
   "outputs": [
    {
     "ename": "TypeError",
     "evalue": "CreditCardPayment() takes no arguments",
     "output_type": "error",
     "traceback": [
      "\u001b[1;31m---------------------------------------------------------------------------\u001b[0m",
      "\u001b[1;31mTypeError\u001b[0m                                 Traceback (most recent call last)",
      "Cell \u001b[1;32mIn[17], line 30\u001b[0m\n\u001b[0;32m     28\u001b[0m         \u001b[38;5;28;01mreturn\u001b[39;00m (\u001b[38;5;124mf\u001b[39m\u001b[38;5;124m\"\u001b[39m\u001b[38;5;124mpaypal payment of $\u001b[39m\u001b[38;5;132;01m{\u001b[39;00mamount\u001b[38;5;132;01m}\u001b[39;00m\u001b[38;5;124mprocessed.\u001b[39m\u001b[38;5;124m\"\u001b[39m)\n\u001b[0;32m     29\u001b[0m \u001b[38;5;66;03m# using the classes\u001b[39;00m\n\u001b[1;32m---> 30\u001b[0m payment1\u001b[38;5;241m=\u001b[39m CreditCardPayment(\u001b[38;5;241m1000\u001b[39m)\n\u001b[0;32m     31\u001b[0m \u001b[38;5;28mprint\u001b[39m(payment1\u001b[38;5;241m.\u001b[39mmake_payment(\u001b[38;5;241m100\u001b[39m))\n\u001b[0;32m     32\u001b[0m payment2\u001b[38;5;241m=\u001b[39mPayPalPayment()\n",
      "\u001b[1;31mTypeError\u001b[0m: CreditCardPayment() takes no arguments"
     ]
    }
   ],
   "source": [
    "# from abc import ABC, abstractmethod\n",
    "# # Abstract base class\n",
    "# class Payment(ABC):\n",
    "#     @abstractmethod\n",
    "#     def make_payment(self, amount):\n",
    "#         pass\n",
    "# class CreditCardPayment(Payment):  # 'Payment', not 'payment'\n",
    "#     def make_payment(self, amount):\n",
    "#         return f\"Credit card payment of ${amount} processed.\"\n",
    "# class PayPalPayment(Payment):  # 'Payment', not 'payment'\n",
    "#     def make_payment(self, amount):\n",
    "#         return f\"PayPal payment of ${amount} processed.\"\n",
    "# # Using the classes\n",
    "# payment1 = CreditCardPayment()\n",
    "# print(payment1.make_payment(100))\n",
    "# payment2 = PayPalPayment()\n",
    "# print(payment2.make_payment(200))\n",
    "from abc import ABC ,abstractmethod\n",
    "class Payment(ABC):\n",
    "    @abstractmethod\n",
    "    def make_payment(self,amount):\n",
    "        pass\n",
    "class CreditCardPayment(Payment):\n",
    "    def make_payment(self,amount):\n",
    "        return f\"credit card payment of ${amount} processed.\"\n",
    "class PayPalPayment(Payment):\n",
    "    def make_payment(self,amount):\n",
    "        return (f\"paypal payment of ${amount}processed.\")\n",
    "# using the classes\n",
    "payment1= CreditCardPayment(1000)\n",
    "print(payment1.make_payment(100))\n",
    "payment2=PayPalPayment()\n",
    "print(payment1.make_payment(100))"
   ]
  },
  {
   "cell_type": "code",
   "execution_count": 11,
   "id": "3d238642-9697-443e-9b87-a809c49ce251",
   "metadata": {},
   "outputs": [],
   "source": [
    "# what is encapsulation in oops->\n",
    "# encapsulation refer to bundling data/attributes and methods that work on the data in to a single unit\n",
    "# usually a class \n",
    "# there are two types\n",
    "# 1.public attributes-> \n",
    "# 2.private attributes->use in another function\n",
    "# why is encasulation is importent?\n",
    "# encapsulation is importent because it improve data security byb restrict unauthrized acces it prmot \n",
    "# modularity by hiding implimation detail \n",
    "# it unable cntroles over the data by provideing control access through method\n",
    "# it inhence code maintaiblity and reusablity by protecting data from unintended modification \n",
    "\n",
    "\n"
   ]
  },
  {
   "cell_type": "code",
   "execution_count": 9,
   "id": "95f84f31-7798-42bc-b5bd-59492048ad5c",
   "metadata": {},
   "outputs": [
    {
     "name": "stdout",
     "output_type": "stream",
     "text": [
      "anil\n",
      "5000\n",
      "deposit succesfil! new balance:8000\n",
      "withdrawal succesfil! new balance:6000\n"
     ]
    }
   ],
   "source": [
    "class BankAccount:\n",
    "    def __init__(self,account_holder,balance):\n",
    "        self.__account_holder=account_holder\n",
    "        self.__balance=balance\n",
    "    def get_account_holder(self):\n",
    "        return self.__account_holder\n",
    "    def get_balance(self):\n",
    "        return self.__balance\n",
    "    def deposit(self,amount):\n",
    "        if amount>0:\n",
    "            self.__balance+=amount\n",
    "            return f\"deposit succesfil! new balance:{self.__balance}\"\n",
    "        else:\n",
    "            return\"invalid deposit amount!\"\n",
    "    def withdraw(self,amount):\n",
    "        if amount<=self.__balance:\n",
    "            self.__balance-=amount\n",
    "            return f\"withdrawal succesfil! new balance:{self.__balance}\"\n",
    "        else:\n",
    "            return\"insufficient funds!\"\n",
    "    \n",
    "account=BankAccount(\"anil\",5000)\n",
    "print(account.get_account_holder())\n",
    "print(account.get_balance())\n",
    "print(account.deposit(3000))\n",
    "print(account.withdraw(2000))"
   ]
  },
  {
   "cell_type": "code",
   "execution_count": 25,
   "id": "450ba301-7232-4b5f-ab41-8d7b6570f3a8",
   "metadata": {},
   "outputs": [
    {
     "name": "stdout",
     "output_type": "stream",
     "text": [
      "rohit\n",
      "85\n",
      "grade updated sucefully\n",
      "55\n"
     ]
    }
   ],
   "source": [
    "class Student :\n",
    "    def __init__ (self,name,grade):\n",
    "        self.name=name\n",
    "        self.__grade=grade\n",
    "    def get_grade(self):\n",
    "        return self.__grade\n",
    "    def set_grade(self,new_grade):\n",
    "        if 0<=new_grade<=100:\n",
    "            self.__grade=new_grade\n",
    "            return \"grade updated sucefully\"\n",
    "        else:\n",
    "            return \"invalid grade\"\n",
    "student=Student(\"rohit\",85)\n",
    "print(student.name)\n",
    "print(student.get_grade())\n",
    "print(student.set_grade(55))\n",
    "print(student.get_grade())\n"
   ]
  }
 ],
 "metadata": {
  "kernelspec": {
   "display_name": "Python [conda env:base] *",
   "language": "python",
   "name": "conda-base-py"
  },
  "language_info": {
   "codemirror_mode": {
    "name": "ipython",
    "version": 3
   },
   "file_extension": ".py",
   "mimetype": "text/x-python",
   "name": "python",
   "nbconvert_exporter": "python",
   "pygments_lexer": "ipython3",
   "version": "3.12.7"
  }
 },
 "nbformat": 4,
 "nbformat_minor": 5
}

{
  "nbformat": 4,
  "nbformat_minor": 0,
  "metadata": {
    "colab": {
      "provenance": [],
      "authorship_tag": "ABX9TyMOQ+bx0Wj609wijW0EuvW6",
      "include_colab_link": true
    },
    "kernelspec": {
      "name": "python3",
      "display_name": "Python 3"
    },
    "language_info": {
      "name": "python"
    }
  },
  "cells": [
    {
      "cell_type": "markdown",
      "metadata": {
        "id": "view-in-github",
        "colab_type": "text"
      },
      "source": [
        "<a href=\"https://colab.research.google.com/github/anilmeena009/Anil-Meena.py/blob/main/Untitled13.ipynb\" target=\"_parent\"><img src=\"https://colab.research.google.com/assets/colab-badge.svg\" alt=\"Open In Colab\"/></a>"
      ]
    },
    {
      "cell_type": "code",
      "execution_count": null,
      "metadata": {
        "colab": {
          "base_uri": "https://localhost:8080/"
        },
        "id": "SDzI6LFQNOLE",
        "outputId": "b3d51882-09e5-415d-89e3-227349ee7da3"
      },
      "outputs": [
        {
          "output_type": "stream",
          "name": "stdout",
          "text": [
            "1\n",
            "2\n"
          ]
        }
      ],
      "source": [
        "start=1\n",
        "while(start<=5):\n",
        "  if(start==3):\n",
        "    break\n",
        "  # print(start)\n",
        "  # start+=1"
      ]
    },
    {
      "cell_type": "code",
      "source": [
        "start=1\n",
        "while(start<=5):\n",
        "  if(start==3):\n",
        "    start+=1\n",
        "    print(\"hey\")\n",
        "    continue\n",
        "  #   print(\"hey\")\n",
        "  # print(start)\n",
        "  # start+=1"
      ],
      "metadata": {
        "colab": {
          "base_uri": "https://localhost:8080/"
        },
        "id": "9E3Ch6e2ONGp",
        "outputId": "61f8db91-191f-4687-c0bc-01b62077b276"
      },
      "execution_count": null,
      "outputs": [
        {
          "output_type": "stream",
          "name": "stdout",
          "text": [
            "1\n",
            "2\n",
            "hey\n",
            "4\n",
            "5\n"
          ]
        }
      ]
    },
    {
      "cell_type": "code",
      "source": [],
      "metadata": {
        "id": "5GLW5sW4PltG"
      },
      "execution_count": null,
      "outputs": []
    },
    {
      "cell_type": "code",
      "source": [
        "num=13\n",
        "i=2\n",
        "out=0\n",
        "while(i<num):\n",
        "  if(num%i==0):\n",
        "    out=1\n",
        "    break\n",
        "  i+=1\n",
        "\n",
        "if(out==0):\n",
        "    print(\"prime number\")\n",
        "else:\n",
        "    print(\"not a prime number\")"
      ],
      "metadata": {
        "colab": {
          "base_uri": "https://localhost:8080/"
        },
        "id": "SliwZ8p8SlLT",
        "outputId": "5131e701-5212-4399-ed04-e23ceece70be"
      },
      "execution_count": null,
      "outputs": [
        {
          "output_type": "stream",
          "name": "stdout",
          "text": [
            "prime number\n"
          ]
        }
      ]
    },
    {
      "cell_type": "code",
      "source": [
        "num=10\n",
        "out=0\n",
        "for i in range(2,num):\n",
        "  if(num%i==0):\n",
        "    out=1\n",
        "    break\n",
        "  i+=1\n",
        "\n",
        "if(out==0):\n",
        "    print(\"prime number\")\n",
        "else:\n",
        "    print(\"not a prime number\")"
      ],
      "metadata": {
        "colab": {
          "base_uri": "https://localhost:8080/"
        },
        "id": "ELMzit76Uw9S",
        "outputId": "eb7f213c-52f5-49e3-be32-d4e4dbf674e5"
      },
      "execution_count": null,
      "outputs": [
        {
          "output_type": "stream",
          "name": "stdout",
          "text": [
            "not a prime number\n"
          ]
        }
      ]
    },
    {
      "cell_type": "code",
      "source": [
        "# to find whether a string is a palindrome or not\n",
        "# 'saras'\n",
        "# data=\"sarataz\"   #it's data is not palindrome\n",
        "data=\"saras\"  #it's data is palindrome\n",
        "i=0\n",
        "end=len(data)-1\n",
        "while(i<=len(data)-1):\n",
        "   print(i, data[i], data[end])\n",
        "   i+=1\n",
        "   end-=1"
      ],
      "metadata": {
        "colab": {
          "base_uri": "https://localhost:8080/"
        },
        "id": "AXT3ofC4VJrT",
        "outputId": "494f23a0-6704-46ee-fdd6-7ba0e305925d"
      },
      "execution_count": null,
      "outputs": [
        {
          "output_type": "stream",
          "name": "stdout",
          "text": [
            "0 s z\n",
            "1 a a\n",
            "2 r t\n",
            "3 a a\n",
            "4 t r\n",
            "5 a a\n",
            "6 z s\n"
          ]
        }
      ]
    },
    {
      "cell_type": "code",
      "source": [
        "data=\"saras\"\n",
        "i=0\n",
        "out=0\n",
        "end=len(data)-1\n",
        "while(i<=len(data)-1):\n",
        "   if(data[i] !=data[end]):\n",
        "    out=2\n",
        "    break\n",
        "   i+=1\n",
        "   end-=1\n",
        "if(out==0):\n",
        "  print(\"palaindrme\")\n",
        "else:\n",
        "  print(\"not a palindrome\")"
      ],
      "metadata": {
        "colab": {
          "base_uri": "https://localhost:8080/"
        },
        "id": "BXt7W24zYjXr",
        "outputId": "7394cce8-7cbf-42a6-e39a-0f6dadd75a2b"
      },
      "execution_count": null,
      "outputs": [
        {
          "output_type": "stream",
          "name": "stdout",
          "text": [
            "palaindrme\n"
          ]
        }
      ]
    },
    {
      "cell_type": "code",
      "source": [
        "data=\"saras\"\n",
        "i=0\n",
        "out=0\n",
        "end=len(data)+1\n",
        "while(i<=len(data)+1):\n",
        "   if(data[i] !=data[end]):\n",
        "    out=2\n",
        "    break\n",
        "   i+=1\n",
        "   end-=1\n",
        "if(out==0):\n",
        "  print(\"palaindrme\")\n",
        "else:\n",
        "  print(\"not a palindrome\")"
      ],
      "metadata": {
        "colab": {
          "base_uri": "https://localhost:8080/",
          "height": 219
        },
        "id": "3Yhms9QBajFP",
        "outputId": "92f18de9-0f1a-4a89-8952-2050c492469f"
      },
      "execution_count": null,
      "outputs": [
        {
          "output_type": "error",
          "ename": "IndexError",
          "evalue": "string index out of range",
          "traceback": [
            "\u001b[0;31m---------------------------------------------------------------------------\u001b[0m",
            "\u001b[0;31mIndexError\u001b[0m                                Traceback (most recent call last)",
            "\u001b[0;32m<ipython-input-61-8eaa2776b322>\u001b[0m in \u001b[0;36m<cell line: 0>\u001b[0;34m()\u001b[0m\n\u001b[1;32m      4\u001b[0m \u001b[0mend\u001b[0m\u001b[0;34m=\u001b[0m\u001b[0mlen\u001b[0m\u001b[0;34m(\u001b[0m\u001b[0mdata\u001b[0m\u001b[0;34m)\u001b[0m\u001b[0;34m+\u001b[0m\u001b[0;36m1\u001b[0m\u001b[0;34m\u001b[0m\u001b[0;34m\u001b[0m\u001b[0m\n\u001b[1;32m      5\u001b[0m \u001b[0;32mwhile\u001b[0m\u001b[0;34m(\u001b[0m\u001b[0mi\u001b[0m\u001b[0;34m<=\u001b[0m\u001b[0mlen\u001b[0m\u001b[0;34m(\u001b[0m\u001b[0mdata\u001b[0m\u001b[0;34m)\u001b[0m\u001b[0;34m+\u001b[0m\u001b[0;36m1\u001b[0m\u001b[0;34m)\u001b[0m\u001b[0;34m:\u001b[0m\u001b[0;34m\u001b[0m\u001b[0;34m\u001b[0m\u001b[0m\n\u001b[0;32m----> 6\u001b[0;31m    \u001b[0;32mif\u001b[0m\u001b[0;34m(\u001b[0m\u001b[0mdata\u001b[0m\u001b[0;34m[\u001b[0m\u001b[0mi\u001b[0m\u001b[0;34m]\u001b[0m \u001b[0;34m==\u001b[0m\u001b[0mdata\u001b[0m\u001b[0;34m[\u001b[0m\u001b[0mend\u001b[0m\u001b[0;34m]\u001b[0m\u001b[0;34m)\u001b[0m\u001b[0;34m:\u001b[0m\u001b[0;34m\u001b[0m\u001b[0;34m\u001b[0m\u001b[0m\n\u001b[0m\u001b[1;32m      7\u001b[0m     \u001b[0mout\u001b[0m\u001b[0;34m=\u001b[0m\u001b[0;36m2\u001b[0m\u001b[0;34m\u001b[0m\u001b[0;34m\u001b[0m\u001b[0m\n\u001b[1;32m      8\u001b[0m     \u001b[0;32mbreak\u001b[0m\u001b[0;34m\u001b[0m\u001b[0;34m\u001b[0m\u001b[0m\n",
            "\u001b[0;31mIndexError\u001b[0m: string index out of range"
          ]
        }
      ]
    }
  ]
}
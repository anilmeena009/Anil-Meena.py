{
  "nbformat": 4,
  "nbformat_minor": 0,
  "metadata": {
    "colab": {
      "provenance": [],
      "authorship_tag": "ABX9TyN1/u+ziwdcGLYoav9nVLfw",
      "include_colab_link": true
    },
    "kernelspec": {
      "name": "python3",
      "display_name": "Python 3"
    },
    "language_info": {
      "name": "python"
    }
  },
  "cells": [
    {
      "cell_type": "markdown",
      "metadata": {
        "id": "view-in-github",
        "colab_type": "text"
      },
      "source": [
        "<a href=\"https://colab.research.google.com/github/anilmeena009/Anil-Meena.py/blob/main/Untitled14.ipynb\" target=\"_parent\"><img src=\"https://colab.research.google.com/assets/colab-badge.svg\" alt=\"Open In Colab\"/></a>"
      ]
    },
    {
      "cell_type": "code",
      "execution_count": null,
      "metadata": {
        "colab": {
          "base_uri": "https://localhost:8080/"
        },
        "id": "RHu7Y4FrdHDw",
        "outputId": "0e6c60be-ae6c-490d-c60d-c4e512e6facb"
      },
      "outputs": [
        {
          "output_type": "stream",
          "name": "stdout",
          "text": [
            "Expense 1200: Expensive\n",
            "Expense 500: Affordable\n",
            "Expense 750: Affordable\n",
            "Expense 2000: Expensive\n",
            "Expense 300: Affordable\n",
            "Expense 1000: Expensive\n",
            "Expense 999: Affordable\n"
          ]
        }
      ],
      "source": [
        "expenses = [1200, 500, 750, 2000, 300,1000,999]\n",
        "budget = 1000\n",
        "i = 0\n",
        "while i < len(expenses):\n",
        "    if expenses[i] >= budget:\n",
        "        print(f\"Expense {expenses[i]}: Expensive\")\n",
        "    else:\n",
        "        print(f\"Expense {expenses[i]}: Affordable\")\n",
        "    i += 1\n"
      ]
    },
    {
      "cell_type": "code",
      "source": [
        "num =800\n",
        "\n",
        "while(num%4==0 and num%400==0):\n",
        "  if(num%100!=0):\n",
        "    print(\"given year is leap year\")\n",
        "else:\n",
        "  print(\"given year is not a leap year\")"
      ],
      "metadata": {
        "id": "_C9crrYodeXR"
      },
      "execution_count": null,
      "outputs": []
    },
    {
      "cell_type": "code",
      "source": [],
      "metadata": {
        "id": "2Jjs5ti-h0hZ"
      },
      "execution_count": null,
      "outputs": []
    }
  ]
}
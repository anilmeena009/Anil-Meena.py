{
  "nbformat": 4,
  "nbformat_minor": 0,
  "metadata": {
    "colab": {
      "provenance": [],
      "authorship_tag": "ABX9TyOQS4sYit6ODpctSZ/3LFvM",
      "include_colab_link": true
    },
    "kernelspec": {
      "name": "python3",
      "display_name": "Python 3"
    },
    "language_info": {
      "name": "python"
    }
  },
  "cells": [
    {
      "cell_type": "markdown",
      "metadata": {
        "id": "view-in-github",
        "colab_type": "text"
      },
      "source": [
        "<a href=\"https://colab.research.google.com/github/anilmeena009/Anil-Meena.py/blob/main/Untitled15.ipynb\" target=\"_parent\"><img src=\"https://colab.research.google.com/assets/colab-badge.svg\" alt=\"Open In Colab\"/></a>"
      ]
    },
    {
      "cell_type": "code",
      "execution_count": null,
      "metadata": {
        "colab": {
          "base_uri": "https://localhost:8080/"
        },
        "id": "rWHRdMbBO42X",
        "outputId": "027762d5-6ea0-4755-d50b-c426db44df78"
      },
      "outputs": [
        {
          "output_type": "stream",
          "name": "stdout",
          "text": [
            "value of x 10 10751144\n",
            "value of a 10 10751144\n",
            "value of a 12 10751208\n"
          ]
        }
      ],
      "source": [
        "\n",
        "x=10\n",
        "print(\"value of x\", x, id(x))\n",
        "a=x\n",
        "print(\"value of a\",a,id(a))\n",
        "a=12\n",
        "print(\"value of a\",a,id(a))"
      ]
    },
    {
      "cell_type": "code",
      "source": [
        "for i in range(1,5):\n",
        "  print(\"student \",i)\n",
        "  for j in range(12,0,-2):\n",
        "     print(\"student==>\",j)"
      ],
      "metadata": {
        "colab": {
          "base_uri": "https://localhost:8080/"
        },
        "id": "rstZ9GK9XTPl",
        "outputId": "9121d265-49c2-4a76-b6c1-5fccdc092c4b"
      },
      "execution_count": null,
      "outputs": [
        {
          "output_type": "stream",
          "name": "stdout",
          "text": [
            "student  1\n",
            "student==> 12\n",
            "student==> 10\n",
            "student==> 8\n",
            "student==> 6\n",
            "student==> 4\n",
            "student==> 2\n",
            "student  2\n",
            "student==> 12\n",
            "student==> 10\n",
            "student==> 8\n",
            "student==> 6\n",
            "student==> 4\n",
            "student==> 2\n",
            "student  3\n",
            "student==> 12\n",
            "student==> 10\n",
            "student==> 8\n",
            "student==> 6\n",
            "student==> 4\n",
            "student==> 2\n",
            "student  4\n",
            "student==> 12\n",
            "student==> 10\n",
            "student==> 8\n",
            "student==> 6\n",
            "student==> 4\n",
            "student==> 2\n"
          ]
        }
      ]
    },
    {
      "cell_type": "code",
      "source": [
        "for i in range(1,5):\n",
        "  print(\"student \",i)\n",
        "  for j in range(5,i-1,-1):\n",
        "     print(\"subject==>\",j)"
      ],
      "metadata": {
        "colab": {
          "base_uri": "https://localhost:8080/"
        },
        "id": "nTucwPGiciTI",
        "outputId": "1225320f-38f0-419e-d893-405dfd6e6922"
      },
      "execution_count": null,
      "outputs": [
        {
          "output_type": "stream",
          "name": "stdout",
          "text": [
            "student  1\n",
            "subject==> 5\n",
            "subject==> 4\n",
            "subject==> 3\n",
            "subject==> 2\n",
            "subject==> 1\n",
            "student  2\n",
            "subject==> 5\n",
            "subject==> 4\n",
            "subject==> 3\n",
            "subject==> 2\n",
            "student  3\n",
            "subject==> 5\n",
            "subject==> 4\n",
            "subject==> 3\n",
            "student  4\n",
            "subject==> 5\n",
            "subject==> 4\n"
          ]
        }
      ]
    }
  ]
}
{
  "nbformat": 4,
  "nbformat_minor": 0,
  "metadata": {
    "colab": {
      "provenance": [],
      "authorship_tag": "ABX9TyMKFJ/mTxwPHvaBw1OnbCQW",
      "include_colab_link": true
    },
    "kernelspec": {
      "name": "python3",
      "display_name": "Python 3"
    },
    "language_info": {
      "name": "python"
    }
  },
  "cells": [
    {
      "cell_type": "markdown",
      "metadata": {
        "id": "view-in-github",
        "colab_type": "text"
      },
      "source": [
        "<a href=\"https://colab.research.google.com/github/anilmeena009/Anil-Meena.py/blob/main/Untitled16.ipynb\" target=\"_parent\"><img src=\"https://colab.research.google.com/assets/colab-badge.svg\" alt=\"Open In Colab\"/></a>"
      ]
    },
    {
      "cell_type": "code",
      "execution_count": null,
      "metadata": {
        "colab": {
          "base_uri": "https://localhost:8080/"
        },
        "id": "VikfS6luKSFN",
        "outputId": "aaefad32-e446-48dd-df9e-c0a7bb601946"
      },
      "outputs": [
        {
          "output_type": "stream",
          "name": "stdout",
          "text": [
            "enter the number 9\n",
            "invalide age\n"
          ]
        }
      ],
      "source": [
        "age=int(input(\"enter the number \"))\n",
        "if(age>9):\n",
        "  print(\"my age is \",age)\n",
        "else:\n",
        "  print(\"invalide age\")"
      ]
    },
    {
      "cell_type": "code",
      "source": [
        "age=int(input(\"enter the number \"))\n",
        "if age in range(18,20):\n",
        "  print(\"my age is 18 and 19\")\n",
        "else:\n",
        "  print(\"condition is not match\")"
      ],
      "metadata": {
        "colab": {
          "base_uri": "https://localhost:8080/"
        },
        "id": "hm0Gy-xGL97v",
        "outputId": "814fe77d-0d82-4fcc-85f4-9beafa1e51b2"
      },
      "execution_count": null,
      "outputs": [
        {
          "output_type": "stream",
          "name": "stdout",
          "text": [
            "enter the number 25\n",
            "condition is not match\n"
          ]
        }
      ]
    },
    {
      "cell_type": "code",
      "source": [
        "age=int(input(\"enter the number \"))\n",
        "if age in range(10,19):\n",
        "  print(\"my age is correct\")\n",
        "else:\n",
        "  print(\"condition is not match\")"
      ],
      "metadata": {
        "colab": {
          "base_uri": "https://localhost:8080/"
        },
        "id": "kD-inlHRNZNa",
        "outputId": "5981870a-ce53-41eb-b2f9-3851ed423d4d"
      },
      "execution_count": null,
      "outputs": [
        {
          "output_type": "stream",
          "name": "stdout",
          "text": [
            "enter the number 10\n",
            "my age is correct\n"
          ]
        }
      ]
    },
    {
      "cell_type": "code",
      "source": [
        "a=90\n",
        "b=40\n",
        "c=30\n",
        "if(a>b and a>c):\n",
        "  print(\"greatest number is a\")\n",
        "elif(b>a and b>c):\n",
        "  print(\" greatest number is b\" )\n",
        "else:\n",
        "  print(\"greatest number is c\")"
      ],
      "metadata": {
        "colab": {
          "base_uri": "https://localhost:8080/"
        },
        "id": "rrOC4GeqNzjN",
        "outputId": "f5242c3c-36af-4e06-e34b-727975a4b1f7"
      },
      "execution_count": null,
      "outputs": [
        {
          "output_type": "stream",
          "name": "stdout",
          "text": [
            "greatest number is a\n"
          ]
        }
      ]
    },
    {
      "cell_type": "code",
      "source": [
        "a=90\n",
        "b=40\n",
        "c=50\n",
        "if(a<b and a<c):\n",
        "  print(\"smallest number is a\")\n",
        "elif(b<a and b<c):\n",
        "  print(\" smallest number is b\" )\n",
        "else:\n",
        "  print(\"smallest number is c\")"
      ],
      "metadata": {
        "colab": {
          "base_uri": "https://localhost:8080/"
        },
        "id": "X_fxxzfVOzz6",
        "outputId": "095b33fd-0208-4088-d827-bdf5f5de6342"
      },
      "execution_count": null,
      "outputs": [
        {
          "output_type": "stream",
          "name": "stdout",
          "text": [
            " smallest number is b\n"
          ]
        }
      ]
    },
    {
      "cell_type": "code",
      "source": [
        "num=20\n",
        "if(num%2==0):\n",
        "  print(\"number is divided by 2\")\n",
        "elif(num%3==0):\n",
        "  print(\"number is divided by 3\")\n",
        "elif(num%6==0):\n",
        "  print(\"number is divided by 6\")\n",
        "else:\n",
        "  print(\"number is not divide\")\n"
      ],
      "metadata": {
        "colab": {
          "base_uri": "https://localhost:8080/"
        },
        "id": "l6sAYTl6PNeM",
        "outputId": "661a9823-853d-4174-c1a7-d21059515280"
      },
      "execution_count": null,
      "outputs": [
        {
          "output_type": "stream",
          "name": "stdout",
          "text": [
            "number is divided by 2\n"
          ]
        }
      ]
    },
    {
      "cell_type": "code",
      "source": [
        "num=int(input(\"enter the number \"))\n",
        "if(num%2==0 and num%3==0):\n",
        "  print(\"number is divisible by 6\")\n",
        "else:\n",
        "  print(\"number is not divisible\")"
      ],
      "metadata": {
        "colab": {
          "base_uri": "https://localhost:8080/"
        },
        "id": "QDDEQGozQAF_",
        "outputId": "c833e054-2e7e-454d-d004-cf9d1c693dd9"
      },
      "execution_count": null,
      "outputs": [
        {
          "output_type": "stream",
          "name": "stdout",
          "text": [
            "enter the number 14\n",
            "number is not divisible\n"
          ]
        }
      ]
    },
    {
      "cell_type": "code",
      "source": [
        "age=int(input(\"enter the number \"))\n",
        "if age<18:\n",
        "  print(\"age is mature\")\n",
        "elif age<30:\n",
        "  print(\"age is young\")\n",
        "elif age<50:\n",
        "  print(\"age is old\")\n",
        "else:\n",
        "  print(\"yes\")"
      ],
      "metadata": {
        "colab": {
          "base_uri": "https://localhost:8080/"
        },
        "id": "30um7s3HQkHQ",
        "outputId": "0e5fcb67-234b-4b51-c9b2-594a1ed37b5d"
      },
      "execution_count": null,
      "outputs": [
        {
          "output_type": "stream",
          "name": "stdout",
          "text": [
            "enter the number 17\n",
            "age is mature\n"
          ]
        }
      ]
    },
    {
      "cell_type": "code",
      "source": [
        "age=int(input(\"enter the age\"))\n",
        "if(age>2):\n",
        "  print(\"age is grater then 2\")\n",
        "  if(age==10):\n",
        "    print(\"age is equal to 10\")\n",
        "  else:\n",
        "    print(\"age is not equal to 10\")\n",
        "else:\n",
        "  print(\"age is less then 2\")"
      ],
      "metadata": {
        "colab": {
          "base_uri": "https://localhost:8080/"
        },
        "id": "EM-KnTONR8Z7",
        "outputId": "cf4c8bb0-4521-4729-c170-7e628a80f1fa"
      },
      "execution_count": null,
      "outputs": [
        {
          "output_type": "stream",
          "name": "stdout",
          "text": [
            "age is grater then 2\n",
            "age is not equal to 10\n"
          ]
        }
      ]
    },
    {
      "cell_type": "code",
      "source": [
        "num=int(input(\"enter the number\"))\n",
        "if(num%2==0):\n",
        "  print(\"number is even\")\n",
        "else:\n",
        "        print(\"number is odd\")"
      ],
      "metadata": {
        "colab": {
          "base_uri": "https://localhost:8080/"
        },
        "id": "_eTMDXsaUhf5",
        "outputId": "e157cd05-5c19-41f3-b924-40ba85bcfa0e"
      },
      "execution_count": null,
      "outputs": [
        {
          "output_type": "stream",
          "name": "stdout",
          "text": [
            "enter the number13\n",
            "number is odd\n"
          ]
        }
      ]
    },
    {
      "cell_type": "code",
      "source": [
        "a=int(input(\"enter the first number\"))\n",
        "b=int(input(\"enter the second number\"))\n",
        "c=int(input(\"enter the third number\"))\n",
        "if(a>b and a>c):\n",
        "  print(\"largest number is a\")\n",
        "elif(b>a and b>c):\n",
        "  print(\"largest number is b\")\n",
        "else:\n",
        "  print(\"largest number is c\")"
      ],
      "metadata": {
        "colab": {
          "base_uri": "https://localhost:8080/"
        },
        "id": "JXhB98CJVQEc",
        "outputId": "482a49f2-9287-4d8b-e106-786731ad421e"
      },
      "execution_count": null,
      "outputs": [
        {
          "output_type": "stream",
          "name": "stdout",
          "text": [
            "enter the first number10\n",
            "enter the second number10\n",
            "enter the third number10\n",
            "largest number is c\n"
          ]
        }
      ]
    },
    {
      "cell_type": "code",
      "source": [
        "year=int(input(\"enter the year==>\"))\n",
        "if(year%4==0 and year%100!=0 or year%400==0):\n",
        "    print(\"year is leap year\")\n",
        "else:\n",
        "    print(\"year is not leap year\")"
      ],
      "metadata": {
        "colab": {
          "base_uri": "https://localhost:8080/"
        },
        "id": "9jTZBmofWCm_",
        "outputId": "7f982978-3aaa-4ded-d59f-fda7709f36df"
      },
      "execution_count": null,
      "outputs": [
        {
          "output_type": "stream",
          "name": "stdout",
          "text": [
            "enter the year==>2448\n",
            "year is leap year\n"
          ]
        }
      ]
    },
    {
      "cell_type": "code",
      "source": [
        "letter=input(\"enter the letter==>\")\n",
        "if letter in ('a','e','i','o','u'):\n",
        "  print(\"letter is vowel\")\n",
        "else:\n",
        "  print(\"letter is consonant\")"
      ],
      "metadata": {
        "colab": {
          "base_uri": "https://localhost:8080/"
        },
        "id": "diwDw25mfJUD",
        "outputId": "7f71d26f-8a9c-46a2-8b85-1d847e96a333"
      },
      "execution_count": null,
      "outputs": [
        {
          "output_type": "stream",
          "name": "stdout",
          "text": [
            "enter the letter==>w\n",
            "letter is consonant\n"
          ]
        }
      ]
    },
    {
      "cell_type": "code",
      "source": [
        "op=input(\"enter te operator\")\n",
        "a=float(input(\"enter first number=>\"))\n",
        "b=float(input(\"enter second numbre=>\"))\n",
        "\n",
        "if(op==\"+\"):\n",
        "  print(a+b)\n",
        "elif(op==\"-\"):\n",
        "  print(a-b)\n",
        "elif(op==\"*\"):\n",
        "  print(a*b)\n",
        "elif(op==\"/\"):\n",
        "  if(b!=0):\n",
        "    print(a/b)\n",
        "else:\n",
        "  print(\"invalid operator\")"
      ],
      "metadata": {
        "colab": {
          "base_uri": "https://localhost:8080/"
        },
        "id": "l4dEyxPMkdYI",
        "outputId": "b7fb399b-fabc-4120-c222-e95553a11603"
      },
      "execution_count": null,
      "outputs": [
        {
          "output_type": "stream",
          "name": "stdout",
          "text": [
            "enter te operator*\n",
            "enter first number=>4\n",
            "enter second numbre=>4\n",
            "16.0\n"
          ]
        }
      ]
    },
    {
      "cell_type": "code",
      "source": [
        "day_num = int(input(\"Enter a number=>\"))\n",
        "if day_num in range(1,8):\n",
        "\n",
        "  if day_num == 1:\n",
        "    print(\"Monday\")\n",
        "  elif day_num == 2:\n",
        "    print(\"Tuesday\")\n",
        "  elif day_num == 3:\n",
        "    print(\"Wednesday\")\n",
        "  elif day_num == 4:\n",
        "    print(\"Thursday\")\n",
        "  elif day_num == 5:\n",
        "    print(\"Friday\")\n",
        "  elif day_num == 6:\n",
        "    print(\"Saturday\")\n",
        "  elif day_num == 7:\n",
        "    print(\"Sunday\")\n",
        "else:\n",
        "  print(\"Invalid input\")\n"
      ],
      "metadata": {
        "colab": {
          "base_uri": "https://localhost:8080/"
        },
        "id": "gytb8EhslT9m",
        "outputId": "9f42d7c2-dac6-40ed-f74d-e053f2eec52e"
      },
      "execution_count": null,
      "outputs": [
        {
          "output_type": "stream",
          "name": "stdout",
          "text": [
            "Enter a number=>7\n",
            "Sunday\n"
          ]
        }
      ]
    },
    {
      "cell_type": "code",
      "source": [
        "n=int(input(\"enter the number==>\"))\n",
        "i=1\n",
        "while(n>=i):\n",
        "  print(n)\n",
        "  n-=1"
      ],
      "metadata": {
        "id": "yckr7c7umX1f",
        "colab": {
          "base_uri": "https://localhost:8080/"
        },
        "outputId": "ffac330c-95d3-493b-b9bf-65b23a96e509"
      },
      "execution_count": null,
      "outputs": [
        {
          "output_type": "stream",
          "name": "stdout",
          "text": [
            "enter the number==>10\n",
            "10\n",
            "9\n",
            "8\n",
            "7\n",
            "6\n",
            "5\n",
            "4\n",
            "3\n",
            "2\n",
            "1\n"
          ]
        }
      ]
    },
    {
      "cell_type": "code",
      "source": [
        "ch=input(\"enter the character\")\n",
        "while(ch<='z'):\n",
        "  print(ch,end=' ')\n",
        "  ch=chr(ord(ch)+1)"
      ],
      "metadata": {
        "colab": {
          "base_uri": "https://localhost:8080/"
        },
        "id": "YrMEq6QQOmcV",
        "outputId": "a1306a39-c697-4c28-b27a-394998f07661"
      },
      "execution_count": null,
      "outputs": [
        {
          "output_type": "stream",
          "name": "stdout",
          "text": [
            "enter the characterw\n",
            "w x y z "
          ]
        }
      ]
    },
    {
      "cell_type": "code",
      "source": [
        "num=int(input(\"enter the number\"))\n",
        "count=0\n",
        "while(num>=1):\n",
        "  if(num%2==0):\n",
        "    count=count+1\n",
        "    print(num,end=' ')\n",
        "  num-=1\n",
        "print(\"total even number is\",count)"
      ],
      "metadata": {
        "colab": {
          "base_uri": "https://localhost:8080/"
        },
        "id": "nYWoyRbgQg4K",
        "outputId": "cb61038a-95f8-4788-b5f6-a5557ffe1cd2"
      },
      "execution_count": null,
      "outputs": [
        {
          "output_type": "stream",
          "name": "stdout",
          "text": [
            "enter the number100\n",
            "total even number is 50\n"
          ]
        }
      ]
    },
    {
      "cell_type": "code",
      "source": [
        "n=int(input(\"enter the number of digits\"))\n",
        "count=0\n",
        "while(n>=1):\n",
        "  count=count+1\n",
        "  n=n//10\n",
        "print(\"total number of digits are\",count)"
      ],
      "metadata": {
        "colab": {
          "base_uri": "https://localhost:8080/"
        },
        "id": "fy8cCr3uShof",
        "outputId": "3cc8fea5-7ffa-4223-ff7b-0a2a2bf09a39"
      },
      "execution_count": null,
      "outputs": [
        {
          "output_type": "stream",
          "name": "stdout",
          "text": [
            "enter the number of digits12354\n",
            "total number of digits are 5\n"
          ]
        }
      ]
    },
    {
      "cell_type": "code",
      "source": [
        "for i in range (1,5):\n",
        "  print(\"student\",i)\n",
        "  for j in range (1,6-i):\n",
        "    print(\"subject check\",j)"
      ],
      "metadata": {
        "colab": {
          "base_uri": "https://localhost:8080/"
        },
        "id": "7ll4V8AhVj03",
        "outputId": "fb9981aa-fe9f-4e26-e68b-5e1a6f368989"
      },
      "execution_count": null,
      "outputs": [
        {
          "output_type": "stream",
          "name": "stdout",
          "text": [
            "student 1\n",
            "subject check 1\n",
            "subject check 2\n",
            "subject check 3\n",
            "subject check 4\n",
            "student 2\n",
            "subject check 1\n",
            "subject check 2\n",
            "subject check 3\n",
            "student 3\n",
            "subject check 1\n",
            "subject check 2\n",
            "student 4\n",
            "subject check 1\n"
          ]
        }
      ]
    },
    {
      "cell_type": "code",
      "source": [
        "num=4\n",
        "for i in range (1,11):\n",
        "   print(i*4)"
      ],
      "metadata": {
        "colab": {
          "base_uri": "https://localhost:8080/"
        },
        "id": "P_EHo3qxZEGi",
        "outputId": "683e6d1a-fab7-45f1-d7d1-af194be4ee97"
      },
      "execution_count": null,
      "outputs": [
        {
          "output_type": "stream",
          "name": "stdout",
          "text": [
            "4\n",
            "8\n",
            "12\n",
            "16\n",
            "20\n",
            "24\n",
            "28\n",
            "32\n",
            "36\n",
            "40\n"
          ]
        }
      ]
    },
    {
      "cell_type": "code",
      "source": [
        "num=int(input(\"enter the number\"))\n",
        "a=0\n",
        "for i in range(2,num):\n",
        "  if(num%2==0):\n",
        "    a=1\n",
        "    break\n",
        "if(a==0):\n",
        "    print(\"prime\",num)\n",
        "else:\n",
        "    print(\"not prime\",num)"
      ],
      "metadata": {
        "colab": {
          "base_uri": "https://localhost:8080/"
        },
        "id": "Wj03j_yScKii",
        "outputId": "576fa3e2-a657-4dcf-94b3-91687f47be7d"
      },
      "execution_count": null,
      "outputs": [
        {
          "output_type": "stream",
          "name": "stdout",
          "text": [
            "enter the number47\n",
            "prime 47\n"
          ]
        }
      ]
    },
    {
      "cell_type": "code",
      "source": [
        "for num in range (400,450):\n",
        "  total=0\n",
        "  original=num\n",
        "  while(num>0):\n",
        "    rem1=num%10\n",
        "    num=num//10\n",
        "    total=total+rem1\n",
        "  print(\"total \",original,total)"
      ],
      "metadata": {
        "colab": {
          "base_uri": "https://localhost:8080/"
        },
        "id": "-8j6TK18ddpg",
        "outputId": "49161779-8b04-45db-93d8-3f41b8d60b8f"
      },
      "execution_count": null,
      "outputs": [
        {
          "output_type": "stream",
          "name": "stdout",
          "text": [
            "total  400 4\n",
            "total  401 5\n",
            "total  402 6\n",
            "total  403 7\n",
            "total  404 8\n",
            "total  405 9\n",
            "total  406 10\n",
            "total  407 11\n",
            "total  408 12\n",
            "total  409 13\n",
            "total  410 5\n",
            "total  411 6\n",
            "total  412 7\n",
            "total  413 8\n",
            "total  414 9\n",
            "total  415 10\n",
            "total  416 11\n",
            "total  417 12\n",
            "total  418 13\n",
            "total  419 14\n",
            "total  420 6\n",
            "total  421 7\n",
            "total  422 8\n",
            "total  423 9\n",
            "total  424 10\n",
            "total  425 11\n",
            "total  426 12\n",
            "total  427 13\n",
            "total  428 14\n",
            "total  429 15\n",
            "total  430 7\n",
            "total  431 8\n",
            "total  432 9\n",
            "total  433 10\n",
            "total  434 11\n",
            "total  435 12\n",
            "total  436 13\n",
            "total  437 14\n",
            "total  438 15\n",
            "total  439 16\n",
            "total  440 8\n",
            "total  441 9\n",
            "total  442 10\n",
            "total  443 11\n",
            "total  444 12\n",
            "total  445 13\n",
            "total  446 14\n",
            "total  447 15\n",
            "total  448 16\n",
            "total  449 17\n"
          ]
        }
      ]
    },
    {
      "cell_type": "code",
      "source": [
        "for num in range(150,401):\n",
        "  original=num\n",
        "  total=0\n",
        "while(num>0):\n",
        "      rem1=num%10\n",
        "      num=num//10\n",
        "      total=total+rem1**3\n",
        "if(original==total):\n",
        "    print(\"armstrong number\")\n",
        "else:\n",
        "    print(\"not armstrong number\")"
      ],
      "metadata": {
        "colab": {
          "base_uri": "https://localhost:8080/"
        },
        "id": "1QGPSa-Zhsa_",
        "outputId": "207f5999-0f0c-43ac-a0de-db78a2839673"
      },
      "execution_count": null,
      "outputs": [
        {
          "output_type": "stream",
          "name": "stdout",
          "text": [
            "not armstrong number\n"
          ]
        }
      ]
    },
    {
      "cell_type": "code",
      "source": [
        "i=1\n",
        "while(i<=20):\n",
        "  if(i%2==0):\n",
        "    print(\"number is even\",i)\n",
        "  i+=1"
      ],
      "metadata": {
        "colab": {
          "base_uri": "https://localhost:8080/"
        },
        "id": "R-Nw92aNLi0A",
        "outputId": "f41832e1-4c88-44ca-f39b-778609fe2515"
      },
      "execution_count": null,
      "outputs": [
        {
          "output_type": "stream",
          "name": "stdout",
          "text": [
            "number is even 2\n",
            "number is even 4\n",
            "number is even 6\n",
            "number is even 8\n",
            "number is even 10\n",
            "number is even 12\n",
            "number is even 14\n",
            "number is even 16\n",
            "number is even 18\n",
            "number is even 20\n"
          ]
        }
      ]
    },
    {
      "cell_type": "code",
      "source": [],
      "metadata": {
        "id": "KoRXePwlPV-M"
      },
      "execution_count": null,
      "outputs": []
    }
  ]
}
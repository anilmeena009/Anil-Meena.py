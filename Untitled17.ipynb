{
  "nbformat": 4,
  "nbformat_minor": 0,
  "metadata": {
    "colab": {
      "provenance": [],
      "authorship_tag": "ABX9TyOaf/igFYjc/mzn0U7tlmaU",
      "include_colab_link": true
    },
    "kernelspec": {
      "name": "python3",
      "display_name": "Python 3"
    },
    "language_info": {
      "name": "python"
    }
  },
  "cells": [
    {
      "cell_type": "markdown",
      "metadata": {
        "id": "view-in-github",
        "colab_type": "text"
      },
      "source": [
        "<a href=\"https://colab.research.google.com/github/anilmeena009/Anil-Meena.py/blob/main/Untitled17.ipynb\" target=\"_parent\"><img src=\"https://colab.research.google.com/assets/colab-badge.svg\" alt=\"Open In Colab\"/></a>"
      ]
    },
    {
      "cell_type": "code",
      "execution_count": null,
      "metadata": {
        "id": "XwSMwjnOPnPs"
      },
      "outputs": [],
      "source": [
        "i=100\n",
        "while(i>=70):\n",
        "  print(i)\n",
        "  i-=1"
      ]
    },
    {
      "cell_type": "code",
      "source": [
        "data=\"anil meena\"\n",
        "for i in range(0,len(data)):\n",
        "  print(i,data[i])\n",
        "  i+=1"
      ],
      "metadata": {
        "colab": {
          "base_uri": "https://localhost:8080/"
        },
        "id": "nORp31uzP295",
        "outputId": "14f1427d-66c8-453e-ae09-993310dd8d0a"
      },
      "execution_count": null,
      "outputs": [
        {
          "output_type": "stream",
          "name": "stdout",
          "text": [
            "0 a\n",
            "1 n\n",
            "2 i\n",
            "3 l\n",
            "4  \n",
            "5 m\n",
            "6 e\n",
            "7 e\n",
            "8 n\n",
            "9 a\n"
          ]
        }
      ]
    },
    {
      "cell_type": "code",
      "source": [
        "data=\"anil meena\"\n",
        "i=0\n",
        "while(i<len(data)):\n",
        "  print(\"i==>\",i,data[i])\n",
        "  i+=1"
      ],
      "metadata": {
        "colab": {
          "base_uri": "https://localhost:8080/"
        },
        "id": "HcIQyJ7NQk4R",
        "outputId": "715ce8e0-d12f-4180-8207-d5d9e900977e"
      },
      "execution_count": null,
      "outputs": [
        {
          "output_type": "stream",
          "name": "stdout",
          "text": [
            "i==> 0 a\n",
            "i==> 1 a\n",
            "i==> 2 n\n",
            "i==> 3 i\n",
            "i==> 4 l\n",
            "i==> 5  \n",
            "i==> 6 m\n",
            "i==> 7 e\n",
            "i==> 8 e\n",
            "i==> 9 n\n",
            "i==> 10 a\n"
          ]
        }
      ]
    },
    {
      "cell_type": "code",
      "source": [
        "num=17\n",
        "i=2\n",
        "out=0\n",
        "while(i<num):\n",
        "  if(num%i==0):\n",
        "    out=1\n",
        "    break\n",
        "  i+=1\n",
        "if(out==0):\n",
        "  print(\"number is prime number\")\n",
        "else:\n",
        "  print(\"number is not a prime number\")"
      ],
      "metadata": {
        "colab": {
          "base_uri": "https://localhost:8080/"
        },
        "id": "Ce9alk4JSBKQ",
        "outputId": "1fd49329-c890-4107-c457-d76f055c8835"
      },
      "execution_count": null,
      "outputs": [
        {
          "output_type": "stream",
          "name": "stdout",
          "text": [
            "number is prime number\n"
          ]
        }
      ]
    },
    {
      "cell_type": "code",
      "source": [
        "a=13\n",
        "b=11\n",
        "c=a\n",
        "d=b\n",
        "while(b>0):\n",
        "  rem=a%b\n",
        "  a=b\n",
        "  b=rem\n",
        "lcm=c*d/a\n",
        "print(\"lcm is=>\",lcm)"
      ],
      "metadata": {
        "colab": {
          "base_uri": "https://localhost:8080/"
        },
        "id": "cQ-5dKovctS4",
        "outputId": "1560375d-41fa-4e1e-eaf3-9adfd4c1a83c"
      },
      "execution_count": null,
      "outputs": [
        {
          "output_type": "stream",
          "name": "stdout",
          "text": [
            "lcm is=> 143.0\n"
          ]
        }
      ]
    },
    {
      "cell_type": "code",
      "source": [
        "# factorial\n",
        "n=int(input(\"enter the number:\"))\n",
        "fact=1\n",
        "for i in range (1,n+1):\n",
        "  fact=fact*i\n",
        "print(fact)\n"
      ],
      "metadata": {
        "colab": {
          "base_uri": "https://localhost:8080/"
        },
        "id": "hsSZurWIlIZZ",
        "outputId": "2c18e8d2-f3aa-4455-acd2-26475fc61454"
      },
      "execution_count": null,
      "outputs": [
        {
          "output_type": "stream",
          "name": "stdout",
          "text": [
            "enter the number:10\n",
            "3628800\n"
          ]
        }
      ]
    },
    {
      "cell_type": "code",
      "source": [],
      "metadata": {
        "id": "AKbPTZykl0tL"
      },
      "execution_count": null,
      "outputs": []
    }
  ]
}
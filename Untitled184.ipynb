{
  "nbformat": 4,
  "nbformat_minor": 0,
  "metadata": {
    "colab": {
      "provenance": []
    },
    "kernelspec": {
      "name": "python3",
      "display_name": "Python 3"
    },
    "language_info": {
      "name": "python"
    }
  },
  "cells": [
    {
      "cell_type": "code",
      "execution_count": 1,
      "metadata": {
        "id": "U0YNSK2z_6rn"
      },
      "outputs": [],
      "source": [
        "# Introduction to Python ---->\n",
        "\n",
        "\n",
        "# Fundamentals of Python\n",
        "# (1). Data type\n",
        "# (2). Variable\n",
        "# (3). input() & print()"
      ]
    },
    {
      "cell_type": "code",
      "source": [
        "# (1). Data type\n",
        "# (a). Integer  ----> 34 , -56\n",
        "# (b).Float  ----> 34.89\n",
        "# (c). String  ---> 'sam' , \"sam\" , '''sam'''\n",
        "# (d). Boolean ----> True , False"
      ],
      "metadata": {
        "id": "rX1UXsaWB_8V"
      },
      "execution_count": 2,
      "outputs": []
    },
    {
      "cell_type": "code",
      "source": [
        "# type() ---> Using this method , we can check data type of element ."
      ],
      "metadata": {
        "id": "dQFoO_e2CXBT"
      },
      "execution_count": 3,
      "outputs": []
    },
    {
      "cell_type": "code",
      "source": [
        "type(56)"
      ],
      "metadata": {
        "colab": {
          "base_uri": "https://localhost:8080/"
        },
        "id": "JJh76A_OCjQK",
        "outputId": "8a66e603-f150-4bb5-bae0-6be1e350dee4"
      },
      "execution_count": 4,
      "outputs": [
        {
          "output_type": "execute_result",
          "data": {
            "text/plain": [
              "int"
            ]
          },
          "metadata": {},
          "execution_count": 4
        }
      ]
    },
    {
      "cell_type": "code",
      "source": [
        "type(78.24)"
      ],
      "metadata": {
        "colab": {
          "base_uri": "https://localhost:8080/"
        },
        "id": "0fskOkg-CkBl",
        "outputId": "9f6d1aa1-ca89-4a3e-8446-953ff1e891af"
      },
      "execution_count": 5,
      "outputs": [
        {
          "output_type": "execute_result",
          "data": {
            "text/plain": [
              "float"
            ]
          },
          "metadata": {},
          "execution_count": 5
        }
      ]
    },
    {
      "cell_type": "code",
      "source": [
        "type('sam')"
      ],
      "metadata": {
        "colab": {
          "base_uri": "https://localhost:8080/"
        },
        "id": "2ND-VRhoClMz",
        "outputId": "1273b2f6-7efb-49f2-9b34-3dcc9baa214d"
      },
      "execution_count": 6,
      "outputs": [
        {
          "output_type": "execute_result",
          "data": {
            "text/plain": [
              "str"
            ]
          },
          "metadata": {},
          "execution_count": 6
        }
      ]
    },
    {
      "cell_type": "code",
      "source": [
        "type(5>4)"
      ],
      "metadata": {
        "colab": {
          "base_uri": "https://localhost:8080/"
        },
        "id": "_y3bSgcKCnZ_",
        "outputId": "2ee2df6c-ae89-4d5e-9ab4-09f712caf310"
      },
      "execution_count": 7,
      "outputs": [
        {
          "output_type": "execute_result",
          "data": {
            "text/plain": [
              "bool"
            ]
          },
          "metadata": {},
          "execution_count": 7
        }
      ]
    },
    {
      "cell_type": "code",
      "source": [
        "# Variable ---> This is a container in which we can store our values .\n",
        "a = 56\n",
        "b = 'sam'\n",
        "### a,b = variable\n",
        "\n",
        "# Type of Variable\n",
        "# (1). Global Variable\n",
        "# (2). Local Variable"
      ],
      "metadata": {
        "id": "9QQdK8YBCo2b"
      },
      "execution_count": 8,
      "outputs": []
    },
    {
      "cell_type": "code",
      "source": [
        "# input() ---> This is a predefiend function in python that will take our query and return the output\n",
        "# in string format ."
      ],
      "metadata": {
        "id": "tFG_7pCHDPSx"
      },
      "execution_count": 9,
      "outputs": []
    },
    {
      "cell_type": "code",
      "source": [
        "a = '12'\n",
        "b = '34'\n",
        "c = a + b\n",
        "c"
      ],
      "metadata": {
        "colab": {
          "base_uri": "https://localhost:8080/",
          "height": 35
        },
        "id": "icVFet2KDvof",
        "outputId": "bd62dbcc-d00b-4297-9df6-29f6aee21270"
      },
      "execution_count": 10,
      "outputs": [
        {
          "output_type": "execute_result",
          "data": {
            "text/plain": [
              "'1234'"
            ],
            "application/vnd.google.colaboratory.intrinsic+json": {
              "type": "string"
            }
          },
          "metadata": {},
          "execution_count": 10
        }
      ]
    },
    {
      "cell_type": "code",
      "source": [
        "a = input(\"Enter first number:\")\n",
        "b = input(\"Enter second number:\")\n",
        "c = a + b\n",
        "c"
      ],
      "metadata": {
        "colab": {
          "base_uri": "https://localhost:8080/",
          "height": 70
        },
        "id": "5I-O1eoJDyti",
        "outputId": "3e8ca62b-f753-4aa1-9ad8-43330f52387b"
      },
      "execution_count": 11,
      "outputs": [
        {
          "name": "stdout",
          "output_type": "stream",
          "text": [
            "Enter first number:12\n",
            "Enter second number:34\n"
          ]
        },
        {
          "output_type": "execute_result",
          "data": {
            "text/plain": [
              "'1234'"
            ],
            "application/vnd.google.colaboratory.intrinsic+json": {
              "type": "string"
            }
          },
          "metadata": {},
          "execution_count": 11
        }
      ]
    },
    {
      "cell_type": "code",
      "source": [
        "# type-casting ----> We can change or update one data type to another data type ."
      ],
      "metadata": {
        "id": "ebivghPXD-5I"
      },
      "execution_count": 12,
      "outputs": []
    },
    {
      "cell_type": "code",
      "source": [
        "a = 56\n",
        "print(type(a))\n",
        "b = float(a)\n",
        "print(type(b))\n",
        "c = str(b)\n",
        "print(type(c))"
      ],
      "metadata": {
        "colab": {
          "base_uri": "https://localhost:8080/"
        },
        "id": "OTCm_f5dEICq",
        "outputId": "e09f6816-26c2-4fa4-dafd-43af9204097f"
      },
      "execution_count": 15,
      "outputs": [
        {
          "output_type": "stream",
          "name": "stdout",
          "text": [
            "<class 'int'>\n",
            "<class 'float'>\n",
            "<class 'str'>\n"
          ]
        }
      ]
    },
    {
      "cell_type": "code",
      "source": [
        "a = int(input(\"Enter first number:\"))\n",
        "b = int(input(\"Enter second number:\"))\n",
        "c = a + b\n",
        "c"
      ],
      "metadata": {
        "colab": {
          "base_uri": "https://localhost:8080/"
        },
        "id": "-SpysWNUEKcI",
        "outputId": "61aad63f-92b4-470c-f43a-2b5b3ad51de0"
      },
      "execution_count": 16,
      "outputs": [
        {
          "name": "stdout",
          "output_type": "stream",
          "text": [
            "Enter first number:12\n",
            "Enter second number:34\n"
          ]
        },
        {
          "output_type": "execute_result",
          "data": {
            "text/plain": [
              "46"
            ]
          },
          "metadata": {},
          "execution_count": 16
        }
      ]
    },
    {
      "cell_type": "code",
      "source": [
        "# print() ----> This will execute the query on terminal ."
      ],
      "metadata": {
        "id": "0yYSMvRfEXGu"
      },
      "execution_count": 17,
      "outputs": []
    },
    {
      "cell_type": "code",
      "source": [
        "# Most common used operators in python\n",
        "\n",
        "# (1). Add(+) -----> 5+4 = 9\n",
        "# (2). Substract(-) ---> 5-3 =2\n",
        "# (3). Multiplication(*) ----> 5*2 = 10\n",
        "# (4). Division(/) ---> 5/2 = 2.5\n",
        "# (5). Floor Division(//) ---> 5//2\n",
        "# (6). Module(%) ---> FOr Remainder Calculation ---> 25%10 = 5\n",
        "# (7). Equal to (=) ---> for values assignment ---> a = 5\n",
        "# (8). Equal Equal to(==) ---> for values comparison ---> 'sam'=='mohit'\n",
        "# (9). Not Equal to(!=) ---> Not Equal to ---> 'sam'!='Mohit'\n",
        "# (10). Greater thna (>) ---> 5>4\n",
        "# (11). Less than (<) ---> 3<5\n",
        "# (12). Greater than or Equal to (>=) ---> 5>=5\n",
        "# (13). Less than or Equal to (<=) ---> 4<=5\n",
        "# (14). Power(**) ---> 2**3 = 8"
      ],
      "metadata": {
        "id": "YmLJX3JqEtNB"
      },
      "execution_count": 20,
      "outputs": []
    },
    {
      "cell_type": "code",
      "source": [
        "# # Conditional Statement in python\n",
        "\n",
        "# if\n",
        "\n",
        "# elif           user_query\n",
        "\n",
        "# else"
      ],
      "metadata": {
        "id": "ZCij7pe-FFXU"
      },
      "execution_count": 21,
      "outputs": []
    },
    {
      "cell_type": "code",
      "source": [
        "a = input(\"Enter name:\")\n",
        "if(a=='sam'):\n",
        "  print('yes')\n",
        "elif(a=='raj'):\n",
        "  print('no')\n",
        "else:\n",
        "  print('try again...')"
      ],
      "metadata": {
        "colab": {
          "base_uri": "https://localhost:8080/"
        },
        "id": "gcQv_whpFGK5",
        "outputId": "0b86c387-450d-4c96-a520-a43e90ca1cf3"
      },
      "execution_count": 25,
      "outputs": [
        {
          "output_type": "stream",
          "name": "stdout",
          "text": [
            "Enter name:rahul\n",
            "try again...\n"
          ]
        }
      ]
    },
    {
      "cell_type": "code",
      "source": [
        "# Q.2 Write a program who tell user is child , young or old ."
      ],
      "metadata": {
        "id": "YpGpS-y0HLyf"
      },
      "execution_count": 26,
      "outputs": []
    },
    {
      "cell_type": "code",
      "source": [
        "a = int(input(\"Enter Number:\"))\n",
        "if(0<=a<=20):\n",
        "  print(\"child\")\n",
        "elif(21<=a<=50):\n",
        "  print(\"young\")\n",
        "elif(51<=a<=90):\n",
        "  print(\"old\")\n",
        "else:\n",
        "  print(\"Please enter valid age.....\")"
      ],
      "metadata": {
        "colab": {
          "base_uri": "https://localhost:8080/"
        },
        "id": "l28_HYLPHYqp",
        "outputId": "38bb9685-0d0f-49a1-8520-e864b5108ec6"
      },
      "execution_count": 30,
      "outputs": [
        {
          "output_type": "stream",
          "name": "stdout",
          "text": [
            "Enter Number:1001\n",
            "Please enter valid age.....\n"
          ]
        }
      ]
    },
    {
      "cell_type": "code",
      "source": [
        "# Q.3"
      ],
      "metadata": {
        "id": "z9We1ywLHxWk"
      },
      "execution_count": 31,
      "outputs": []
    },
    {
      "cell_type": "code",
      "source": [
        "print(\"Pizaa-100 , Burgur-50 , Juice-20 , Biryani-100\")\n",
        "a = input(\"Enter your yummy item.....\")\n",
        "\n",
        "if (a == 'Biryani'):\n",
        "  b = int(input(\"Enter total quantity:\"))\n",
        "  print(\"Your yummy item is Biryani.\")\n",
        "  c = b*100\n",
        "  if (c>1000):\n",
        "    print(\"Your 10% discounted price is\" , c-(c*10/100))\n",
        "  else:\n",
        "      print(\"Your total bill is :\" , c)\n"
      ],
      "metadata": {
        "colab": {
          "base_uri": "https://localhost:8080/"
        },
        "id": "3iCjYsc_IDci",
        "outputId": "ea2e4572-61b3-4864-934a-2e09bc49fa17"
      },
      "execution_count": 39,
      "outputs": [
        {
          "output_type": "stream",
          "name": "stdout",
          "text": [
            "Pizaa-100 , Burgur-50 , Juice-20 , Biryani-100\n",
            "Enter your yummy item.....Biryani\n",
            "Enter total quantity:15\n",
            "Your yummy item is Biryani.\n",
            "Your 10% discounted price is 1350.0\n"
          ]
        }
      ]
    },
    {
      "cell_type": "code",
      "source": [],
      "metadata": {
        "id": "OKQphr-IJgxC"
      },
      "execution_count": null,
      "outputs": []
    }
  ]
}
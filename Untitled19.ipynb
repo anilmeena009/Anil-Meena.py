{
  "nbformat": 4,
  "nbformat_minor": 0,
  "metadata": {
    "colab": {
      "provenance": [],
      "authorship_tag": "ABX9TyOImAkom/pQUXzjoD7wAXMO",
      "include_colab_link": true
    },
    "kernelspec": {
      "name": "python3",
      "display_name": "Python 3"
    },
    "language_info": {
      "name": "python"
    }
  },
  "cells": [
    {
      "cell_type": "markdown",
      "metadata": {
        "id": "view-in-github",
        "colab_type": "text"
      },
      "source": [
        "<a href=\"https://colab.research.google.com/github/anilmeena009/Anil-Meena.py/blob/main/Untitled19.ipynb\" target=\"_parent\"><img src=\"https://colab.research.google.com/assets/colab-badge.svg\" alt=\"Open In Colab\"/></a>"
      ]
    },
    {
      "cell_type": "code",
      "execution_count": null,
      "metadata": {
        "colab": {
          "base_uri": "https://localhost:8080/"
        },
        "id": "f1z3MxQRAO4c",
        "outputId": "9f8ad6b5-d57c-4dec-98d5-a83ba0908169"
      },
      "outputs": [
        {
          "output_type": "stream",
          "name": "stdout",
          "text": [
            "A \n",
            "B B \n",
            "C C C \n",
            "D D D D \n",
            "E E E E E \n"
          ]
        }
      ],
      "source": [
        "ch = 65\n",
        "for i in range(1, 6):\n",
        "    for j in range(1, i + 1):\n",
        "        print(chr(ch), end=\" \")\n",
        "    ch += 1\n",
        "    print()"
      ]
    },
    {
      "cell_type": "code",
      "source": [
        "for i in range (1,5):\n",
        "  for j in range(1,5-i):\n",
        "    print(\"\",end=\" \")\n",
        "  for j in range(1,i+1):\n",
        "    print(\"*\",end=\" \")\n",
        "  print(\" \")"
      ],
      "metadata": {
        "colab": {
          "base_uri": "https://localhost:8080/"
        },
        "id": "u4adW5sUDDzU",
        "outputId": "367cc623-42c4-4a9e-ef0a-44f38d57d2fc"
      },
      "execution_count": null,
      "outputs": [
        {
          "output_type": "stream",
          "name": "stdout",
          "text": [
            "   *  \n",
            "  * *  \n",
            " * * *  \n",
            "* * * *  \n"
          ]
        }
      ]
    },
    {
      "cell_type": "code",
      "source": [
        "for i in range (1,5):\n",
        "  for j in range(1,5-i):\n",
        "    print(\" \",end=\" \")\n",
        "  for j in range(1,i+1):\n",
        "    print(\"*\",end=\" \")\n",
        "  print(\" \")"
      ],
      "metadata": {
        "colab": {
          "base_uri": "https://localhost:8080/"
        },
        "id": "aCbxsuJDDGQg",
        "outputId": "75c463fa-f10c-404d-c6ee-4db26e37bda8"
      },
      "execution_count": null,
      "outputs": [
        {
          "output_type": "stream",
          "name": "stdout",
          "text": [
            "      *  \n",
            "    * *  \n",
            "  * * *  \n",
            "* * * *  \n"
          ]
        }
      ]
    },
    {
      "cell_type": "code",
      "source": [
        "for i in range (1,5):\n",
        "  for j in range(1,5-i):\n",
        "    print(\"-\",end=\" \")\n",
        "  for j in range(1,i+1):\n",
        "    print(\"*\",end=\" \")\n",
        "  print(\" \")"
      ],
      "metadata": {
        "colab": {
          "base_uri": "https://localhost:8080/"
        },
        "id": "qy5p5PzOAYeJ",
        "outputId": "6f0f033d-1175-4f05-af6d-e067c113660d"
      },
      "execution_count": null,
      "outputs": [
        {
          "output_type": "stream",
          "name": "stdout",
          "text": [
            "- - - *  \n",
            "- - * *  \n",
            "- * * *  \n",
            "* * * *  \n"
          ]
        }
      ]
    },
    {
      "cell_type": "code",
      "source": [
        "for i in range (4,0,-1):\n",
        "  for j in range(1,5-i):\n",
        "    print(\"-\",end=\" \")\n",
        "  for j in range(1,i+1):\n",
        "    print(\"*\",end=\" \")\n",
        "  print(\" \")"
      ],
      "metadata": {
        "colab": {
          "base_uri": "https://localhost:8080/"
        },
        "id": "clCFij8lDuzR",
        "outputId": "8845e50d-8884-4fb9-ac8a-c617c90f53b6"
      },
      "execution_count": null,
      "outputs": [
        {
          "output_type": "stream",
          "name": "stdout",
          "text": [
            "* * * *  \n",
            "- * * *  \n",
            "- - * *  \n",
            "- - - *  \n"
          ]
        }
      ]
    },
    {
      "cell_type": "code",
      "source": [
        "num=6\n",
        "for i in range(1,num+1):\n",
        "  for j in range(1,i+1):\n",
        "      if(i==6 or j==1 or i==j):\n",
        "        print(\"*\",end=\" \")\n",
        "      else:\n",
        "        print(\"-\",end=\" \")\n",
        "  print(\" \")"
      ],
      "metadata": {
        "colab": {
          "base_uri": "https://localhost:8080/"
        },
        "id": "SGB38M4jE1xw",
        "outputId": "85857337-c3eb-43bd-fdcc-7e57c23e7282"
      },
      "execution_count": null,
      "outputs": [
        {
          "output_type": "stream",
          "name": "stdout",
          "text": [
            "*  \n",
            "* *  \n",
            "* - *  \n",
            "* - - *  \n",
            "* - - - *  \n",
            "* * * * * *  \n"
          ]
        }
      ]
    },
    {
      "cell_type": "code",
      "source": [
        "num=6\n",
        "for i in range(1,num+1):\n",
        "  for j in range(6,i-1,-1):  #(i.7)\n",
        "    if(i==1 or j==6 or i==j):\n",
        "      print(\"*\",end=\" \")\n",
        "    else:\n",
        "      print(\"-\",end=\" \")\n",
        "  i+=1\n",
        "  print(\" \")"
      ],
      "metadata": {
        "colab": {
          "base_uri": "https://localhost:8080/"
        },
        "id": "yrVLpdG0Ika5",
        "outputId": "e86c52a3-c388-4670-949c-06976a43c1f6"
      },
      "execution_count": null,
      "outputs": [
        {
          "output_type": "stream",
          "name": "stdout",
          "text": [
            "* * * * * *  \n",
            "* - - - *  \n",
            "* - - *  \n",
            "* - *  \n",
            "* *  \n",
            "*  \n"
          ]
        }
      ]
    },
    {
      "cell_type": "code",
      "source": [
        "num=6\n",
        "for i in range(6,0,-1):\n",
        "  for j in range(1,i+1):\n",
        "      if(i==6 or j==1 or i==j):\n",
        "        print(\"*\",end=\" \")\n",
        "      else:\n",
        "        print(\"-\",end=\" \")\n",
        "  print(\" \")"
      ],
      "metadata": {
        "colab": {
          "base_uri": "https://localhost:8080/"
        },
        "id": "hq5a4TBeKOCI",
        "outputId": "f5011312-c4b0-411a-9c21-6f61dd9baa4d"
      },
      "execution_count": null,
      "outputs": [
        {
          "output_type": "stream",
          "name": "stdout",
          "text": [
            "* * * * * *  \n",
            "* - - - *  \n",
            "* - - *  \n",
            "* - *  \n",
            "* *  \n",
            "*  \n"
          ]
        }
      ]
    },
    {
      "cell_type": "code",
      "source": [
        "for i in range (1,6):\n",
        "  for j in range(i,5):\n",
        "    print(\"-\",end=\" \")\n",
        "  for j in range(1,i+1):\n",
        "    print(\"*\",end=\" \")\n",
        "  print(\" \")"
      ],
      "metadata": {
        "colab": {
          "base_uri": "https://localhost:8080/"
        },
        "id": "SO1RcT_iMEA-",
        "outputId": "07292af1-ed54-43d9-d908-cb19ed33a0a6"
      },
      "execution_count": null,
      "outputs": [
        {
          "output_type": "stream",
          "name": "stdout",
          "text": [
            "- - - - *  \n",
            "- - - * *  \n",
            "- - * * *  \n",
            "- * * * *  \n",
            "* * * * *  \n"
          ]
        }
      ]
    },
    {
      "cell_type": "code",
      "source": [],
      "metadata": {
        "colab": {
          "base_uri": "https://localhost:8080/"
        },
        "id": "Bq4T-lbKOEhR",
        "outputId": "b4edba54-d880-4db8-e905-af5635d1135e"
      },
      "execution_count": null,
      "outputs": [
        {
          "output_type": "stream",
          "name": "stdout",
          "text": [
            "* * * * *  \n",
            " \n",
            "? * ? ? ?  \n",
            " \n",
            "? ? * ? ?  \n",
            " \n",
            "? ? ? * ?  \n",
            " \n",
            "? ? ? ? *  \n",
            " \n"
          ]
        }
      ]
    }
  ]
}
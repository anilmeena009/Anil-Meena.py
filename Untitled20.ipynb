{
 "cells": [
  {
   "cell_type": "code",
   "execution_count": 4,
   "id": "20bb4f48",
   "metadata": {},
   "outputs": [],
   "source": [
    "# while Loop \n",
    "\n",
    "# (1). Initialization \n",
    "# (2). Condition\n",
    "# (3). Increment or decrement "
   ]
  },
  {
   "cell_type": "code",
   "execution_count": 5,
   "id": "fb470650",
   "metadata": {},
   "outputs": [],
   "source": [
    "# Q.1 Write a program who print from 1 to 5 ? "
   ]
  },
  {
   "cell_type": "code",
   "execution_count": 6,
   "id": "c3f600e0",
   "metadata": {},
   "outputs": [
    {
     "name": "stdout",
     "output_type": "stream",
     "text": [
      "1\n",
      "2\n",
      "3\n",
      "4\n",
      "5\n"
     ]
    }
   ],
   "source": [
    "i = 1     ###Initialization  \n",
    "n = 5\n",
    "while(i<=n):    ##Condition \n",
    "    print(i) \n",
    "    i = i + 1     ##Increment "
   ]
  },
  {
   "cell_type": "code",
   "execution_count": 7,
   "id": "275235df",
   "metadata": {},
   "outputs": [],
   "source": [
    "# step-1 (i=1 , n=5)\n",
    "# while(1<=5):\n",
    "#     print(1) \n",
    "#     i = 1 + 1 = 2\n",
    "\n",
    "# step-2 (i=2 , n=5)\n",
    "# while(2<=5):\n",
    "#     print(2) \n",
    "#     i = 2 + 1 = 3 \n",
    "\n",
    "# step-3 (i=3,n=5)\n",
    "# while(3<=5):\n",
    "#     print(3) \n",
    "#     i = 3 + 1 = 4\n",
    "    \n",
    "# step-4 (i=4,n=5)\n",
    "# while(4<=5):\n",
    "#     print(4) \n",
    "#     i = 4 +1 = 5 \n",
    "\n",
    "# step-5 (i=5 ,n = 5)\n",
    "# while(5<=5):\n",
    "#     print(5) \n",
    "#     i = 5 + 1 = 6 \n",
    "    \n",
    "# step-6(i=6,n=5)\n",
    "# while(6<=5):\n",
    "#     break \n",
    "\n",
    "# Final Output ----> 1,2,3,4,5"
   ]
  },
  {
   "cell_type": "code",
   "execution_count": 8,
   "id": "b17283d4",
   "metadata": {},
   "outputs": [],
   "source": [
    "# Q.2 Write a program who print from 5 to 1 ? "
   ]
  },
  {
   "cell_type": "code",
   "execution_count": 9,
   "id": "92d8a609",
   "metadata": {},
   "outputs": [
    {
     "name": "stdout",
     "output_type": "stream",
     "text": [
      "5\n",
      "4\n",
      "3\n",
      "2\n",
      "1\n"
     ]
    }
   ],
   "source": [
    "i = 5\n",
    "n=  1\n",
    "while(i>=n):\n",
    "    print(i) \n",
    "    i = i - 1 "
   ]
  },
  {
   "cell_type": "code",
   "execution_count": 10,
   "id": "b9885cb6",
   "metadata": {},
   "outputs": [],
   "source": [
    "# # step-1 (i = 5 , n = 1)\n",
    "# while(5>=1):\n",
    "#     print(5) \n",
    "#     i = 5-1 = 4\n",
    "    \n",
    "# # stwp-2 (i=4 , n = 1)\n",
    "# while(4>=1):\n",
    "#     print(4)\n",
    "#     i = 4 - 1 = 3 \n",
    "    \n",
    "# # step-3 (i=3 , n =1)\n",
    "# while(3>=1):\n",
    "#     print(3) \n",
    "#     i = 3-1 = 2 \n",
    "    \n",
    "# # step-4(i=2 , n = 1)\n",
    "# while(2>=1):\n",
    "#     print(2) \n",
    "#     i=  2 - 1 =1 \n",
    "    \n",
    "# # step-5 (i = 1 , n = 1)\n",
    "# while(1>=1):\n",
    "#     print(1)\n",
    "#     i = 1 -1 = 0\n",
    "    \n",
    "# # Output --> 5,4,3,2,1"
   ]
  },
  {
   "cell_type": "code",
   "execution_count": 11,
   "id": "a3c6aed5",
   "metadata": {},
   "outputs": [],
   "source": [
    "# Q.3 Write a program who print sum of 1 to 5 ?\n",
    "# 1,2,3,4,5 ---> 1+2+3+4+5 = 15 "
   ]
  },
  {
   "cell_type": "code",
   "execution_count": 14,
   "id": "83aeca90",
   "metadata": {},
   "outputs": [
    {
     "name": "stdout",
     "output_type": "stream",
     "text": [
      "15\n"
     ]
    }
   ],
   "source": [
    "i = 1   ##initialization \n",
    "n = 5\n",
    "sum = 0 \n",
    "while(i<=n):     ##condition \n",
    "    sum = sum + i \n",
    "    i = i + 1 \n",
    "print(sum)     ##increment"
   ]
  },
  {
   "cell_type": "code",
   "execution_count": null,
   "id": "2cbd354b",
   "metadata": {},
   "outputs": [],
   "source": [
    "# step-1 (i =1, n =5, sum=0)\n",
    "while(1<=5):\n",
    "    sum = 0 + 1 = 1 \n",
    "    i = 1 + 1 = 2 \n",
    "    \n",
    "# step-2(i=2, n=5, sum=1)\n",
    "while(2<=5):\n",
    "    sum = 1 + 2 = 3\n",
    "    i = 2 + 1 = 3 \n",
    "    \n",
    "# step-3 (i=3,n=5,sum=3)\n",
    "while(3<=5):\n",
    "    sum = 3 + 3 = 6 \n",
    "    i = 3 + 1 = 4 \n",
    "    \n",
    "# step-4(i=4, n=5, sum = 6)\n",
    "while(4<=5):\n",
    "    sum = 6 + 4 = 10 \n",
    "    i = 4 + 1 = 5 \n",
    "    \n",
    "# step-5(i=5,sum=10,n=5)\n",
    "while(5<=5):\n",
    "    sum = 10 + 5 = 15\n",
    "    i = 5 + 1 = 6 \n",
    "    \n",
    "# step-6 (i=6 ,n=5 , sum = 15)\n",
    "while(6<=5):\n",
    "    break \n",
    "    \n",
    "Final Output ---> sum = 15"
   ]
  },
  {
   "cell_type": "code",
   "execution_count": null,
   "id": "12048c0c",
   "metadata": {},
   "outputs": [],
   "source": [
    "# Q.4  Write a program who print sum of square from 1 to 4? \n",
    "# 1**2 + 2**2 + 3**2 + 4**2 = 1+4+9+16 = 30 "
   ]
  },
  {
   "cell_type": "code",
   "execution_count": 18,
   "id": "c5425e03",
   "metadata": {},
   "outputs": [
    {
     "name": "stdout",
     "output_type": "stream",
     "text": [
      "30\n"
     ]
    }
   ],
   "source": [
    "i = 1\n",
    "n = 4\n",
    "sum = 0 \n",
    "while(i<=n):\n",
    "    c = i**2\n",
    "    sum = sum + c \n",
    "    i = i + 1\n",
    "print(sum) "
   ]
  },
  {
   "cell_type": "code",
   "execution_count": 19,
   "id": "739615f7",
   "metadata": {},
   "outputs": [],
   "source": [
    "# # step-1 (i=1 , n = 4  , sum= 0)\n",
    "# while(1<=4):\n",
    "#     sum = 0 + (1**2) = 1\n",
    "#     i = 1+1 = 2\n",
    "    \n",
    "# # step-2 (i=2 ,n=4 , sum=1)\n",
    "# while(2<=4):\n",
    "#     sum = 1 + (2**2) = 5 \n",
    "#     i = 2 + 1 = 3 \n",
    "    \n",
    "# # step-3(i=3,n=4,sum=5)\n",
    "# while(3<=4):\n",
    "#     sum = 5 + (3**2) = 5 + 9 = 14\n",
    "#     i = 3 + 1 = 4\n",
    "    \n",
    "# # step-4(i=4,n=4,sum=14)\n",
    "# while(4<=4):\n",
    "#     sum = 14 + (4**2) = 30\n",
    "#     i = 4 + 1 = 5 \n",
    "\n",
    "# # step-5(i=5,n=4,sum=30)\n",
    "# while(5<=4):\n",
    "#     break \n",
    "    \n",
    "# # Final Output ---> sum = 30 "
   ]
  },
  {
   "cell_type": "code",
   "execution_count": 20,
   "id": "77d5e266",
   "metadata": {},
   "outputs": [],
   "source": [
    "# Q.5 Write a program who calculate sum of cube of a given number ? "
   ]
  },
  {
   "cell_type": "code",
   "execution_count": 21,
   "id": "17459579",
   "metadata": {},
   "outputs": [],
   "source": [
    "# 1,2,3 ----> 1**3+2**3+3**3 ---> 1+8+27 = 36 "
   ]
  },
  {
   "cell_type": "code",
   "execution_count": 22,
   "id": "63caf981",
   "metadata": {},
   "outputs": [
    {
     "name": "stdout",
     "output_type": "stream",
     "text": [
      "1\n",
      "9\n",
      "36\n"
     ]
    }
   ],
   "source": [
    "i = 1\n",
    "n = 3\n",
    "sum = 0\n",
    "while(i<=n):\n",
    "    sum = sum + (i**3)\n",
    "    i = i + 1  \n",
    "    print(sum) "
   ]
  },
  {
   "cell_type": "code",
   "execution_count": 24,
   "id": "dbb72516",
   "metadata": {},
   "outputs": [],
   "source": [
    "# ArmStrong Number ---> input numpber = sum of cube \n",
    "# 153 --> 1**3 + 5**3 + 3**3 = 1+125+27 = 152+1 = 153 "
   ]
  },
  {
   "cell_type": "code",
   "execution_count": 28,
   "id": "f4103335",
   "metadata": {},
   "outputs": [
    {
     "name": "stdout",
     "output_type": "stream",
     "text": [
      "153\n",
      "Number is Armstrong\n"
     ]
    }
   ],
   "source": [
    "i = 153 \n",
    "sum = 0 \n",
    "orig = i\n",
    "while(i>0):\n",
    "    sum = sum + (i%10)**3\n",
    "    i = i//10 \n",
    "print(sum) \n",
    "if(orig==sum):\n",
    "    print(\"Number is Armstrong\")\n",
    "else:\n",
    "    print(\"NotArmstrong\")"
   ]
  },
  {
   "cell_type": "code",
   "execution_count": null,
   "id": "22ebc1ff",
   "metadata": {},
   "outputs": [],
   "source": [
    "# step-1  (i = 153 , sum = 0)\n",
    "while(153>0):\n",
    "    sum = 0 + (153%10)**3 = 0 + (3)**3 = 27 \n",
    "    i = 153//10 = 15 \n",
    "    \n",
    "# step-2 (i=15 , sum = 27)\n",
    "while(15>0):\n",
    "    sum = 27 + (15%10)**3 = 27 + (5)**3 = 27 + 125 = 152 \n",
    "    i = 15//10 = 1\n",
    "\n",
    "# step-3 (i = 1 , sum = 152)\n",
    "while(1>0):\n",
    "    sum = 152 + (1%10)**3 = 152 + (1) = 153 \n",
    "    i = 1//10 = 0 \n",
    "\n",
    "# step-4 (i = 0 ,sum = 153)\n",
    "while(0>0):\n",
    "    break \n",
    "    \n",
    "# Final Output ---> 153 "
   ]
  }
 ],
 "metadata": {
  "kernelspec": {
   "display_name": "Python 3 (ipykernel)",
   "language": "python",
   "name": "python3"
  },
  "language_info": {
   "codemirror_mode": {
    "name": "ipython",
    "version": 3
   },
   "file_extension": ".py",
   "mimetype": "text/x-python",
   "name": "python",
   "nbconvert_exporter": "python",
   "pygments_lexer": "ipython3",
   "version": "3.9.12"
  }
 },
 "nbformat": 4,
 "nbformat_minor": 5
}

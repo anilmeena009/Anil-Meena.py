{
  "nbformat": 4,
  "nbformat_minor": 0,
  "metadata": {
    "colab": {
      "provenance": [],
      "authorship_tag": "ABX9TyOcvGr+aYApqDN2v64Qxx1I",
      "include_colab_link": true
    },
    "kernelspec": {
      "name": "python3",
      "display_name": "Python 3"
    },
    "language_info": {
      "name": "python"
    }
  },
  "cells": [
    {
      "cell_type": "markdown",
      "metadata": {
        "id": "view-in-github",
        "colab_type": "text"
      },
      "source": [
        "<a href=\"https://colab.research.google.com/github/anilmeena009/Anil-Meena.py/blob/main/Untitled7.ipynb\" target=\"_parent\"><img src=\"https://colab.research.google.com/assets/colab-badge.svg\" alt=\"Open In Colab\"/></a>"
      ]
    },
    {
      "cell_type": "code",
      "execution_count": null,
      "metadata": {
        "colab": {
          "base_uri": "https://localhost:8080/",
          "height": 36
        },
        "id": "5f33aPVCHbss",
        "outputId": "13a070aa-47c3-40fe-e77d-d27506ca4f37"
      },
      "outputs": [
        {
          "output_type": "execute_result",
          "data": {
            "text/plain": [
              "'rgx'"
            ],
            "application/vnd.google.colaboratory.intrinsic+json": {
              "type": "string"
            }
          },
          "metadata": {},
          "execution_count": 4
        }
      ],
      "source": [
        "company=\"regexsoftware\"\n",
        "company[0:5:2]"
      ]
    },
    {
      "cell_type": "code",
      "source": [
        "company=\"regexsoftware\"\n",
        "company[4:1:-1]"
      ],
      "metadata": {
        "colab": {
          "base_uri": "https://localhost:8080/",
          "height": 36
        },
        "id": "Aa7ABWpvJiLh",
        "outputId": "fa96f8b2-6001-4d65-d454-bfcfedd69af5"
      },
      "execution_count": null,
      "outputs": [
        {
          "output_type": "execute_result",
          "data": {
            "text/plain": [
              "'xeg'"
            ],
            "application/vnd.google.colaboratory.intrinsic+json": {
              "type": "string"
            }
          },
          "metadata": {},
          "execution_count": 5
        }
      ]
    },
    {
      "cell_type": "code",
      "source": [
        "company=\"regexsoftware\"\n",
        "company[-4:-1]"
      ],
      "metadata": {
        "colab": {
          "base_uri": "https://localhost:8080/",
          "height": 36
        },
        "id": "5kneXxZGKm1Y",
        "outputId": "4ed0d5af-951d-4304-e496-4276683907e7"
      },
      "execution_count": null,
      "outputs": [
        {
          "output_type": "execute_result",
          "data": {
            "text/plain": [
              "'war'"
            ],
            "application/vnd.google.colaboratory.intrinsic+json": {
              "type": "string"
            }
          },
          "metadata": {},
          "execution_count": 7
        }
      ]
    },
    {
      "cell_type": "code",
      "source": [
        "company=\"regexsoftware\"\n",
        "company[::-1]"
      ],
      "metadata": {
        "colab": {
          "base_uri": "https://localhost:8080/",
          "height": 36
        },
        "id": "ELaYzaG9LD8J",
        "outputId": "9c8e7061-654a-439c-df9f-cec4f15ca676"
      },
      "execution_count": null,
      "outputs": [
        {
          "output_type": "execute_result",
          "data": {
            "text/plain": [
              "'erawtfosxeger'"
            ],
            "application/vnd.google.colaboratory.intrinsic+json": {
              "type": "string"
            }
          },
          "metadata": {},
          "execution_count": 10
        }
      ]
    },
    {
      "cell_type": "code",
      "source": [
        "company=\"regexsoftware\"\n",
        "company[:-1]"
      ],
      "metadata": {
        "colab": {
          "base_uri": "https://localhost:8080/",
          "height": 36
        },
        "id": "GOQmF_7JLRVQ",
        "outputId": "0fd720ee-b721-4324-c80e-0eafb40bf193"
      },
      "execution_count": null,
      "outputs": [
        {
          "output_type": "execute_result",
          "data": {
            "text/plain": [
              "'regexsoftwar'"
            ],
            "application/vnd.google.colaboratory.intrinsic+json": {
              "type": "string"
            }
          },
          "metadata": {},
          "execution_count": 11
        }
      ]
    },
    {
      "cell_type": "code",
      "source": [
        "# bitwise\n",
        "# number\n",
        "\n",
        "#        8421\n",
        "# 11     1011\n",
        "# 13     1101\n",
        "# ______________________________________\n",
        "# &      1001\n",
        "#        8421(9)\n"
      ],
      "metadata": {
        "colab": {
          "base_uri": "https://localhost:8080/"
        },
        "id": "9vorZ32OLVhv",
        "outputId": "ea666843-04e9-4547-dfb7-7b666bafadcf"
      },
      "execution_count": null,
      "outputs": [
        {
          "output_type": "stream",
          "name": "stdout",
          "text": [
            "15\n",
            "9\n"
          ]
        }
      ]
    },
    {
      "cell_type": "code",
      "source": [
        "a=11\n",
        "b=13\n",
        "result1 = a | b  #bitwise or operator\n",
        "result2= a & b   #bitwise and operator\n",
        "print(result1)\n",
        "print(result2)\n"
      ],
      "metadata": {
        "colab": {
          "base_uri": "https://localhost:8080/"
        },
        "id": "9KvmBcifO76X",
        "outputId": "98ca6e40-e726-44a5-9f6f-0ff787665075"
      },
      "execution_count": null,
      "outputs": [
        {
          "output_type": "stream",
          "name": "stdout",
          "text": [
            "15\n",
            "9\n"
          ]
        }
      ]
    },
    {
      "cell_type": "code",
      "source": [
        "# assignment= bitwise xor operator and bitwise not operator\n",
        "#bitwise shift operator\n",
        "10>>1"
      ],
      "metadata": {
        "colab": {
          "base_uri": "https://localhost:8080/"
        },
        "id": "iRY888goO97m",
        "outputId": "441ce526-7939-4624-fa4b-90efb41ceb60"
      },
      "execution_count": null,
      "outputs": [
        {
          "output_type": "execute_result",
          "data": {
            "text/plain": [
              "5"
            ]
          },
          "metadata": {},
          "execution_count": 26
        }
      ]
    },
    {
      "cell_type": "code",
      "source": [
        "#number * 2**bit [left shit]\n"
      ],
      "metadata": {
        "id": "LCr_wwoSP6ub"
      },
      "execution_count": null,
      "outputs": []
    },
    {
      "cell_type": "code",
      "source": [
        "#number // 2**bit [left shit]\n",
        "# 20 // 2**3\n",
        "# 20//8\n",
        "# 20>>3"
      ],
      "metadata": {
        "id": "XQqVp2odQUPr"
      },
      "execution_count": null,
      "outputs": []
    },
    {
      "cell_type": "code",
      "source": [
        "# what is list data type in python\n",
        "# diff between == and is operator\n",
        "# call by value vs call by reference\n",
        "# what is name space in python\n",
        "# diff between keyword and isidentifier\n",
        "# what is PEP8\n"
      ],
      "metadata": {
        "id": "1aYMc13NQjzv"
      },
      "execution_count": null,
      "outputs": []
    },
    {
      "cell_type": "code",
      "source": [],
      "metadata": {
        "id": "BYJkxjLKPDA7"
      },
      "execution_count": null,
      "outputs": []
    }
  ]
}
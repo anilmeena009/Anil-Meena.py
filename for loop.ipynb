{
 "cells": [
  {
   "cell_type": "code",
   "execution_count": 2,
   "id": "a497237b-ea5a-4279-a528-a84be0c3e72e",
   "metadata": {},
   "outputs": [
    {
     "name": "stdin",
     "output_type": "stream",
     "text": [
      "enter the n number 2\n"
     ]
    },
    {
     "name": "stdout",
     "output_type": "stream",
     "text": [
      "1\n"
     ]
    }
   ],
   "source": [
    "# Write a program to print all natural numbers from 1 to n. – \n",
    "# using for loop\n",
    "\n",
    "n=int(input(\"enter the n number\"))\n",
    "for i in range(1,n):\n",
    "    print(i)"
   ]
  },
  {
   "cell_type": "code",
   "execution_count": 5,
   "id": "b62c2be8-091f-4e9d-8484-79cd1d111c7c",
   "metadata": {},
   "outputs": [
    {
     "name": "stdin",
     "output_type": "stream",
     "text": [
      "enter the n number 5\n"
     ]
    },
    {
     "name": "stdout",
     "output_type": "stream",
     "text": [
      "5\n",
      "4\n",
      "3\n",
      "2\n",
      "1\n"
     ]
    }
   ],
   "source": [
    "# Write a program to print all natural numbers in reverse (from n to 1). –\n",
    "# using for loop\n",
    "n=int(input(\"enter the n number\"))\n",
    "for i in range(n,0,-1):\n",
    "    print(i)"
   ]
  },
  {
   "cell_type": "code",
   "execution_count": 35,
   "id": "167e9608-09dd-4b2e-8d69-f694ae5aae1b",
   "metadata": {},
   "outputs": [
    {
     "name": "stdout",
     "output_type": "stream",
     "text": [
      "1\n"
     ]
    }
   ],
   "source": [
    "# Write a program to print all alphabets from a to z. – \n",
    "# using for loop\n",
    "\n",
    "ch='64'\n",
    "for i in range(1,len(ch)):\n",
    "    \n",
    "    print(i)"
   ]
  },
  {
   "cell_type": "code",
   "execution_count": 8,
   "id": "8a892f79-ca7a-46b2-a414-b4af56ff43ac",
   "metadata": {},
   "outputs": [
    {
     "name": "stdout",
     "output_type": "stream",
     "text": [
      "2 4 6 8 10 12 14 16 18 20 22 24 26 28 30 32 34 36 38 40 42 44 46 48 50 52 54 56 58 60 62 64 66 68 70 72 74 76 78 80 82 84 86 88 90 92 94 96 98 100 "
     ]
    }
   ],
   "source": [
    "# Write a program to print all even numbers between 1 to 100. – using\n",
    "# while loop\n",
    "# n=int(input(\"enter the n number\"))\n",
    "for i in range(1,101):\n",
    "    if(i%2==0):\n",
    "        print(i,end=\" \")\n"
   ]
  },
  {
   "cell_type": "code",
   "execution_count": 31,
   "id": "93e443c7-a91e-4ab6-b28d-065063e4d211",
   "metadata": {},
   "outputs": [
    {
     "name": "stdin",
     "output_type": "stream",
     "text": [
      "enter the n number 5\n"
     ]
    },
    {
     "name": "stdout",
     "output_type": "stream",
     "text": [
      "1 3 sum is=> 4\n"
     ]
    }
   ],
   "source": [
    "n=int(input(\"enter the n number\"))\n",
    "sum=0\n",
    "for i in range(1,n):\n",
    "    if(i%2!=0):\n",
    "        print(i,end=\" \")\n",
    "        sum=sum+i\n",
    "print(\"sum is=>\",sum)\n",
    "        "
   ]
  },
  {
   "cell_type": "code",
   "execution_count": 16,
   "id": "acab1de3-0781-4a4e-92af-6fb1a90528d4",
   "metadata": {},
   "outputs": [
    {
     "name": "stdout",
     "output_type": "stream",
     "text": [
      "digits count 4\n"
     ]
    }
   ],
   "source": [
    "# Write a program to count the number of digits in a number.\n",
    "# using for loop\n",
    "digit=\"1234\"\n",
    "count=0\n",
    "for i in range(0,len(digit)):\n",
    "    digit=i//10\n",
    "    count+=1\n",
    "print(\"digits count\",count)"
   ]
  },
  {
   "cell_type": "code",
   "execution_count": 36,
   "id": "25afea7b-c0b2-4da4-8d75-d2c097c66f5e",
   "metadata": {},
   "outputs": [
    {
     "name": "stdout",
     "output_type": "stream",
     "text": [
      "sum of digits=> 15\n"
     ]
    }
   ],
   "source": [
    "# Write a program to calculate the sum of digits of a number.\n",
    "n=\"12345\"\n",
    "sum=0\n",
    "for i in range(0,len(n)+1):\n",
    "    n=i//10\n",
    "    sum+=i\n",
    "print(\"sum of digits=>\",sum)"
   ]
  },
  {
   "cell_type": "code",
   "execution_count": null,
   "id": "1758fc87-68f2-4418-878d-313e82629369",
   "metadata": {},
   "outputs": [],
   "source": [
    "# Write a program to find the first and last digit of a number.\n",
    "n=\"13579\"\n",
    "f_digit=0\n",
    "s_digit=0\n",
    "end=\n",
    "for i in range(0,len(n)):\n",
    "    "
   ]
  }
 ],
 "metadata": {
  "kernelspec": {
   "display_name": "Python [conda env:base] *",
   "language": "python",
   "name": "conda-base-py"
  },
  "language_info": {
   "codemirror_mode": {
    "name": "ipython",
    "version": 3
   },
   "file_extension": ".py",
   "mimetype": "text/x-python",
   "name": "python",
   "nbconvert_exporter": "python",
   "pygments_lexer": "ipython3",
   "version": "3.12.7"
  }
 },
 "nbformat": 4,
 "nbformat_minor": 5
}

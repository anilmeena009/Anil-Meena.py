{
  "nbformat": 4,
  "nbformat_minor": 0,
  "metadata": {
    "colab": {
      "provenance": [],
      "authorship_tag": "ABX9TyMXDgq4JJJ9UQdKc4QEf/KT",
      "include_colab_link": true
    },
    "kernelspec": {
      "name": "python3",
      "display_name": "Python 3"
    },
    "language_info": {
      "name": "python"
    }
  },
  "cells": [
    {
      "cell_type": "markdown",
      "metadata": {
        "id": "view-in-github",
        "colab_type": "text"
      },
      "source": [
        "<a href=\"https://colab.research.google.com/github/anilmeena009/Anil-Meena.py/blob/main/if-else%20examples%20.ipynb\" target=\"_parent\"><img src=\"https://colab.research.google.com/assets/colab-badge.svg\" alt=\"Open In Colab\"/></a>"
      ]
    },
    {
      "cell_type": "code",
      "execution_count": null,
      "metadata": {
        "colab": {
          "base_uri": "https://localhost:8080/"
        },
        "id": "aQV8yClqZ8Ys",
        "outputId": "3bb73bc0-bd63-4471-a319-543e75be376d"
      },
      "outputs": [
        {
          "output_type": "stream",
          "name": "stdout",
          "text": [
            " my age is : 18\n"
          ]
        }
      ],
      "source": [
        "age=18\n",
        "if(age==18):\n",
        "  print(\" my age is :\",age)"
      ]
    },
    {
      "cell_type": "code",
      "source": [
        "age=17\n",
        "if(age==18):\n",
        "  print(\" my age is :\",age)\n",
        "else:\n",
        "  print(\" input is invalid\")"
      ],
      "metadata": {
        "colab": {
          "base_uri": "https://localhost:8080/"
        },
        "id": "4OM-VZUGaXrU",
        "outputId": "154c1892-32dd-499c-f58f-21484695ff8f"
      },
      "execution_count": null,
      "outputs": [
        {
          "output_type": "stream",
          "name": "stdout",
          "text": [
            " input is invalid\n"
          ]
        }
      ]
    },
    {
      "cell_type": "code",
      "source": [
        "age=18\n",
        "if(age>10 and age==18):\n",
        "  print(\" my age is correct\")\n",
        "else:\n",
        "  print(\" age is incorrect\")"
      ],
      "metadata": {
        "colab": {
          "base_uri": "https://localhost:8080/"
        },
        "id": "-WiLu8rM6Z3M",
        "outputId": "6b927ad7-fec6-457c-9a4d-591b6ff84d28"
      },
      "execution_count": null,
      "outputs": [
        {
          "output_type": "stream",
          "name": "stdout",
          "text": [
            " my age is correct\n"
          ]
        }
      ]
    },
    {
      "cell_type": "code",
      "source": [
        "a=10\n",
        "b=2\n",
        "c=5\n",
        "if (a>b and a>c):\n",
        "  print(\"big number is \",a)\n",
        "elif(b>a and b>c):\n",
        "  print(\"big number. is \",b)\n",
        "else:\n",
        "  print(\"big number is \",c)"
      ],
      "metadata": {
        "colab": {
          "base_uri": "https://localhost:8080/"
        },
        "id": "D4NtrnZw7aM_",
        "outputId": "da0a707e-083e-427d-bf06-1355b8988193"
      },
      "execution_count": null,
      "outputs": [
        {
          "output_type": "stream",
          "name": "stdout",
          "text": [
            "big number is  10\n"
          ]
        }
      ]
    },
    {
      "cell_type": "code",
      "source": [
        "a=-10\n",
        "b=-2\n",
        "c=0\n",
        "if (a<b and a<c):\n",
        "  print(\"big number is \",a)\n",
        "elif(b<a and b<c):\n",
        "  print(\"big number is \",b)\n",
        "else:\n",
        "  print(\"big number is \",c)"
      ],
      "metadata": {
        "colab": {
          "base_uri": "https://localhost:8080/"
        },
        "id": "y-PeNp9IBFk-",
        "outputId": "29f0d452-1f39-436f-b1b1-9fe927b4bf61"
      },
      "execution_count": null,
      "outputs": [
        {
          "output_type": "stream",
          "name": "stdout",
          "text": [
            "big number is  -10\n"
          ]
        }
      ]
    },
    {
      "cell_type": "code",
      "source": [
        "num=12\n",
        "if(num%2==0):\n",
        "  print(\"number is divided by 2\")\n",
        "elif(num%3==0):\n",
        "  print(\"number is divided by 3\")\n",
        "elif(num%6==0):\n",
        "  print(\"number is divided by 6\")\n",
        "else:\n",
        "  print(\"number is not divided by 2,3,6\")"
      ],
      "metadata": {
        "colab": {
          "base_uri": "https://localhost:8080/"
        },
        "id": "Umc8DQaqCXNZ",
        "outputId": "6d23bcdf-36ec-4290-a46a-bd4050830372"
      },
      "execution_count": null,
      "outputs": [
        {
          "output_type": "stream",
          "name": "stdout",
          "text": [
            "number is divided by 2\n"
          ]
        }
      ]
    },
    {
      "cell_type": "code",
      "source": [
        "num=int(input(\"enter the number\"))\n",
        "if(num%2==0):\n",
        "  print(\"number is even\")\n",
        "else:\n",
        "  print(\"number is odd\")"
      ],
      "metadata": {
        "colab": {
          "base_uri": "https://localhost:8080/"
        },
        "id": "LVs_HeBs_pA8",
        "outputId": "e934299b-ea69-484c-c867-0e8ce4a53b77"
      },
      "execution_count": null,
      "outputs": [
        {
          "output_type": "stream",
          "name": "stdout",
          "text": [
            "enter the number13\n",
            "number is odd\n"
          ]
        }
      ]
    },
    {
      "cell_type": "code",
      "source": [
        "a=int(input(\"enter the first number\"))\n",
        "b=int(input(\"enter the second number\"))\n",
        "c=int(input(\"enter the third number\"))\n",
        "if(a>b and a>c):\n",
        "  print(\"largest number is :\",a)\n",
        "elif(b>a and b>c):\n",
        "  print(\"largest number is :\",b)\n",
        "else:\n",
        "  print(\"largest number is :\",c)"
      ],
      "metadata": {
        "colab": {
          "base_uri": "https://localhost:8080/"
        },
        "id": "GMoqVpe4AAJs",
        "outputId": "79c50b11-6309-4c0b-9dbd-258f2be62df9"
      },
      "execution_count": null,
      "outputs": [
        {
          "output_type": "stream",
          "name": "stdout",
          "text": [
            "enter the first number10\n",
            "enter the second number12\n",
            "enter the third number9\n",
            "largest number is : 12\n"
          ]
        }
      ]
    },
    {
      "cell_type": "code",
      "source": [
        "year=int(input(\"enter the year\"))\n",
        "if(year%4==0 and year%400==0):\n",
        "  if(year%100!=0):\n",
        "    print(\"it is a leap year\")\n",
        "  else:\n",
        "      print(\"it is not a leap year\")"
      ],
      "metadata": {
        "colab": {
          "base_uri": "https://localhost:8080/"
        },
        "id": "Uz-7UttoAtXD",
        "outputId": "e0d2c8ee-fdb5-4a5a-c936-d1ca3c6f6be7"
      },
      "execution_count": null,
      "outputs": [
        {
          "output_type": "stream",
          "name": "stdout",
          "text": [
            "enter the year1600\n",
            "it is not a leap year\n"
          ]
        }
      ]
    },
    {
      "cell_type": "code",
      "source": [
        "perc=int(input(\"enter the percentage\"))\n",
        "if(perc>=90):\n",
        "  print(\"grade A\")\n",
        "elif(perc>=80):\n",
        "  print(\"grade B\")\n",
        "elif(perc>=70):\n",
        "  print(\"grade C\")\n",
        "elif(perc>=60):\n",
        "  print(\"grade D\")\n",
        "elif(perc<60):\n",
        "  print(\"grade E\")\n",
        "else:\n",
        "  print(\"Fail\")"
      ],
      "metadata": {
        "colab": {
          "base_uri": "https://localhost:8080/"
        },
        "id": "ohLDd60ABZRT",
        "outputId": "54079d52-db7d-48f3-b040-260840186429"
      },
      "execution_count": null,
      "outputs": [
        {
          "output_type": "stream",
          "name": "stdout",
          "text": [
            "enter the percentage60\n",
            "grade D\n"
          ]
        }
      ]
    },
    {
      "cell_type": "code",
      "source": [
        "letter=input(\"enter the letter\")\n",
        "if(letter==\"a\" or letter==\"e\" or letter==\"i\" or letter==\"o\" or letter==\"u\"):\n",
        "  print(\"it is a vowel\")\n",
        "else:\n",
        "  print(\"it is a consonant\")"
      ],
      "metadata": {
        "colab": {
          "base_uri": "https://localhost:8080/"
        },
        "id": "9Ursk4pWB5Pv",
        "outputId": "34ba7cec-6c73-4aa4-df5f-faf0a41eec65"
      },
      "execution_count": null,
      "outputs": [
        {
          "output_type": "stream",
          "name": "stdout",
          "text": [
            "enter the letterb\n",
            "it is a consonant\n"
          ]
        }
      ]
    },
    {
      "cell_type": "code",
      "source": [
        "a=int(input(\"enter the number:\"))\n",
        "if(0<a):\n",
        "  print(\"number is positive\")\n",
        "elif(a==0):\n",
        "  print(\"number is zero\")\n",
        "else:\n",
        "  print(\"number is negative\")"
      ],
      "metadata": {
        "colab": {
          "base_uri": "https://localhost:8080/"
        },
        "id": "sNTIszMjC0Lq",
        "outputId": "3ea33e36-bd8c-4110-8e72-3e11d1270cb9"
      },
      "execution_count": null,
      "outputs": [
        {
          "output_type": "stream",
          "name": "stdout",
          "text": [
            "enter the number:-1\n",
            "number is negative\n"
          ]
        }
      ]
    },
    {
      "cell_type": "code",
      "source": [
        "num1=int(input(\"enter the number :\"))\n",
        "op=input(\"enter an operator\")\n",
        "num2=int(input(\"enter the number :\"))\n",
        "c=0\n",
        "\n",
        "if(op==\"+\"):\n",
        "  c=num1+num2\n",
        "  print(\"addition is : \",c)\n",
        "elif(op==\"-\"):\n",
        "  c=num1-num2\n",
        "  print(\"substraction is :\",c)\n",
        "elif(op==\"*\"):\n",
        "  c=num1*num2\n",
        "  print(\"multiplication is :\",c)\n",
        "elif(op==\"/\"):\n",
        "  if(num2!=0):\n",
        "    c=num1/num2\n",
        "    print(\"division is :\",c)\n",
        "  else:\n",
        "    print(\"division by zero is not possible\")\n",
        "else:\n",
        "  print(\"invalid operator\")"
      ],
      "metadata": {
        "colab": {
          "base_uri": "https://localhost:8080/"
        },
        "id": "qE_zoJju8l9z",
        "outputId": "bb36f24b-547e-4e11-b94a-649265ba1af6"
      },
      "execution_count": 9,
      "outputs": [
        {
          "output_type": "stream",
          "name": "stdout",
          "text": [
            "enter the number :10\n",
            "enter an operator-\n",
            "enter the number :25\n",
            "substraction is : -15\n"
          ]
        }
      ]
    },
    {
      "cell_type": "code",
      "source": [
        "username=input(\"enter the username:\")\n",
        "password=input(\"enter the password:\")\n",
        "if(username==\"admin\" and password==\"1234\"):\n",
        "  print(\"login succesful\")\n",
        "else:\n",
        "  print(\"login failed\")"
      ],
      "metadata": {
        "colab": {
          "base_uri": "https://localhost:8080/"
        },
        "id": "Mge18ulNC6eV",
        "outputId": "68b36a7b-dbfa-4ffa-8be6-81634a282c79"
      },
      "execution_count": 12,
      "outputs": [
        {
          "output_type": "stream",
          "name": "stdout",
          "text": [
            "enter the username:admin\n",
            "enter the password:1234\n",
            "login succesful\n"
          ]
        }
      ]
    },
    {
      "cell_type": "code",
      "source": [
        "a=int(input(\"enter the number\"))\n",
        "b=int(input(\"enter the number\"))\n",
        "c=int(input(\"enter the number\"))\n",
        "if(a+b>c and b+c>a and c+a>b):\n",
        "  print(\"triangle is valid\")\n",
        "else:\n",
        "  print(\"invalid triangle\")"
      ],
      "metadata": {
        "colab": {
          "base_uri": "https://localhost:8080/"
        },
        "id": "6UvcBVSJEwuz",
        "outputId": "c232fb99-c80c-4d06-c4d8-23bc03c11db7"
      },
      "execution_count": 19,
      "outputs": [
        {
          "output_type": "stream",
          "name": "stdout",
          "text": [
            "enter the number5\n",
            "enter the number2\n",
            "enter the number3\n",
            "invalid triangle\n"
          ]
        }
      ]
    }
  ]
}
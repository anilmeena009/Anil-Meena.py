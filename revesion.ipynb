{
  "nbformat": 4,
  "nbformat_minor": 0,
  "metadata": {
    "colab": {
      "provenance": [],
      "authorship_tag": "ABX9TyMb/alZAyvXx5TSEJWik0kA",
      "include_colab_link": true
    },
    "kernelspec": {
      "name": "python3",
      "display_name": "Python 3"
    },
    "language_info": {
      "name": "python"
    }
  },
  "cells": [
    {
      "cell_type": "markdown",
      "metadata": {
        "id": "view-in-github",
        "colab_type": "text"
      },
      "source": [
        "<a href=\"https://colab.research.google.com/github/anilmeena009/Anil-Meena.py/blob/main/revesion.ipynb\" target=\"_parent\"><img src=\"https://colab.research.google.com/assets/colab-badge.svg\" alt=\"Open In Colab\"/></a>"
      ]
    },
    {
      "cell_type": "code",
      "execution_count": null,
      "metadata": {
        "colab": {
          "base_uri": "https://localhost:8080/"
        },
        "id": "4XJHjSpGRRBz",
        "outputId": "fb989701-0f37-4eb6-8e36-26f61015931a"
      },
      "outputs": [
        {
          "output_type": "stream",
          "name": "stdout",
          "text": [
            "16 18 20 22 24 26 28 30 32 34 36 38 40 42 44  \n"
          ]
        }
      ],
      "source": [
        "for i in range(15,46):\n",
        "  if (i%2==0):\n",
        "    print(i,end=\" \")\n",
        "print(\" \")"
      ]
    },
    {
      "cell_type": "code",
      "source": [
        "for i in range(98,47,-1):\n",
        "  if(i%2==0 and i%7==0):\n",
        "    print(i,end=\" \")\n",
        "  # else:\n",
        "  #   print(\"number is not divisible\")"
      ],
      "metadata": {
        "colab": {
          "base_uri": "https://localhost:8080/"
        },
        "id": "njcdZzmprwqv",
        "outputId": "d567e2d8-9013-4c14-a369-09480b1cfc8e"
      },
      "execution_count": null,
      "outputs": [
        {
          "output_type": "stream",
          "name": "stdout",
          "text": [
            "98 84 70 56 "
          ]
        }
      ]
    },
    {
      "cell_type": "code",
      "source": [
        "# 3,17 both are divisibal by 4\n",
        "sum=0\n",
        "for i in range (3,27):\n",
        "  if(i%4==0):\n",
        "    sum=sum+i\n",
        "    print(i)\n",
        "print(\"sum is==>\",sum)"
      ],
      "metadata": {
        "colab": {
          "base_uri": "https://localhost:8080/"
        },
        "id": "_3E3ozdhtmm4",
        "outputId": "daa9fe00-600d-4f1d-e3af-1f6d20fa2f6b"
      },
      "execution_count": null,
      "outputs": [
        {
          "output_type": "stream",
          "name": "stdout",
          "text": [
            "4\n",
            "8\n",
            "12\n",
            "16\n",
            "20\n",
            "24\n",
            "sum is==> 84\n"
          ]
        }
      ]
    },
    {
      "cell_type": "code",
      "source": [
        "num=7\n",
        "count=0\n",
        "for i in range(1,8):\n",
        "  if(num%i==0):\n",
        "    print(i)\n",
        "    count+=1\n",
        "print(\"count is ==>\",count)"
      ],
      "metadata": {
        "colab": {
          "base_uri": "https://localhost:8080/"
        },
        "id": "UQUujfgqthzR",
        "outputId": "d0dea4b8-3936-4fdb-a24a-99ee38aaa520"
      },
      "execution_count": null,
      "outputs": [
        {
          "output_type": "stream",
          "name": "stdout",
          "text": [
            "1\n",
            "7\n",
            "count is ==> 2\n"
          ]
        }
      ]
    },
    {
      "cell_type": "code",
      "source": [
        "s=\"anil\"\n",
        "for i in s:\n",
        "  if \"a\" in i:\n",
        "    print(\"it,s correct\")\n",
        "  print(i)"
      ],
      "metadata": {
        "colab": {
          "base_uri": "https://localhost:8080/"
        },
        "id": "R3bEjD-LwUhR",
        "outputId": "bbb19c57-d50a-48dd-9052-08e4c01a4199"
      },
      "execution_count": null,
      "outputs": [
        {
          "output_type": "stream",
          "name": "stdout",
          "text": [
            "it,s correct\n",
            "a\n",
            "n\n",
            "i\n",
            "l\n"
          ]
        }
      ]
    },
    {
      "cell_type": "code",
      "source": [
        "s=\"anil\"\n",
        "for i in range(0,4):\n",
        "  print(i,s[i])"
      ],
      "metadata": {
        "colab": {
          "base_uri": "https://localhost:8080/"
        },
        "id": "-NXTqnIvw47S",
        "outputId": "582d4d38-bc0a-42fd-d026-c1c719fa5a42"
      },
      "execution_count": null,
      "outputs": [
        {
          "output_type": "stream",
          "name": "stdout",
          "text": [
            "0 a\n",
            "1 n\n",
            "2 i\n",
            "3 l\n"
          ]
        }
      ]
    },
    {
      "cell_type": "code",
      "source": [
        "s=\"anil\"\n",
        "for i in range(0,4):\n",
        "  if (s[i]==\"a\" or s[i]==\"i\"):\n",
        "      print(s[i])"
      ],
      "metadata": {
        "colab": {
          "base_uri": "https://localhost:8080/"
        },
        "id": "a5TKhYUPxbgu",
        "outputId": "93230835-e7e2-48bc-aced-cd9fd9218b4f"
      },
      "execution_count": null,
      "outputs": [
        {
          "output_type": "stream",
          "name": "stdout",
          "text": [
            "a\n",
            "i\n"
          ]
        }
      ]
    },
    {
      "cell_type": "code",
      "source": [
        "for i in range(1,5):\n",
        "  for j in range(1,5):\n",
        "    print(\"*\",end=\" \")\n",
        "  print(\" \")"
      ],
      "metadata": {
        "colab": {
          "base_uri": "https://localhost:8080/"
        },
        "id": "JsZTrLWKk796",
        "outputId": "0b76f350-3df3-4bed-cf1e-52b1fdf45bfa"
      },
      "execution_count": 1,
      "outputs": [
        {
          "output_type": "stream",
          "name": "stdout",
          "text": [
            "* * * *  \n",
            "* * * *  \n",
            "* * * *  \n",
            "* * * *  \n"
          ]
        }
      ]
    },
    {
      "cell_type": "code",
      "source": [
        "for i in range(1,5):\n",
        "  for j in range(1,5):\n",
        "    print(j,end=\" \")\n",
        "  print(\" \")"
      ],
      "metadata": {
        "colab": {
          "base_uri": "https://localhost:8080/"
        },
        "id": "8iBIzrEUk9RC",
        "outputId": "43492ee8-310d-4dd7-bc91-8602692cda8f"
      },
      "execution_count": 4,
      "outputs": [
        {
          "output_type": "stream",
          "name": "stdout",
          "text": [
            "1 2 3 4  \n",
            "1 2 3 4  \n",
            "1 2 3 4  \n",
            "1 2 3 4  \n"
          ]
        }
      ]
    },
    {
      "cell_type": "code",
      "source": [
        "for i in range(1,4):\n",
        "  for j in range(1,4):\n",
        "    print(i,end=\" \")\n",
        "  print(\" \")"
      ],
      "metadata": {
        "colab": {
          "base_uri": "https://localhost:8080/"
        },
        "id": "T9mFnIYmmdIu",
        "outputId": "eb805183-334f-4584-f96b-156054e8d881"
      },
      "execution_count": 9,
      "outputs": [
        {
          "output_type": "stream",
          "name": "stdout",
          "text": [
            "1 1 1  \n",
            "2 2 2  \n",
            "3 3 3  \n"
          ]
        }
      ]
    },
    {
      "cell_type": "code",
      "source": [
        "for i in range(3,0,-1):\n",
        "  for j in range(1,5):\n",
        "    print(i,end=\" \")\n",
        "  print(\" \")\n",
        "\n",
        "\n",
        "print(\"  OR\")\n",
        "\n",
        "k=3\n",
        "for i in range(1,4):\n",
        "  for j in range(1,5):\n",
        "    print(k,end=\" \")\n",
        "  k-=1\n",
        "  print(\" \")\n"
      ],
      "metadata": {
        "colab": {
          "base_uri": "https://localhost:8080/"
        },
        "id": "I3NRezyJpVh0",
        "outputId": "86c3b7c1-1b09-4d18-e186-0901be230f3c"
      },
      "execution_count": 19,
      "outputs": [
        {
          "output_type": "stream",
          "name": "stdout",
          "text": [
            "3 3 3 3  \n",
            "2 2 2 2  \n",
            "1 1 1 1  \n",
            "  OR\n",
            "3 3 3 3  \n",
            "2 2 2 2  \n",
            "1 1 1 1  \n"
          ]
        }
      ]
    },
    {
      "cell_type": "code",
      "source": [
        "\n",
        "for i in range(1,4):\n",
        "  for j in range(2,5):\n",
        "    print(j,end=\" \")\n",
        "  print(\" \")"
      ],
      "metadata": {
        "colab": {
          "base_uri": "https://localhost:8080/"
        },
        "id": "9UnheBUWqqUX",
        "outputId": "628ae0f8-f268-40b6-d711-77c581550a5b"
      },
      "execution_count": 23,
      "outputs": [
        {
          "output_type": "stream",
          "name": "stdout",
          "text": [
            "2 3 4  \n",
            "2 3 4  \n",
            "2 3 4  \n"
          ]
        }
      ]
    },
    {
      "cell_type": "code",
      "source": [
        "x=1\n",
        "for i in range(1,4):\n",
        "  for j in range(1,4):\n",
        "    print(x,end=\" \")\n",
        "    x+=1\n",
        "  print(\" \")"
      ],
      "metadata": {
        "colab": {
          "base_uri": "https://localhost:8080/"
        },
        "id": "6uzG8ZKetAZ3",
        "outputId": "12fef1de-af19-4b55-81ab-e8193a76c68c"
      },
      "execution_count": 28,
      "outputs": [
        {
          "output_type": "stream",
          "name": "stdout",
          "text": [
            "1 2 3  \n",
            "4 5 6  \n",
            "7 8 9  \n"
          ]
        }
      ]
    },
    {
      "cell_type": "code",
      "source": [
        "x=9\n",
        "for i in range(1,4):\n",
        "  for j in range(1,4):\n",
        "    print(x,end=\" \")\n",
        "    x-=1\n",
        "  print(\" \")"
      ],
      "metadata": {
        "colab": {
          "base_uri": "https://localhost:8080/"
        },
        "id": "GU6jMIwrt79C",
        "outputId": "7df42093-4ad2-4222-eaf2-9a5033b9cedc"
      },
      "execution_count": 31,
      "outputs": [
        {
          "output_type": "stream",
          "name": "stdout",
          "text": [
            "9 8 7  \n",
            "6 5 4  \n",
            "3 2 1  \n"
          ]
        }
      ]
    },
    {
      "cell_type": "code",
      "source": [
        "for i in range(1,6):\n",
        "  for j in range(0,i):\n",
        "    print(\"*\",end=\" \")\n",
        "  # i+=1\n",
        "  print(\" \")"
      ],
      "metadata": {
        "colab": {
          "base_uri": "https://localhost:8080/"
        },
        "id": "DBNFH4t9NXFb",
        "outputId": "7bce80ed-b532-4865-b9b3-ec5804523d31"
      },
      "execution_count": 12,
      "outputs": [
        {
          "output_type": "stream",
          "name": "stdout",
          "text": [
            "*  \n",
            "* *  \n",
            "* * *  \n",
            "* * * *  \n",
            "* * * * *  \n"
          ]
        }
      ]
    },
    {
      "cell_type": "code",
      "source": [
        "for i in range(1,5):\n",
        "  for j in range(1,i+1):\n",
        "    print(\"5\",end=\" \")\n",
        "  print(\" \")"
      ],
      "metadata": {
        "colab": {
          "base_uri": "https://localhost:8080/"
        },
        "id": "f8-NkGSENiJn",
        "outputId": "45389d7b-4f49-407e-e9ae-69c4fa8ed7b7"
      },
      "execution_count": 33,
      "outputs": [
        {
          "output_type": "stream",
          "name": "stdout",
          "text": [
            "5  \n",
            "5 5  \n",
            "5 5 5  \n",
            "5 5 5 5  \n"
          ]
        }
      ]
    },
    {
      "cell_type": "code",
      "source": [
        "for i in range(1,4):\n",
        "  for j in range(1,i+1):\n",
        "    print(j,end=\" \")\n",
        "  print(\" \")"
      ],
      "metadata": {
        "colab": {
          "base_uri": "https://localhost:8080/"
        },
        "id": "pgVZfiWMRg0j",
        "outputId": "cc68c0d7-b8f1-4944-eab9-ae036ab2d14d"
      },
      "execution_count": 35,
      "outputs": [
        {
          "output_type": "stream",
          "name": "stdout",
          "text": [
            "1  \n",
            "1 2  \n",
            "1 2 3  \n"
          ]
        }
      ]
    },
    {
      "cell_type": "code",
      "source": [
        "x=7\n",
        "for i in range(1,4):\n",
        "  for j in range(1,i+1):\n",
        "    print(x,end=\" \")\n",
        "    x-=1\n",
        "  print(\" \")"
      ],
      "metadata": {
        "colab": {
          "base_uri": "https://localhost:8080/"
        },
        "id": "jYhsQkvvSkZQ",
        "outputId": "99ad6457-0657-4e8c-dfd7-279b3d845bf7"
      },
      "execution_count": 51,
      "outputs": [
        {
          "output_type": "stream",
          "name": "stdout",
          "text": [
            "7  \n",
            "6 5  \n",
            "4 3 2  \n"
          ]
        }
      ]
    },
    {
      "cell_type": "code",
      "source": [
        "x=7\n",
        "for i in range(1,5):\n",
        "  for j in range(1,i+1):\n",
        "    print(x,end=\" \")\n",
        "  x-=1\n",
        "  print(\" \")"
      ],
      "metadata": {
        "colab": {
          "base_uri": "https://localhost:8080/"
        },
        "id": "k012J-4KVfnX",
        "outputId": "ce5bdf02-2221-4ba4-a7f9-b556a301c36c"
      },
      "execution_count": 55,
      "outputs": [
        {
          "output_type": "stream",
          "name": "stdout",
          "text": [
            "7  \n",
            "6 6  \n",
            "5 5 5  \n",
            "4 4 4 4  \n"
          ]
        }
      ]
    }
  ]
}
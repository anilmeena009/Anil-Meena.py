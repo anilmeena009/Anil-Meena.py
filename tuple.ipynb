{
  "nbformat": 4,
  "nbformat_minor": 0,
  "metadata": {
    "colab": {
      "provenance": [],
      "authorship_tag": "ABX9TyNRA9sp6XOpbPp2ESCbc/rg",
      "include_colab_link": true
    },
    "kernelspec": {
      "name": "python3",
      "display_name": "Python 3"
    },
    "language_info": {
      "name": "python"
    }
  },
  "cells": [
    {
      "cell_type": "markdown",
      "metadata": {
        "id": "view-in-github",
        "colab_type": "text"
      },
      "source": [
        "<a href=\"https://colab.research.google.com/github/anilmeena009/Anil-Meena.py/blob/main/tuple.ipynb\" target=\"_parent\"><img src=\"https://colab.research.google.com/assets/colab-badge.svg\" alt=\"Open In Colab\"/></a>"
      ]
    },
    {
      "cell_type": "code",
      "execution_count": null,
      "metadata": {
        "colab": {
          "base_uri": "https://localhost:8080/"
        },
        "id": "fTJYUWIy-N14",
        "outputId": "58b7a1ff-9173-4a88-cf57-b992aa8bb9de"
      },
      "outputs": [
        {
          "output_type": "stream",
          "name": "stdout",
          "text": [
            "<class 'tuple'>\n"
          ]
        }
      ],
      "source": [
        "# tuple is immutable"
      ]
    },
    {
      "cell_type": "code",
      "source": [
        "tup=(10,20,30,40)\n",
        "print(type(tup))"
      ],
      "metadata": {
        "id": "MS0XXAdVAC0U"
      },
      "execution_count": null,
      "outputs": []
    },
    {
      "cell_type": "code",
      "source": [
        "mytuple=(10,20,30,10,10)\n",
        "mytuple.count(10)"
      ],
      "metadata": {
        "id": "shwB48BM_ysD"
      },
      "execution_count": null,
      "outputs": []
    },
    {
      "cell_type": "code",
      "source": [
        "# dictionary\n",
        "# data type\n",
        "# key and value\n",
        "# time complexity\n",
        "# [10,20,30,40] =>[10,abc,20,30,40]\n",
        "# O(n)\n",
        "# dictionary=>no index\n",
        "# key:value\n",
        "# value=> unique/duplicate\n",
        "# ordered collection of element\n"
      ],
      "metadata": {
        "id": "jhdNPcR8-j3j"
      },
      "execution_count": null,
      "outputs": []
    },
    {
      "cell_type": "code",
      "source": [
        "mydictionary={2:\"anil\",4:\"dinesh\"}\n",
        "print(mydictionary)"
      ],
      "metadata": {
        "colab": {
          "base_uri": "https://localhost:8080/"
        },
        "id": "lmf3xS3_Ais5",
        "outputId": "544c818e-698d-445b-9283-7ca0589abc32"
      },
      "execution_count": null,
      "outputs": [
        {
          "output_type": "stream",
          "name": "stdout",
          "text": [
            "{2: 'anil', 4: 'dinesh'}\n"
          ]
        }
      ]
    },
    {
      "cell_type": "code",
      "source": [
        "mydictionary={2:\"anil\",4:\"dinesh\"}\n",
        "mydictionary[2]"
      ],
      "metadata": {
        "colab": {
          "base_uri": "https://localhost:8080/",
          "height": 36
        },
        "id": "cdkQeQ_xA4Hc",
        "outputId": "8712923f-2080-4bba-9b6f-df3037dd2a3e"
      },
      "execution_count": null,
      "outputs": [
        {
          "output_type": "execute_result",
          "data": {
            "text/plain": [
              "'anil'"
            ],
            "application/vnd.google.colaboratory.intrinsic+json": {
              "type": "string"
            }
          },
          "metadata": {},
          "execution_count": 6
        }
      ]
    },
    {
      "cell_type": "code",
      "source": [
        "mydictionary={2:\"anil\",4:\"dinesh\"}\n",
        "mydictionary[2]=\"anilmeena\"\n",
        "print(mydictionary)"
      ],
      "metadata": {
        "colab": {
          "base_uri": "https://localhost:8080/"
        },
        "id": "qtaBMH0rBBiA",
        "outputId": "a5d3e559-aa6d-47cc-9106-9c41b7da9705"
      },
      "execution_count": null,
      "outputs": [
        {
          "output_type": "stream",
          "name": "stdout",
          "text": [
            "{2: 'anilmeena', 4: 'dinesh'}\n"
          ]
        }
      ]
    },
    {
      "cell_type": "code",
      "source": [
        "mydictionary={2:\"anil\",4:\"dinesh\"}\n",
        "mydictionary[10]=\"anilmeena\"  #insert the value for key 10\n",
        "print(mydictionary)"
      ],
      "metadata": {
        "colab": {
          "base_uri": "https://localhost:8080/"
        },
        "id": "LCPl_E5yBg7T",
        "outputId": "f3eabe47-e2dc-474f-d5fa-34da6d3e6fd4"
      },
      "execution_count": null,
      "outputs": [
        {
          "output_type": "stream",
          "name": "stdout",
          "text": [
            "{2: 'anil', 4: 'dinesh', 10: 'anilmeena'}\n"
          ]
        }
      ]
    },
    {
      "cell_type": "code",
      "source": [
        "mydictionary={2:\"anil\",4:\"dinesh\",\"salary\":80}\n",
        "mydictionary[\"salary\"]=mydictionary[\"salary\"]+5\n",
        "print(mydictionary[\"salary\"])\n",
        "print(mydictionary)"
      ],
      "metadata": {
        "colab": {
          "base_uri": "https://localhost:8080/"
        },
        "id": "sDBMnxWIBu3n",
        "outputId": "2b3cd684-8c70-4c58-9d85-42c296b4fdb3"
      },
      "execution_count": null,
      "outputs": [
        {
          "output_type": "stream",
          "name": "stdout",
          "text": [
            "85\n",
            "{2: 'anil', 4: 'dinesh', 'salary': 85}\n"
          ]
        }
      ]
    },
    {
      "cell_type": "code",
      "source": [
        "mydictionary={2:\"anil\",4:\"dinesh\",\"salary\":80}\n",
        "print(mydictionary.keys())  #for only keys\n",
        "print(mydictionary.values())#for only values\n",
        "print(mydictionary.items())#key and value both in form of tuple"
      ],
      "metadata": {
        "colab": {
          "base_uri": "https://localhost:8080/"
        },
        "id": "lY31O9TwBqfY",
        "outputId": "4350111d-bff2-419a-e6f5-9505f9dedd5b"
      },
      "execution_count": null,
      "outputs": [
        {
          "output_type": "stream",
          "name": "stdout",
          "text": [
            "dict_keys([2, 4, 'salary'])\n",
            "dict_values(['anil', 'dinesh', 80])\n",
            "dict_items([(2, 'anil'), (4, 'dinesh'), ('salary', 80)])\n"
          ]
        }
      ]
    },
    {
      "cell_type": "code",
      "source": [
        "mydictionary={2:\"anil\",4:\"dinesh\",\"salary\":80}\n",
        "for i in mydictionary.keys():\n",
        "  print(i,mydictionary[i])"
      ],
      "metadata": {
        "colab": {
          "base_uri": "https://localhost:8080/"
        },
        "id": "098s3Z4fDB5v",
        "outputId": "ab026525-9014-4f01-fe37-568fcbcfa7ba"
      },
      "execution_count": null,
      "outputs": [
        {
          "output_type": "stream",
          "name": "stdout",
          "text": [
            "2 anil\n",
            "4 dinesh\n",
            "salary 80\n"
          ]
        }
      ]
    },
    {
      "cell_type": "code",
      "source": [
        "s=\"hey\"\n",
        "dictionary={}#dict[key]=value\n",
        "for i in s:\n",
        "  dictionary[i]=1\n",
        "print(dictionary)"
      ],
      "metadata": {
        "colab": {
          "base_uri": "https://localhost:8080/"
        },
        "id": "6CbAmk9cEnUQ",
        "outputId": "85ea30dd-6cd6-4a1a-e771-d027343db8b8"
      },
      "execution_count": null,
      "outputs": [
        {
          "output_type": "stream",
          "name": "stdout",
          "text": [
            "{'h': 1, 'e': 1, 'y': 1}\n"
          ]
        }
      ]
    },
    {
      "cell_type": "code",
      "source": [
        "s=\"helllo hey\"\n",
        "dictionary1={}\n",
        "total=0\n",
        "for i in s:\n",
        "#  dictionary1[i]=1\n",
        " total+=1\n",
        "dictionary1[\"total\"]=total\n",
        "print(dictionary1)"
      ],
      "metadata": {
        "colab": {
          "base_uri": "https://localhost:8080/"
        },
        "id": "ENs3fbxtGZfh",
        "outputId": "44155181-ca06-447a-8921-c80ec9229278"
      },
      "execution_count": null,
      "outputs": [
        {
          "output_type": "stream",
          "name": "stdout",
          "text": [
            "{} 10\n"
          ]
        }
      ]
    },
    {
      "cell_type": "code",
      "source": [
        "s=\"regex a\"\n",
        "dictionary2={}\n",
        "vowel=0\n",
        "for i in s:\n",
        "  if i in \"aeiou\":\n",
        "print(dictionary2)"
      ],
      "metadata": {
        "id": "BqhqiFSKH-9U"
      },
      "execution_count": null,
      "outputs": []
    },
    {
      "cell_type": "code",
      "source": [
        "s=\"hey hello abhi\"\n",
        "dictionary3={}\n",
        "for i in s:\n",
        "  if i in 'aeiou':\n",
        "    if i not in dictionary3:\n",
        "      mydictionary[i]=1\n",
        "    else:\n",
        "      dictionary3[i]=dictionary3[i]+1\n",
        "\n",
        "print(dictionary3)"
      ],
      "metadata": {
        "colab": {
          "base_uri": "https://localhost:8080/"
        },
        "id": "-L8uIbMsI_J9",
        "outputId": "d9d11952-53b5-486a-958a-936b838adfcc"
      },
      "execution_count": null,
      "outputs": [
        {
          "output_type": "stream",
          "name": "stdout",
          "text": [
            "{}\n"
          ]
        }
      ]
    }
  ]
}
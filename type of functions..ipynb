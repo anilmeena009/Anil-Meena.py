{
  "nbformat": 4,
  "nbformat_minor": 0,
  "metadata": {
    "colab": {
      "provenance": []
    },
    "kernelspec": {
      "name": "python3",
      "display_name": "Python 3"
    },
    "language_info": {
      "name": "python"
    }
  },
  "cells": [
    {
      "cell_type": "code",
      "execution_count": 3,
      "metadata": {
        "colab": {
          "base_uri": "https://localhost:8080/"
        },
        "id": "wlrOqj4ttSa-",
        "outputId": "b98d19ce-e39c-47dc-d950-eea207780200"
      },
      "outputs": [
        {
          "output_type": "stream",
          "name": "stdout",
          "text": [
            "Total= 3\n"
          ]
        }
      ],
      "source": [
        "# Lambda Function  ==> A lambda function can take any number of arguments  but can only have one expression .\n",
        "# syntax : lambda arguments : expression\n",
        "# Ex.1\n",
        "x = lambda a : a + 5\n",
        "# print(\"Total value = \" , x(2))\n",
        "\n",
        "# # Ex.2\n",
        "x = lambda a,b : a*b\n",
        "# print(\"Total product is =\" , x(3,4))\n",
        "\n",
        "# # Ex.3\n",
        "\n",
        "x = lambda a,b,c : a+b-c\n",
        "print(\"Total=\" , x(4,5,6))"
      ]
    },
    {
      "cell_type": "code",
      "source": [
        "# Filter Function ==> The filter function returns an iterator where the items are filtered through a\n",
        "# function to test  , if the item is accepted return true or false .\n",
        "\n",
        "ages = [5,12,17,18,34,67,50]\n",
        "def myFunc(x):\n",
        "    if (x<=18) :\n",
        "        return True\n",
        "    else :\n",
        "        return False\n",
        "\n",
        "kid = list(filter(myFunc , ages))\n",
        "print(kid)"
      ],
      "metadata": {
        "colab": {
          "base_uri": "https://localhost:8080/"
        },
        "id": "FUX4Yi02tzhl",
        "outputId": "b15861c2-a443-4957-8a5f-f6e5751fff78"
      },
      "execution_count": 5,
      "outputs": [
        {
          "output_type": "stream",
          "name": "stdout",
          "text": [
            "[5, 12, 17, 18]\n"
          ]
        }
      ]
    },
    {
      "cell_type": "code",
      "source": [
        "# Map Function()  ==> The map() executes a specified function for each item in a iterable.\n",
        "# The item is sent to the function as parameters.\n",
        "\n",
        "a = [\"3\" , \"45\" , \"89\"]\n",
        "\n",
        "# # method -1\n",
        "print(a)\n",
        "# for i in range(len(a)):\n",
        "#     a[i] = int(a[i])\n",
        "# print(a)\n",
        "\n",
        "\n",
        "# method -2 (by using map function)\n",
        "b = list(map(int , a))\n",
        "print(b)\n"
      ],
      "metadata": {
        "colab": {
          "base_uri": "https://localhost:8080/"
        },
        "id": "HpY_TF6avkAN",
        "outputId": "1171fd29-3686-43ac-9c3a-8411089c18b0"
      },
      "execution_count": 7,
      "outputs": [
        {
          "output_type": "stream",
          "name": "stdout",
          "text": [
            "['3', '45', '89']\n",
            "[3, 45, 89]\n"
          ]
        }
      ]
    },
    {
      "cell_type": "code",
      "source": [
        "a  = [1,2,3,4]\n",
        "print(a)\n",
        "def my_squ(a):\n",
        "  return a**2\n",
        "\n",
        "b = list(map(my_squ , a))\n",
        "print(b)"
      ],
      "metadata": {
        "colab": {
          "base_uri": "https://localhost:8080/"
        },
        "id": "8wIJ7TzDwLH8",
        "outputId": "dfebbfa1-3a42-43e3-b7f5-a2871aadf829"
      },
      "execution_count": 9,
      "outputs": [
        {
          "output_type": "stream",
          "name": "stdout",
          "text": [
            "[1, 2, 3, 4]\n",
            "[1, 4, 9, 16]\n"
          ]
        }
      ]
    },
    {
      "cell_type": "code",
      "source": [],
      "metadata": {
        "id": "bCRruYbewjd0"
      },
      "execution_count": null,
      "outputs": []
    }
  ]
}
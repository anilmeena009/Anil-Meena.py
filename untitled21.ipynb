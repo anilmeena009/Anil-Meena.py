{
  "nbformat": 4,
  "nbformat_minor": 0,
  "metadata": {
    "colab": {
      "provenance": [],
      "authorship_tag": "ABX9TyP+uDNCMkzW17dFqj73JfKO",
      "include_colab_link": true
    },
    "kernelspec": {
      "name": "python3",
      "display_name": "Python 3"
    },
    "language_info": {
      "name": "python"
    }
  },
  "cells": [
    {
      "cell_type": "markdown",
      "metadata": {
        "id": "view-in-github",
        "colab_type": "text"
      },
      "source": [
        "<a href=\"https://colab.research.google.com/github/anilmeena009/Anil-Meena.py/blob/main/untitled21.ipynb\" target=\"_parent\"><img src=\"https://colab.research.google.com/assets/colab-badge.svg\" alt=\"Open In Colab\"/></a>"
      ]
    },
    {
      "cell_type": "code",
      "execution_count": null,
      "metadata": {
        "colab": {
          "base_uri": "https://localhost:8080/"
        },
        "id": "LPuUVvt0BPx1",
        "outputId": "88812429-333a-4d55-f36b-7fc5fbcd1d01"
      },
      "outputs": [
        {
          "output_type": "stream",
          "name": "stdout",
          "text": [
            "value is arm strong number 1\n",
            "value is arm strong number 2\n",
            "value is arm strong number 3\n",
            "value is arm strong number 4\n",
            "value is arm strong number 5\n",
            "value is arm strong number 6\n",
            "value is arm strong number 7\n",
            "value is arm strong number 8\n",
            "value is arm strong number 9\n",
            "value is arm strong number 153\n",
            "value is arm strong number 370\n",
            "value is arm strong number 371\n",
            "value is arm strong number 407\n"
          ]
        }
      ],
      "source": [
        "for i in range (1,1000):\n",
        "  digits=len(str(i))\n",
        "  total=sum(int(digit)**digits for digit in str(i))\n",
        "  if total==i:\n",
        "    print(\"value is arm strong number\",i)\n",
        "  # else:\n",
        "  #     print(\"value is not arm strong number\",i)\n"
      ]
    },
    {
      "cell_type": "code",
      "source": [
        "num=int(input(\"enter the number\"))\n",
        "order=len(str(num))\n",
        "total=sum(int(digit)**order for digit in str(num))\n",
        "if total==num:\n",
        "    print(num,\"is an armstrong number\")\n",
        "else:\n",
        "    print(num,\"is not an armstrong number\")"
      ],
      "metadata": {
        "colab": {
          "base_uri": "https://localhost:8080/"
        },
        "id": "E4AcA66MEsxF",
        "outputId": "c41a3046-92af-4550-d139-d4a1b114b387"
      },
      "execution_count": null,
      "outputs": [
        {
          "output_type": "stream",
          "name": "stdout",
          "text": [
            "enter the number153\n",
            "153 is an armstrong number\n"
          ]
        }
      ]
    },
    {
      "cell_type": "code",
      "source": [
        "n=int(input(\"enter the number\"))\n",
        "for i in range(1,n+1):\n",
        "  if n%i==0:\n",
        "    prime=True\n",
        "    for j in range(2,i):\n",
        "      if i%j==0:\n",
        "          prime=False\n",
        "          break\n",
        "    if  prime:\n",
        "      print(\"number is prime number\",i)\n",
        "  else:\n",
        "    print(\"number is not prime number\")"
      ],
      "metadata": {
        "colab": {
          "base_uri": "https://localhost:8080/"
        },
        "id": "9fuOQj00J_1k",
        "outputId": "075e942a-c9db-4e52-e7e2-63d8a3625d7d"
      },
      "execution_count": null,
      "outputs": [
        {
          "output_type": "stream",
          "name": "stdout",
          "text": [
            "enter the number10\n",
            "number is prime number 1\n",
            "number is prime number 2\n",
            "number is not prime number\n",
            "number is not prime number\n",
            "number is prime number 5\n",
            "number is not prime number\n",
            "number is not prime number\n",
            "number is not prime number\n",
            "number is not prime number\n"
          ]
        }
      ]
    }
  ]
}